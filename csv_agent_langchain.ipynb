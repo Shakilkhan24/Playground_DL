{
  "nbformat": 4,
  "nbformat_minor": 0,
  "metadata": {
    "colab": {
      "provenance": [],
      "authorship_tag": "ABX9TyMsvbqRBwMcYEd0fxZE/Xgp",
      "include_colab_link": true
    },
    "kernelspec": {
      "name": "python3",
      "display_name": "Python 3"
    },
    "language_info": {
      "name": "python"
    }
  },
  "cells": [
    {
      "cell_type": "markdown",
      "metadata": {
        "id": "view-in-github",
        "colab_type": "text"
      },
      "source": [
        "<a href=\"https://colab.research.google.com/github/Shakilkhan24/Playground_DL/blob/main/csv_agent_langchain.ipynb\" target=\"_parent\"><img src=\"https://colab.research.google.com/assets/colab-badge.svg\" alt=\"Open In Colab\"/></a>"
      ]
    },
    {
      "cell_type": "code",
      "execution_count": null,
      "metadata": {
        "id": "9aBvEkha30Oe"
      },
      "outputs": [],
      "source": [
        "!pip install langchain\n",
        "!pip install langchain-openai\n",
        "from langchain_community.document_loaders.csv_loader import CSVLoader"
      ]
    },
    {
      "cell_type": "code",
      "source": [
        "path='/content/weekday.csv'"
      ],
      "metadata": {
        "id": "ZXjjIr7l4L_M"
      },
      "execution_count": 2,
      "outputs": []
    },
    {
      "cell_type": "code",
      "source": [
        "loader = CSVLoader(file_path=path)\n",
        "\n",
        "data = loader.load()"
      ],
      "metadata": {
        "id": "U8C3VTbJ5TCK"
      },
      "execution_count": 3,
      "outputs": []
    },
    {
      "cell_type": "markdown",
      "source": [
        "# basic prompt\n",
        "# We can tell the model how they will generate output exactly in specific way."
      ],
      "metadata": {
        "id": "xJ8y6HRbCPPv"
      }
    },
    {
      "cell_type": "code",
      "source": [
        "from langchain.prompts import PromptTemplate\n",
        "template=\"\"\" Return a list of all columns'dtypes like the func:\n",
        "def func(csv_file):\n",
        "  l=[]\n",
        "  cols=csv_file.columns\n",
        "  for i in cols:\n",
        "    l.append(i.dtype)\n",
        "  return l\n",
        "Remember your output must be a list . If no columns exist, then return an empty list.\n",
        "\"\"\"\n",
        "prompt=PromptTemplate.from_template(\n",
        "    template=template\n",
        ")\n",
        "prompt=prompt.format(data=data)\n"
      ],
      "metadata": {
        "id": "Px1yEyG45PVl"
      },
      "execution_count": 21,
      "outputs": []
    },
    {
      "cell_type": "code",
      "source": [
        "print(prompt)\n"
      ],
      "metadata": {
        "id": "28EzwYUf5tZM"
      },
      "execution_count": null,
      "outputs": []
    },
    {
      "cell_type": "code",
      "source": [
        "from langchain_openai import ChatOpenAI\n",
        "chat = ChatOpenAI(temperature=0.9,api_key=openai_api_key)"
      ],
      "metadata": {
        "id": "CZkn5deU9XAG"
      },
      "execution_count": 28,
      "outputs": []
    },
    {
      "cell_type": "code",
      "source": [
        "answer=chat.invoke(prompt)\n",
        "print(answer)"
      ],
      "metadata": {
        "id": "t4iAlqxW-Bko"
      },
      "execution_count": null,
      "outputs": []
    },
    {
      "cell_type": "code",
      "source": [
        "!pip install langchain_experimental"
      ],
      "metadata": {
        "id": "PkIAfAhx_hET"
      },
      "execution_count": null,
      "outputs": []
    },
    {
      "cell_type": "code",
      "source": [
        "from langchain_experimental.agents import create_csv_agent\n",
        "def csv_enquiry(llm,csv_path,prompt,verbose=True):\n",
        "  agent=create_csv_agent(llm,csv_path,prompt)\n",
        "  return agent.run(prompt)"
      ],
      "metadata": {
        "id": "eCl18qQeA-yU"
      },
      "execution_count": 26,
      "outputs": []
    },
    {
      "cell_type": "code",
      "source": [
        "# anything you can ask to the agent to answer....\n",
        "# like corelation, covariance, mean , meadian , co-linearity , feature importance etc\n",
        "\n",
        "# but the model should be capable for this\n",
        "\n",
        "\n",
        "# so we need to increase the power of llm , then the agent will perform too good probably ..."
      ],
      "metadata": {
        "id": "wdkiB5eOB4kB"
      },
      "execution_count": 29,
      "outputs": []
    }
  ]
}