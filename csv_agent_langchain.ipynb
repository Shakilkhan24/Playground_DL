{
  "nbformat": 4,
  "nbformat_minor": 0,
  "metadata": {
    "colab": {
      "provenance": [],
      "authorship_tag": "ABX9TyNaHlGqZCCy0A+JRxEiDdpN",
      "include_colab_link": true
    },
    "kernelspec": {
      "name": "python3",
      "display_name": "Python 3"
    },
    "language_info": {
      "name": "python"
    }
  },
  "cells": [
    {
      "cell_type": "markdown",
      "metadata": {
        "id": "view-in-github",
        "colab_type": "text"
      },
      "source": [
        "<a href=\"https://colab.research.google.com/github/Shakilkhan24/Playground_DL/blob/main/csv_agent_langchain.ipynb\" target=\"_parent\"><img src=\"https://colab.research.google.com/assets/colab-badge.svg\" alt=\"Open In Colab\"/></a>"
      ]
    },
    {
      "cell_type": "code",
      "execution_count": null,
      "metadata": {
        "id": "hvBnCa1Gh_ll"
      },
      "outputs": [],
      "source": [
        "!pip install langchain\n",
        "!pip install langchain-openai"
      ]
    },
    {
      "cell_type": "code",
      "source": [
        "api_key=''     #openai_api_key from openai"
      ],
      "metadata": {
        "id": "RevscWbmiFFK"
      },
      "execution_count": 2,
      "outputs": []
    },
    {
      "cell_type": "code",
      "source": [
        "!pip install langchain-experimental"
      ],
      "metadata": {
        "id": "83ZzZfESkf9T"
      },
      "execution_count": null,
      "outputs": []
    },
    {
      "cell_type": "code",
      "source": [
        "from langchain.agents.agent_types import AgentType\n",
        "from langchain_experimental.agents.agent_toolkits import create_csv_agent\n",
        "from langchain_openai import ChatOpenAI\n",
        "from langchain.agents import AgentExecutor\n",
        "import pandas as pd\n",
        "\n",
        "class CSVDataAnalyzer:\n",
        "    def __init__(self,csv_path:str):\n",
        "        self.agent = create_csv_agent(\n",
        "            ChatOpenAI(temperature=0.9, model=\"gpt-3.5-turbo-0613\",openai_api_key=api_key),   # llm\n",
        "            csv_path,   # csv_path\n",
        "            verbose=True,\n",
        "            agent_type=AgentType.OPENAI_FUNCTIONS,\n",
        "\n",
        "        )\n",
        "\n",
        "\n",
        "    def run_analysis(self):\n",
        "        while True:\n",
        "            query = input(\"Enter your query (or 'exit' to quit): \")\n",
        "            if query.lower() == \"exit\":\n",
        "                break\n",
        "            result = self.agent.run(query)\n",
        "            print(result)\n",
        "\n",
        "if __name__ == \"__main__\":\n",
        "    csv_path = \"/content/country_full(1).csv\"\n",
        "    analyzer = CSVDataAnalyzer(csv_path)\n",
        "    analyzer.run_analysis()"
      ],
      "metadata": {
        "colab": {
          "base_uri": "https://localhost:8080/"
        },
        "id": "_NPwL3y9iUq8",
        "outputId": "0abeada4-712c-49ca-ccec-df0f496f0913"
      },
      "execution_count": 19,
      "outputs": [
        {
          "name": "stdout",
          "output_type": "stream",
          "text": [
            "Enter your query (or 'exit' to quit): number of columns?\n",
            "\n",
            "\n",
            "\u001b[1m> Entering new AgentExecutor chain...\u001b[0m\n",
            "\u001b[32;1m\u001b[1;3m\n",
            "Invoking: `python_repl_ast` with `{'query': 'len(df.columns)'}`\n",
            "\n",
            "\n",
            "\u001b[0m\u001b[36;1m\u001b[1;3m11\u001b[0m\u001b[32;1m\u001b[1;3mThe number of columns in the dataframe is 11.\u001b[0m\n",
            "\n",
            "\u001b[1m> Finished chain.\u001b[0m\n",
            "The number of columns in the dataframe is 11.\n",
            "Enter your query (or 'exit' to quit): return the columns\n",
            "\n",
            "\n",
            "\u001b[1m> Entering new AgentExecutor chain...\u001b[0m\n",
            "\u001b[32;1m\u001b[1;3mTo return the columns of the dataframe, you can use the `columns` attribute of the dataframe. Here's the code to do it:\n",
            "\n",
            "```python\n",
            "columns = df.columns\n",
            "print(columns)\n",
            "```\n",
            "\n",
            "This will print the list of column names in the dataframe.\u001b[0m\n",
            "\n",
            "\u001b[1m> Finished chain.\u001b[0m\n",
            "To return the columns of the dataframe, you can use the `columns` attribute of the dataframe. Here's the code to do it:\n",
            "\n",
            "```python\n",
            "columns = df.columns\n",
            "print(columns)\n",
            "```\n",
            "\n",
            "This will print the list of column names in the dataframe.\n",
            "Enter your query (or 'exit' to quit): exit\n"
          ]
        }
      ]
    }
  ]
}