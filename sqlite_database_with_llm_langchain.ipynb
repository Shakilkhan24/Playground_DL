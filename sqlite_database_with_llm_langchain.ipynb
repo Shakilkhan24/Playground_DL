{
  "nbformat": 4,
  "nbformat_minor": 0,
  "metadata": {
    "colab": {
      "provenance": [],
      "authorship_tag": "ABX9TyMT5prK8PHVY9fXsj1AOs+j",
      "include_colab_link": true
    },
    "kernelspec": {
      "name": "python3",
      "display_name": "Python 3"
    },
    "language_info": {
      "name": "python"
    }
  },
  "cells": [
    {
      "cell_type": "markdown",
      "metadata": {
        "id": "view-in-github",
        "colab_type": "text"
      },
      "source": [
        "<a href=\"https://colab.research.google.com/github/Shakilkhan24/Playground_DL/blob/main/sqlite_database_with_llm_langchain.ipynb\" target=\"_parent\"><img src=\"https://colab.research.google.com/assets/colab-badge.svg\" alt=\"Open In Colab\"/></a>"
      ]
    },
    {
      "cell_type": "markdown",
      "source": [
        "# sql.py   for resetting db.sqlite\n",
        "\n",
        "\n",
        "\n",
        "```\n",
        "# downloading db.sqlite and saving it for later use cases ...\n",
        "```\n",
        "\n"
      ],
      "metadata": {
        "id": "Z_5mGSmTPWXl"
      }
    },
    {
      "cell_type": "code",
      "execution_count": null,
      "metadata": {
        "id": "E6F0fyecPUUr"
      },
      "outputs": [],
      "source": [
        "import sqlite3\n",
        "from langchain.tools import Tool\n",
        "\n",
        "conn = sqlite3.connect(\"db.sqlite\")    # storage.sqlite\n",
        "\n",
        "\n",
        "\n",
        "# we can have storage.sqlite from different vectorstores like qdrant,pinecone,faiss etc\n",
        "# we can download that , and can use for later\n",
        "\n",
        "\n",
        "def run_sqlite_query(query):\n",
        "    c = conn.cursor()\n",
        "    c.execute(query)\n",
        "    return c.fetchall()\n",
        "\n",
        "\n",
        "run_query_tool = Tool.from_function(\n",
        "    name=\"run_sqlite_query\",\n",
        "    description=\"Run a sqlite query.\",\n",
        "    func=run_sqlite_query\n",
        ")\n"
      ]
    },
    {
      "cell_type": "markdown",
      "source": [
        "# using the function ***run_sqlite_query*** as a tool"
      ],
      "metadata": {
        "id": "mg8cTHAMPlJv"
      }
    },
    {
      "cell_type": "code",
      "source": [
        "# app.py\n",
        "# interacting db.sqlite for retrieving datas from there\n",
        "\n",
        "\n",
        "from langchain.chat_models import ChatOpenAI\n",
        "from langchain.prompts import (\n",
        "    ChatPromptTemplate,\n",
        "    HumanMessagePromptTemplate,\n",
        "    MessagesPlaceholder\n",
        ")\n",
        "from langchain.agents import OpenAIFunctionsAgent, AgentExecutor\n",
        "from dotenv import load_dotenv\n",
        "\n",
        "from tools.sql import run_query_tool\n",
        "\n",
        "\n",
        "load_dotenv()\n",
        "\n",
        "chat = ChatOpenAI()\n",
        "prompt = ChatPromptTemplate(\n",
        "    messages=[\n",
        "        HumanMessagePromptTemplate.from_template(\"{input}\"),\n",
        "        MessagesPlaceholder(variable_name=\"agent_scratchpad\")\n",
        "    ]\n",
        ")\n",
        "\n",
        "tools = [run_query_tool]\n",
        "\n",
        "agent = OpenAIFunctionsAgent(\n",
        "    llm=chat,\n",
        "    prompt=prompt,\n",
        "    tools=tools\n",
        ")\n",
        "\n",
        "agent_executor = AgentExecutor(\n",
        "    agent=agent,\n",
        "    verbose=True,\n",
        "    tools=tools\n",
        ")\n",
        "\n",
        "agent_executor(\"How many users are in the database?\")\n"
      ],
      "metadata": {
        "id": "WSxLNIkXPkh6"
      },
      "execution_count": null,
      "outputs": []
    }
  ]
}