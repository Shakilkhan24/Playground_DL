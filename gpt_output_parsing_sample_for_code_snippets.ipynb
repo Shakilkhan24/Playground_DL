{
  "nbformat": 4,
  "nbformat_minor": 0,
  "metadata": {
    "colab": {
      "provenance": [],
      "authorship_tag": "ABX9TyP7xgrH/BEhnV8dI76enPcK",
      "include_colab_link": true
    },
    "kernelspec": {
      "name": "python3",
      "display_name": "Python 3"
    },
    "language_info": {
      "name": "python"
    }
  },
  "cells": [
    {
      "cell_type": "markdown",
      "metadata": {
        "id": "view-in-github",
        "colab_type": "text"
      },
      "source": [
        "<a href=\"https://colab.research.google.com/github/Shakilkhan24/Playground_DL/blob/main/gpt_output_parsing_sample_for_code_snippets.ipynb\" target=\"_parent\"><img src=\"https://colab.research.google.com/assets/colab-badge.svg\" alt=\"Open In Colab\"/></a>"
      ]
    },
    {
      "cell_type": "markdown",
      "source": [
        "# just for understanding how gpt llm responses against different prompts"
      ],
      "metadata": {
        "id": "CpXNpHeTOpXM"
      }
    },
    {
      "cell_type": "markdown",
      "source": [
        "we didn't test the codes, it's just a sample notebook how we would approach to extract code snippets or outputs from llm responses"
      ],
      "metadata": {
        "id": "0yWQ8pp3PiXt"
      }
    },
    {
      "cell_type": "code",
      "execution_count": null,
      "metadata": {
        "id": "NfP9XhMxJWte"
      },
      "outputs": [],
      "source": [
        "!pip install langchain\n",
        "!pip install langchain-openai"
      ]
    },
    {
      "cell_type": "code",
      "source": [
        "from langchain_openai import ChatOpenAI\n",
        "llm=ChatOpenAI(openai_api_key='',temperature=0.9)\n"
      ],
      "metadata": {
        "id": "uLZc1A_rJa3u"
      },
      "execution_count": 3,
      "outputs": []
    },
    {
      "cell_type": "markdown",
      "source": [
        "# extracting code snippets from llm generated output"
      ],
      "metadata": {
        "id": "W9c3v42yKydY"
      }
    },
    {
      "cell_type": "code",
      "source": [
        "llm.invoke('write a python code for fibonacci number').content\n",
        "\n",
        "\n",
        "\n",
        "\n",
        "\n",
        "# import llm\n",
        "\n",
        "# Prompt input\n",
        "# prompt = input('Enter the prompt: ')\n",
        "\n",
        "# Generate output using LLM\n",
        "# output = llm.generate(prompt)\n",
        "\n",
        "# Rewrite the code snippets\n",
        "# def rewrite_code_snippets(output):\n",
        "#     rewritten_output = output\n",
        "\n",
        "#     # Find code snippets in the output\n",
        "#     code_start = rewritten_output.find('```')\n",
        "#     code_end = rewritten_output.find('```', code_start + 3)\n",
        "\n",
        "#     while code_start != -1 and code_end != -1:\n",
        "#         # Extract code snippet\n",
        "#         code_snippet = rewritten_output[code_start:code_end+3]\n",
        "\n",
        "#         # Extract code language\n",
        "#         language_start = code_snippet.find('```') + 3\n",
        "#         language_end = code_snippet.find('\\n', language_start)\n",
        "#         code_language = code_snippet[language_start:language_end].strip()\n",
        "\n",
        "#         # Rewrite the code snippet\n",
        "#         rewritten_code_snippet = rewrite_single_code_snippet(code_snippet)\n",
        "\n",
        "#         # Replace the original code snippet with the rewritten one\n",
        "#         rewritten_output = rewritten_output[:code_start] + rewritten_code_snippet + rewritten_output[code_end+3:]\n",
        "\n",
        "#         # Find the next code snippet\n",
        "#         code_start = rewritten_output.find('```', code_start + len(rewritten_code_snippet))\n",
        "#         code_end = rewritten_output.find('```', code_start + 3)\n",
        "\n",
        "#     return rewritten_output\n",
        "\n",
        "# def rewrite_single_code_snippet(code_snippet):\n",
        "#     # Rewrite code snippet logic goes here\n",
        "#     # You can use any method or library of your choice to rewrite the code\n",
        "#     # Example: Add a comment to the code snippet\n",
        "#     rewritten_code_snippet = code_snippet.strip() + '\\n# This code snippet has been rewritten'\n",
        "#     return rewritten_code_snippet\n",
        "\n",
        "# # Rewrite code snippets in the output\n",
        "# rewritten_output = rewrite_code_snippets(output)\n",
        "\n",
        "# # Print the rewritten output\n",
        "# print(rewritten_output)"
      ],
      "metadata": {
        "colab": {
          "base_uri": "https://localhost:8080/",
          "height": 89
        },
        "id": "Q4LthTNnG-7q",
        "outputId": "ddec7cfe-ab50-42bb-b3b2-592580df1e58"
      },
      "execution_count": 7,
      "outputs": [
        {
          "output_type": "execute_result",
          "data": {
            "text/plain": [
              "'Here is a Python code for generating Fibonacci numbers:\\n\\n```python\\ndef fibonacci(n):\\n    fib_list = [0, 1]\\n    while len(fib_list) < n:\\n        fib_list.append(fib_list[-1] + fib_list[-2])\\n    return fib_list\\n\\nn = int(input(\"Enter the number of Fibonacci numbers to generate: \"))\\nfibonacci_sequence = fibonacci(n)\\nprint(\"Fibonacci sequence up to\", n, \"numbers:\", fibonacci_sequence)\\n```\\n\\nYou can run this code and enter the number of Fibonacci numbers you want to generate, and it will output the Fibonacci sequence up to that number.'"
            ],
            "application/vnd.google.colaboratory.intrinsic+json": {
              "type": "string"
            }
          },
          "metadata": {},
          "execution_count": 7
        }
      ]
    },
    {
      "cell_type": "markdown",
      "source": [
        "# '''   ''' for code snippet ,but language name should be there... Because Output (INSTEAD OF CODE SNIPPET also in the same string format having ''' ''')"
      ],
      "metadata": {
        "id": "CRUkU4DiJhw1"
      }
    },
    {
      "cell_type": "code",
      "source": [
        "llm.invoke('Create a simple dataframe haing 5 rows').content\n",
        "\n",
        "\n",
        "\n",
        "\n",
        "\n",
        "# import pandas as pd\n",
        "# from io import StringIO\n",
        "\n",
        "# def rewrite_single_code_snippet(code_snippet):\n",
        "#     # Rewrite code snippet logic goes here\n",
        "#     # You can use any method or library of your choice to rewrite the code\n",
        "\n",
        "#     # Check if the code snippet contains a dataframe\n",
        "#     if \"Output:\" in code_snippet:\n",
        "#         try:\n",
        "#             # Extract the dataframe part from the code snippet\n",
        "#             output_start = code_snippet.find(\"Output:\")\n",
        "#             df_part = code_snippet[output_start + len(\"Output:\"):]\n",
        "#             df = pd.read_fwf(StringIO(df_part), header=0, skiprows=1)\n",
        "\n",
        "#             # Convert the dataframe to HTML table\n",
        "#             rewritten_code_snippet = df.to_html(classes=\"table table-striped\", border=0, render_links=True)\n",
        "#         except Exception as e:\n",
        "#             print(f\"Error extracting dataframe: {e}\")\n",
        "#             rewritten_code_snippet = code_snippet.strip() + '\\n# This code snippet has been rewritten'\n",
        "#     else:\n",
        "#         rewritten_code_snippet = code_snippet.strip() + '\\n# This code snippet has been rewritten'\n",
        "\n",
        "#     return rewritten_code_snippet"
      ],
      "metadata": {
        "colab": {
          "base_uri": "https://localhost:8080/",
          "height": 107
        },
        "id": "Se-xcDNBHKhf",
        "outputId": "a13f581d-759d-43b7-b7c2-1fa30908e4b2"
      },
      "execution_count": 9,
      "outputs": [
        {
          "output_type": "execute_result",
          "data": {
            "text/plain": [
              "\"Sure, here is a simple dataframe containing 5 rows in Python:\\n\\n```python\\nimport pandas as pd\\n\\ndata = {\\n    'Name': ['Alice', 'Bob', 'Charlie', 'David', 'Emma'],\\n    'Age': [25, 30, 35, 40, 45],\\n    'City': ['New York', 'Los Angeles', 'Chicago', 'Houston', 'Miami']\\n}\\n\\ndf = pd.DataFrame(data)\\nprint(df)\\n```\\n\\nOutput:\\n\\n```\\n      Name  Age         City\\n0    Alice   25     New York\\n1      Bob   30  Los Angeles\\n2  Charlie   35      Chicago\\n3    David   40      Houston\\n4     Emma   45        Miami\\n``` \\n\\nThis dataframe has 3 columns ('Name', 'Age', 'City') and 5 rows with different values for each column.\""
            ],
            "application/vnd.google.colaboratory.intrinsic+json": {
              "type": "string"
            }
          },
          "metadata": {},
          "execution_count": 9
        }
      ]
    },
    {
      "cell_type": "markdown",
      "source": [
        "# html code extracting"
      ],
      "metadata": {
        "id": "qbW_NL92LVxu"
      }
    },
    {
      "cell_type": "code",
      "source": [
        "llm.invoke('write a simple html code').content\n",
        "\n",
        "\n",
        "# import re\n",
        "\n",
        "# def rewrite_single_code_snippet(code_snippet):\n",
        "#     # Rewrite code snippet logic goes here\n",
        "#     # You can use any method or library of your choice to rewrite the code\n",
        "\n",
        "#     # Check if the code snippet is an HTML code\n",
        "#     if re.search(r'<\\s*?html\\s*?>', code_snippet, re.IGNORECASE):\n",
        "#         try:\n",
        "#             # Extract the HTML part from the code snippet\n",
        "#             html_code = code_snippet.strip()\n",
        "\n",
        "#             # Rewrite the HTML code as desired\n",
        "#             # For example, you can wrap it in a <pre> tag for better formatting\n",
        "#             rewritten_code_snippet = f\"<pre>{html_code}</pre>\"\n",
        "#         except Exception as e:\n",
        "#             print(f\"Error extracting HTML code: {e}\")\n",
        "#             rewritten_code_snippet = code_snippet.strip() + '\\n# This code snippet has been rewritten'\n",
        "#     else:\n",
        "#         rewritten_code_snippet = code_snippet.strip() + '\\n# This code snippet has been rewritten'\n",
        "\n",
        "#     return rewritten_code_snippet\n",
        "\n",
        "\n",
        "\n",
        "\n",
        "\n"
      ],
      "metadata": {
        "colab": {
          "base_uri": "https://localhost:8080/",
          "height": 53
        },
        "id": "qVuA1q5hKGtc",
        "outputId": "fee713f3-f31a-4b1c-db36-f34432ebc801"
      },
      "execution_count": 11,
      "outputs": [
        {
          "output_type": "execute_result",
          "data": {
            "text/plain": [
              "'<!DOCTYPE html>\\n<html>\\n<head>\\n<title>My Simple HTML Page</title>\\n</head>\\n<body>\\n<h1>Welcome to my simple HTML page!</h1>\\n<p>This is just a sample text.</p>\\n</body>\\n</html>'"
            ],
            "application/vnd.google.colaboratory.intrinsic+json": {
              "type": "string"
            }
          },
          "metadata": {},
          "execution_count": 11
        }
      ]
    },
    {
      "cell_type": "code",
      "source": [
        "llm.invoke('Write a simple css code').content\n",
        "\n",
        "\n",
        "\n",
        "# import re\n",
        "\n",
        "# def rewrite_single_code_snippet(code_snippet):\n",
        "#     # Rewrite code snippet logic goes here\n",
        "#     # You can use any method or library of your choice to rewrite the code\n",
        "\n",
        "#     # Check if the code snippet is CSS\n",
        "#     if re.search(r'(\\{|\\}|[a-zA-Z0-9-]+\\s*:\\s*[^;]+;)', code_snippet):\n",
        "#         try:\n",
        "#             # Extract the CSS part from the code snippet\n",
        "#             css_code = code_snippet.strip()\n",
        "\n",
        "#             # Rewrite the CSS code as desired\n",
        "#             # For example, you can wrap it in a <style> tag\n",
        "#             rewritten_code_snippet = f\"<style>{css_code}</style>\"\n",
        "#         except Exception as e:\n",
        "#             print(f\"Error extracting CSS code: {e}\")\n",
        "#             rewritten_code_snippet = code_snippet.strip() + '\\n# This code snippet has been rewritten'\n",
        "\n",
        "#     # Check if the code snippet is JavaScript\n",
        "#     elif re.search(r'(function\\s*\\(|var\\s+\\w+\\s*=\\s*|const\\s+\\w+\\s*=\\s*|let\\s+\\w+\\s*=\\s*)', code_snippet):\n",
        "#         try:\n",
        "#             # Extract the JavaScript part from the code snippet\n",
        "#             js_code = code_snippet.strip()\n",
        "\n",
        "#             # Rewrite the JavaScript code as desired\n",
        "#             # For example, you can wrap it in a <script> tag\n",
        "#             rewritten_code_snippet = f\"<script>{js_code}</script>\"\n",
        "#         except Exception as e:\n",
        "#             print(f\"Error extracting JavaScript code: {e}\")\n",
        "#             rewritten_code_snippet = code_snippet.strip() + '\\n# This code snippet has been rewritten'\n",
        "\n",
        "#     else:\n",
        "#         rewritten_code_snippet = code_snippet.strip() + '\\n# This code snippet has been rewritten'\n",
        "\n",
        "#     return rewritten_code_snippet"
      ],
      "metadata": {
        "colab": {
          "base_uri": "https://localhost:8080/",
          "height": 70
        },
        "id": "5vUPFR9WKKIL",
        "outputId": "c5cf9208-c790-43a3-ca7b-8204a5965449"
      },
      "execution_count": 12,
      "outputs": [
        {
          "output_type": "execute_result",
          "data": {
            "text/plain": [
              "'body {\\n   font-family: Arial, sans-serif;\\n   background-color: #f0f0f0;\\n   color: #333333;\\n}\\n\\nh1 {\\n   font-size: 24px;\\n   color: #0066cc;\\n}\\n\\np {\\n   font-size: 16px;\\n   line-height: 1.5;\\n}\\n\\na {\\n   color: #cc0000;\\n   text-decoration: none;\\n}\\n\\na:hover {\\n   text-decoration: underline;\\n}'"
            ],
            "application/vnd.google.colaboratory.intrinsic+json": {
              "type": "string"
            }
          },
          "metadata": {},
          "execution_count": 12
        }
      ]
    },
    {
      "cell_type": "code",
      "source": [
        "llm.invoke('write a simple java code').content"
      ],
      "metadata": {
        "id": "45uqpA7yLLtp",
        "colab": {
          "base_uri": "https://localhost:8080/",
          "height": 71
        },
        "outputId": "f208473c-e58d-47c2-f5a4-8164dbb3c105"
      },
      "execution_count": 14,
      "outputs": [
        {
          "output_type": "execute_result",
          "data": {
            "text/plain": [
              "'Sure, here is an example of a simple Java code that prints \"Hello, World!\" to the console:\\n\\n```java\\npublic class HelloWorld {\\n    public static void main(String[] args) {\\n        System.out.println(\"Hello, World!\");\\n    }\\n}\\n``` \\n\\nYou can save this code in a file named `HelloWorld.java` and then compile and run it using a Java compiler. This code will print \"Hello, World!\" when executed.'"
            ],
            "application/vnd.google.colaboratory.intrinsic+json": {
              "type": "string"
            }
          },
          "metadata": {},
          "execution_count": 14
        }
      ]
    },
    {
      "cell_type": "code",
      "source": [
        "llm.invoke('can you create a simple neural network code using pytorch?').content"
      ],
      "metadata": {
        "colab": {
          "base_uri": "https://localhost:8080/",
          "height": 142
        },
        "id": "BAeURamXMta2",
        "outputId": "56383fa2-0bcb-4bd3-ea2b-1babd913efb0"
      },
      "execution_count": 15,
      "outputs": [
        {
          "output_type": "execute_result",
          "data": {
            "text/plain": [
              "'Sure, here is an example code that creates a simple neural network using PyTorch:\\n\\n```python\\nimport torch\\nimport torch.nn as nn\\n\\n# Define a simple neural network class\\nclass SimpleNN(nn.Module):\\n    def __init__(self):\\n        super(SimpleNN, self).__init__()\\n        self.fc1 = nn.Linear(784, 128)  # Input size: 28x28 = 784, Output size: 128\\n        self.fc2 = nn.Linear(128, 10)    # Input size: 128, Output size: 10 (number of classes)\\n        \\n    def forward(self, x):\\n        x = torch.flatten(x, 1)          # Flatten input image tensor\\n        x = torch.relu(self.fc1(x))      # Pass through first fully connected layer with ReLU activation\\n        x = self.fc2(x)                  # Pass through second fully connected layer\\n        return x\\n\\n# Create an instance of the SimpleNN class\\nmodel = SimpleNN()\\n\\n# Define a random input tensor\\ninputs = torch.randn(1, 28, 28)\\n\\n# Perform a forward pass through the network\\noutputs = model(inputs)\\nprint(outputs)\\n```\\n\\nThis code defines a simple neural network with one hidden layer and uses the ReLU activation function. It then creates an instance of the `SimpleNN` class, generates a random input tensor, and performs a forward pass through the network to generate output predictions.'"
            ],
            "application/vnd.google.colaboratory.intrinsic+json": {
              "type": "string"
            }
          },
          "metadata": {},
          "execution_count": 15
        }
      ]
    }
  ]
}