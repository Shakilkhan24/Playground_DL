{
  "nbformat": 4,
  "nbformat_minor": 0,
  "metadata": {
    "colab": {
      "provenance": [],
      "authorship_tag": "ABX9TyOehY5BG8MHkU0LvQEprWof",
      "include_colab_link": true
    },
    "kernelspec": {
      "name": "python3",
      "display_name": "Python 3"
    },
    "language_info": {
      "name": "python"
    }
  },
  "cells": [
    {
      "cell_type": "markdown",
      "metadata": {
        "id": "view-in-github",
        "colab_type": "text"
      },
      "source": [
        "<a href=\"https://colab.research.google.com/github/Shakilkhan24/Playground_DL/blob/main/langchain_agent_with_tools.ipynb\" target=\"_parent\"><img src=\"https://colab.research.google.com/assets/colab-badge.svg\" alt=\"Open In Colab\"/></a>"
      ]
    },
    {
      "cell_type": "code",
      "source": [
        "!pip install langchain\n",
        "!pip install langchain-openai\n",
        "!pip install langchain-experimental"
      ],
      "metadata": {
        "id": "2kdFTRac5GbX"
      },
      "execution_count": null,
      "outputs": []
    },
    {
      "cell_type": "code",
      "source": [
        "!pip install langchainhub"
      ],
      "metadata": {
        "id": "zrwBbAyQ6uOn"
      },
      "execution_count": null,
      "outputs": []
    },
    {
      "cell_type": "code",
      "source": [
        "!pip install wikipedia"
      ],
      "metadata": {
        "id": "1RLNZ57u67mC"
      },
      "execution_count": null,
      "outputs": []
    },
    {
      "cell_type": "code",
      "source": [
        "!pip install -U duckduckgo-search"
      ],
      "metadata": {
        "id": "7YQm9AWN7Hdo"
      },
      "execution_count": null,
      "outputs": []
    },
    {
      "cell_type": "code",
      "source": [
        "from langchain.tools import StructuredTool"
      ],
      "metadata": {
        "id": "-jXP7MheA-Re"
      },
      "execution_count": 29,
      "outputs": []
    },
    {
      "cell_type": "code",
      "execution_count": null,
      "metadata": {
        "id": "AVAB0a2D4Snw"
      },
      "outputs": [],
      "source": [
        "import os\n",
        "from langchain.prompts import PromptTemplate\n",
        "from langchain import hub\n",
        "from langchain.agents import Tool, AgentExecutor, create_react_agent,StructuredTool\n",
        "from langchain.tools import DuckDuckGoSearchRun, WikipediaQueryRun\n",
        "from langchain.utilities import WikipediaAPIWrapper\n",
        "from langchain_experimental.tools.python.tool import PythonAstREPLTool\n",
        "from langchain_openai import ChatOpenAI\n",
        "api_key='sk-proj-JU7iMY44eT7jq1tYpLYWT3BlbkFJxNQCnciCwFcjVSuTlPYp'\n",
        "llm = ChatOpenAI(temperature=0,openai_api_key=api_key)\n",
        "\n",
        "template = '''\n",
        "Answer the following question as best you can.\n",
        "Questions: {question}\n",
        "'''\n",
        "prompt_template = PromptTemplate.from_template(template)\n",
        "\n",
        "prompt = hub.pull('hwchase17/react')\n",
        "\n",
        "# Create the tools\n",
        "python_repl = PythonAstREPLTool()\n",
        "python_repl_tool = Tool(\n",
        "    name='Python REPL',\n",
        "    func=python_repl.run,\n",
        "    description='Use when you need to run Python to answer a question. You Should input Python code.'\n",
        ")\n",
        "\n",
        "api_wrapper = WikipediaAPIWrapper()\n",
        "wikipedia = WikipediaQueryRun(api_wrapper=api_wrapper)\n",
        "wikipedia_tool = Tool(\n",
        "    name='Wikipedia',\n",
        "    func=wikipedia.run,\n",
        "    description='Use for when you need to look up a topic, country, or person on Wikipedia.'\n",
        ")\n",
        "\n",
        "search = DuckDuckGoSearchRun()\n",
        "duckduckgo_tool = Tool(\n",
        "    name='DuckDuckGo Search',\n",
        "    func=search.run,\n",
        "    description='Use for when you need to perform an internet search to find information that another tool can not provide.'\n",
        ")\n",
        "\n",
        "tools = [python_repl_tool, wikipedia_tool, duckduckgo_tool]\n",
        "\n",
        "agent = create_react_agent(llm, tools, prompt)\n",
        "agent_executor = AgentExecutor(\n",
        "    agent=agent,\n",
        "    tools=tools,\n",
        "    verbose=True,\n",
        "    handle_parsing_errors=True,\n",
        "    max_iterations=3\n",
        ")\n",
        "\n",
        "# Define the question\n",
        "question = 'What are the next 10 numbers in the Fibonacci sequence starting from 5'\n",
        "\n",
        "output = agent_executor.invoke({'input': prompt_template.format(question=question)})\n",
        "\n",
        "print(output)"
      ]
    },
    {
      "cell_type": "code",
      "source": [
        "print(prompt)"
      ],
      "metadata": {
        "id": "U8KHVoKF7Yh4"
      },
      "execution_count": null,
      "outputs": []
    },
    {
      "cell_type": "code",
      "source": [
        "question='What are the biggest rivers?'\n",
        "output = agent_executor.invoke({'input': prompt_template.format(question=question)})\n",
        "\n",
        "print(output)"
      ],
      "metadata": {
        "id": "Hg6y2xGI7Zqy"
      },
      "execution_count": null,
      "outputs": []
    },
    {
      "cell_type": "code",
      "source": [
        "import torch\n",
        "import torch.nn.functional as F\n",
        "question='transformer large language model, write self attention code'\n",
        "output = agent_executor.invoke({'input': prompt_template.format(question=question)})\n",
        "\n",
        "print(output)"
      ],
      "metadata": {
        "id": "FMXVFJ168xy3"
      },
      "execution_count": null,
      "outputs": []
    },
    {
      "cell_type": "code",
      "source": [
        "from langchain.pydantic_v1 import BaseModel, Field\n",
        "class FINE(BaseModel):\n",
        "  s:str=Field(description='give a string input')\n",
        "\n",
        "def func(s:str):\n",
        "  return len(s)\n",
        "\n",
        "tool = StructuredTool.from_function(\n",
        "    func=func,\n",
        "    name=\"length finder\",\n",
        "    description=\"returning length of string\",\n",
        "    args_schema=FINE,\n",
        "    return_direct=True,\n",
        "    # coroutine= ... <- you can specify an async method if desired as well\n",
        ")"
      ],
      "metadata": {
        "id": "iCAQKP-O9Iy2"
      },
      "execution_count": 38,
      "outputs": []
    },
    {
      "cell_type": "code",
      "source": [
        "tools = [tool]\n",
        "\n",
        "agent = create_react_agent(llm, tools, prompt)\n",
        "agent_executor = AgentExecutor(\n",
        "    agent=agent,\n",
        "    tools=tools,\n",
        "    verbose=True,\n",
        "    handle_parsing_errors=True,\n",
        "    max_iterations=1\n",
        ")"
      ],
      "metadata": {
        "id": "a25KNgYw95OL"
      },
      "execution_count": 44,
      "outputs": []
    },
    {
      "cell_type": "code",
      "source": [
        "question='What are the biggest rivers?'\n",
        "output = agent_executor.invoke({'input': prompt_template.format(question=question)})\n",
        "\n",
        "print(output)"
      ],
      "metadata": {
        "colab": {
          "base_uri": "https://localhost:8080/"
        },
        "id": "PBy0KtpaFiSp",
        "outputId": "9cd0a93c-d801-4db0-e6d8-7cd0c2921ee3"
      },
      "execution_count": 45,
      "outputs": [
        {
          "output_type": "stream",
          "name": "stdout",
          "text": [
            "\n",
            "\n",
            "\u001b[1m> Entering new AgentExecutor chain...\u001b[0m\n",
            "\u001b[32;1m\u001b[1;3mI need to find the length of the input question to determine the answer.\n",
            "Action: length finder\n",
            "Action Input: \"What are the biggest rivers?\"\u001b[0m\u001b[36;1m\u001b[1;3m28\u001b[0m\n",
            "\u001b[32;1m\u001b[1;3m\u001b[0m\n",
            "\n",
            "\u001b[1m> Finished chain.\u001b[0m\n",
            "{'input': '\\nAnswer the following question as best you can.\\nQuestions: What are the biggest rivers?\\n', 'output': 28}\n"
          ]
        }
      ]
    },
    {
      "cell_type": "code",
      "source": [
        "len(question)"
      ],
      "metadata": {
        "colab": {
          "base_uri": "https://localhost:8080/"
        },
        "id": "zPsitRFmGGFH",
        "outputId": "20aad81f-8e4e-4ee9-fd43-c6e41a083750"
      },
      "execution_count": 43,
      "outputs": [
        {
          "output_type": "execute_result",
          "data": {
            "text/plain": [
              "28"
            ]
          },
          "metadata": {},
          "execution_count": 43
        }
      ]
    },
    {
      "cell_type": "code",
      "source": [
        "import numpy as np\n",
        "import pandas as pd\n",
        "from langchain.pydantic_v1 import BaseModel,Field\n",
        "\n",
        "# we could have given a csv url instead\n",
        "# here we just experimented with pydantic and the tool method , experiment purpose actually\n",
        "\n",
        "\n",
        "class Input(BaseModel):\n",
        "  df: str = Field(description='give csv file path')\n",
        "\n",
        "def df_des_finder(df_path: str) -> pd.DataFrame:\n",
        "  df = pd.read_csv(df_path)\n",
        "  return df.describe()\n",
        "\n",
        "tool = StructuredTool.from_function(\n",
        "    func=df_des_finder,\n",
        "    name='description finder',\n",
        "    description='We are going to find the description about the dataframe given ',\n",
        "    args_schema=Input,\n",
        "    return_direct=True\n",
        ")\n",
        "\n",
        "tools = [tool]\n",
        "\n",
        "agent = create_react_agent(llm, tools, prompt)\n",
        "agent_executor = AgentExecutor(\n",
        "    agent=agent,\n",
        "    tools=tools,\n",
        "    verbose=True,\n",
        "    handle_parsing_errors=True,\n",
        "    max_iterations=2\n",
        ")\n",
        "\n",
        "question='the csv file path : /content/size.csv '\n",
        "output = agent_executor.invoke({'input': prompt_template.format(question=question)})\n",
        "\n",
        "print(output)"
      ],
      "metadata": {
        "colab": {
          "base_uri": "https://localhost:8080/",
          "height": 490
        },
        "id": "c43djw2iGILm",
        "outputId": "3845abea-8c1a-4fa5-858c-f379315704c7"
      },
      "execution_count": 65,
      "outputs": [
        {
          "output_type": "stream",
          "name": "stdout",
          "text": [
            "\n",
            "\n",
            "\u001b[1m> Entering new AgentExecutor chain...\u001b[0m\n",
            "\u001b[32;1m\u001b[1;3mI need to find the description of the dataframe in the size.csv file.\n",
            "Action: description finder\n",
            "Action Input: df_path = \"/content/size.csv\"\u001b[0m"
          ]
        },
        {
          "output_type": "error",
          "ename": "FileNotFoundError",
          "evalue": "[Errno 2] No such file or directory: 'df_path = \"/content/size.csv'",
          "traceback": [
            "\u001b[0;31m---------------------------------------------------------------------------\u001b[0m",
            "\u001b[0;31mFileNotFoundError\u001b[0m                         Traceback (most recent call last)",
            "\u001b[0;32m<ipython-input-65-878dc883bb02>\u001b[0m in \u001b[0;36m<cell line: 35>\u001b[0;34m()\u001b[0m\n\u001b[1;32m     33\u001b[0m )\n\u001b[1;32m     34\u001b[0m \u001b[0mquestion\u001b[0m\u001b[0;34m=\u001b[0m\u001b[0;34m'the csv file path : /content/size.csv '\u001b[0m\u001b[0;34m\u001b[0m\u001b[0;34m\u001b[0m\u001b[0m\n\u001b[0;32m---> 35\u001b[0;31m \u001b[0moutput\u001b[0m \u001b[0;34m=\u001b[0m \u001b[0magent_executor\u001b[0m\u001b[0;34m.\u001b[0m\u001b[0minvoke\u001b[0m\u001b[0;34m(\u001b[0m\u001b[0;34m{\u001b[0m\u001b[0;34m'input'\u001b[0m\u001b[0;34m:\u001b[0m \u001b[0mprompt_template\u001b[0m\u001b[0;34m.\u001b[0m\u001b[0mformat\u001b[0m\u001b[0;34m(\u001b[0m\u001b[0mquestion\u001b[0m\u001b[0;34m=\u001b[0m\u001b[0mquestion\u001b[0m\u001b[0;34m)\u001b[0m\u001b[0;34m}\u001b[0m\u001b[0;34m)\u001b[0m\u001b[0;34m\u001b[0m\u001b[0;34m\u001b[0m\u001b[0m\n\u001b[0m\u001b[1;32m     36\u001b[0m \u001b[0;34m\u001b[0m\u001b[0m\n\u001b[1;32m     37\u001b[0m \u001b[0mprint\u001b[0m\u001b[0;34m(\u001b[0m\u001b[0moutput\u001b[0m\u001b[0;34m)\u001b[0m\u001b[0;34m\u001b[0m\u001b[0;34m\u001b[0m\u001b[0m\n",
            "\u001b[0;32m/usr/local/lib/python3.10/dist-packages/langchain/chains/base.py\u001b[0m in \u001b[0;36minvoke\u001b[0;34m(self, input, config, **kwargs)\u001b[0m\n\u001b[1;32m    161\u001b[0m         \u001b[0;32mexcept\u001b[0m \u001b[0mBaseException\u001b[0m \u001b[0;32mas\u001b[0m \u001b[0me\u001b[0m\u001b[0;34m:\u001b[0m\u001b[0;34m\u001b[0m\u001b[0;34m\u001b[0m\u001b[0m\n\u001b[1;32m    162\u001b[0m             \u001b[0mrun_manager\u001b[0m\u001b[0;34m.\u001b[0m\u001b[0mon_chain_error\u001b[0m\u001b[0;34m(\u001b[0m\u001b[0me\u001b[0m\u001b[0;34m)\u001b[0m\u001b[0;34m\u001b[0m\u001b[0;34m\u001b[0m\u001b[0m\n\u001b[0;32m--> 163\u001b[0;31m             \u001b[0;32mraise\u001b[0m \u001b[0me\u001b[0m\u001b[0;34m\u001b[0m\u001b[0;34m\u001b[0m\u001b[0m\n\u001b[0m\u001b[1;32m    164\u001b[0m         \u001b[0mrun_manager\u001b[0m\u001b[0;34m.\u001b[0m\u001b[0mon_chain_end\u001b[0m\u001b[0;34m(\u001b[0m\u001b[0moutputs\u001b[0m\u001b[0;34m)\u001b[0m\u001b[0;34m\u001b[0m\u001b[0;34m\u001b[0m\u001b[0m\n\u001b[1;32m    165\u001b[0m \u001b[0;34m\u001b[0m\u001b[0m\n",
            "\u001b[0;32m/usr/local/lib/python3.10/dist-packages/langchain/chains/base.py\u001b[0m in \u001b[0;36minvoke\u001b[0;34m(self, input, config, **kwargs)\u001b[0m\n\u001b[1;32m    151\u001b[0m             \u001b[0mself\u001b[0m\u001b[0;34m.\u001b[0m\u001b[0m_validate_inputs\u001b[0m\u001b[0;34m(\u001b[0m\u001b[0minputs\u001b[0m\u001b[0;34m)\u001b[0m\u001b[0;34m\u001b[0m\u001b[0;34m\u001b[0m\u001b[0m\n\u001b[1;32m    152\u001b[0m             outputs = (\n\u001b[0;32m--> 153\u001b[0;31m                 \u001b[0mself\u001b[0m\u001b[0;34m.\u001b[0m\u001b[0m_call\u001b[0m\u001b[0;34m(\u001b[0m\u001b[0minputs\u001b[0m\u001b[0;34m,\u001b[0m \u001b[0mrun_manager\u001b[0m\u001b[0;34m=\u001b[0m\u001b[0mrun_manager\u001b[0m\u001b[0;34m)\u001b[0m\u001b[0;34m\u001b[0m\u001b[0;34m\u001b[0m\u001b[0m\n\u001b[0m\u001b[1;32m    154\u001b[0m                 \u001b[0;32mif\u001b[0m \u001b[0mnew_arg_supported\u001b[0m\u001b[0;34m\u001b[0m\u001b[0;34m\u001b[0m\u001b[0m\n\u001b[1;32m    155\u001b[0m                 \u001b[0;32melse\u001b[0m \u001b[0mself\u001b[0m\u001b[0;34m.\u001b[0m\u001b[0m_call\u001b[0m\u001b[0;34m(\u001b[0m\u001b[0minputs\u001b[0m\u001b[0;34m)\u001b[0m\u001b[0;34m\u001b[0m\u001b[0;34m\u001b[0m\u001b[0m\n",
            "\u001b[0;32m/usr/local/lib/python3.10/dist-packages/langchain/agents/agent.py\u001b[0m in \u001b[0;36m_call\u001b[0;34m(self, inputs, run_manager)\u001b[0m\n\u001b[1;32m   1430\u001b[0m         \u001b[0;31m# We now enter the agent loop (until it returns something).\u001b[0m\u001b[0;34m\u001b[0m\u001b[0;34m\u001b[0m\u001b[0m\n\u001b[1;32m   1431\u001b[0m         \u001b[0;32mwhile\u001b[0m \u001b[0mself\u001b[0m\u001b[0;34m.\u001b[0m\u001b[0m_should_continue\u001b[0m\u001b[0;34m(\u001b[0m\u001b[0miterations\u001b[0m\u001b[0;34m,\u001b[0m \u001b[0mtime_elapsed\u001b[0m\u001b[0;34m)\u001b[0m\u001b[0;34m:\u001b[0m\u001b[0;34m\u001b[0m\u001b[0;34m\u001b[0m\u001b[0m\n\u001b[0;32m-> 1432\u001b[0;31m             next_step_output = self._take_next_step(\n\u001b[0m\u001b[1;32m   1433\u001b[0m                 \u001b[0mname_to_tool_map\u001b[0m\u001b[0;34m,\u001b[0m\u001b[0;34m\u001b[0m\u001b[0;34m\u001b[0m\u001b[0m\n\u001b[1;32m   1434\u001b[0m                 \u001b[0mcolor_mapping\u001b[0m\u001b[0;34m,\u001b[0m\u001b[0;34m\u001b[0m\u001b[0;34m\u001b[0m\u001b[0m\n",
            "\u001b[0;32m/usr/local/lib/python3.10/dist-packages/langchain/agents/agent.py\u001b[0m in \u001b[0;36m_take_next_step\u001b[0;34m(self, name_to_tool_map, color_mapping, inputs, intermediate_steps, run_manager)\u001b[0m\n\u001b[1;32m   1136\u001b[0m     ) -> Union[AgentFinish, List[Tuple[AgentAction, str]]]:\n\u001b[1;32m   1137\u001b[0m         return self._consume_next_step(\n\u001b[0;32m-> 1138\u001b[0;31m             [\n\u001b[0m\u001b[1;32m   1139\u001b[0m                 \u001b[0ma\u001b[0m\u001b[0;34m\u001b[0m\u001b[0;34m\u001b[0m\u001b[0m\n\u001b[1;32m   1140\u001b[0m                 for a in self._iter_next_step(\n",
            "\u001b[0;32m/usr/local/lib/python3.10/dist-packages/langchain/agents/agent.py\u001b[0m in \u001b[0;36m<listcomp>\u001b[0;34m(.0)\u001b[0m\n\u001b[1;32m   1136\u001b[0m     ) -> Union[AgentFinish, List[Tuple[AgentAction, str]]]:\n\u001b[1;32m   1137\u001b[0m         return self._consume_next_step(\n\u001b[0;32m-> 1138\u001b[0;31m             [\n\u001b[0m\u001b[1;32m   1139\u001b[0m                 \u001b[0ma\u001b[0m\u001b[0;34m\u001b[0m\u001b[0;34m\u001b[0m\u001b[0m\n\u001b[1;32m   1140\u001b[0m                 for a in self._iter_next_step(\n",
            "\u001b[0;32m/usr/local/lib/python3.10/dist-packages/langchain/agents/agent.py\u001b[0m in \u001b[0;36m_iter_next_step\u001b[0;34m(self, name_to_tool_map, color_mapping, inputs, intermediate_steps, run_manager)\u001b[0m\n\u001b[1;32m   1221\u001b[0m             \u001b[0;32myield\u001b[0m \u001b[0magent_action\u001b[0m\u001b[0;34m\u001b[0m\u001b[0;34m\u001b[0m\u001b[0m\n\u001b[1;32m   1222\u001b[0m         \u001b[0;32mfor\u001b[0m \u001b[0magent_action\u001b[0m \u001b[0;32min\u001b[0m \u001b[0mactions\u001b[0m\u001b[0;34m:\u001b[0m\u001b[0;34m\u001b[0m\u001b[0;34m\u001b[0m\u001b[0m\n\u001b[0;32m-> 1223\u001b[0;31m             yield self._perform_agent_action(\n\u001b[0m\u001b[1;32m   1224\u001b[0m                 \u001b[0mname_to_tool_map\u001b[0m\u001b[0;34m,\u001b[0m \u001b[0mcolor_mapping\u001b[0m\u001b[0;34m,\u001b[0m \u001b[0magent_action\u001b[0m\u001b[0;34m,\u001b[0m \u001b[0mrun_manager\u001b[0m\u001b[0;34m\u001b[0m\u001b[0;34m\u001b[0m\u001b[0m\n\u001b[1;32m   1225\u001b[0m             )\n",
            "\u001b[0;32m/usr/local/lib/python3.10/dist-packages/langchain/agents/agent.py\u001b[0m in \u001b[0;36m_perform_agent_action\u001b[0;34m(self, name_to_tool_map, color_mapping, agent_action, run_manager)\u001b[0m\n\u001b[1;32m   1243\u001b[0m                 \u001b[0mtool_run_kwargs\u001b[0m\u001b[0;34m[\u001b[0m\u001b[0;34m\"llm_prefix\"\u001b[0m\u001b[0;34m]\u001b[0m \u001b[0;34m=\u001b[0m \u001b[0;34m\"\"\u001b[0m\u001b[0;34m\u001b[0m\u001b[0;34m\u001b[0m\u001b[0m\n\u001b[1;32m   1244\u001b[0m             \u001b[0;31m# We then call the tool on the tool input to get an observation\u001b[0m\u001b[0;34m\u001b[0m\u001b[0;34m\u001b[0m\u001b[0m\n\u001b[0;32m-> 1245\u001b[0;31m             observation = tool.run(\n\u001b[0m\u001b[1;32m   1246\u001b[0m                 \u001b[0magent_action\u001b[0m\u001b[0;34m.\u001b[0m\u001b[0mtool_input\u001b[0m\u001b[0;34m,\u001b[0m\u001b[0;34m\u001b[0m\u001b[0;34m\u001b[0m\u001b[0m\n\u001b[1;32m   1247\u001b[0m                 \u001b[0mverbose\u001b[0m\u001b[0;34m=\u001b[0m\u001b[0mself\u001b[0m\u001b[0;34m.\u001b[0m\u001b[0mverbose\u001b[0m\u001b[0;34m,\u001b[0m\u001b[0;34m\u001b[0m\u001b[0;34m\u001b[0m\u001b[0m\n",
            "\u001b[0;32m/usr/local/lib/python3.10/dist-packages/langchain_core/tools.py\u001b[0m in \u001b[0;36mrun\u001b[0;34m(self, tool_input, verbose, start_color, color, callbacks, tags, metadata, run_name, run_id, **kwargs)\u001b[0m\n\u001b[1;32m    430\u001b[0m         \u001b[0;32mexcept\u001b[0m \u001b[0;34m(\u001b[0m\u001b[0mException\u001b[0m\u001b[0;34m,\u001b[0m \u001b[0mKeyboardInterrupt\u001b[0m\u001b[0;34m)\u001b[0m \u001b[0;32mas\u001b[0m \u001b[0me\u001b[0m\u001b[0;34m:\u001b[0m\u001b[0;34m\u001b[0m\u001b[0;34m\u001b[0m\u001b[0m\n\u001b[1;32m    431\u001b[0m             \u001b[0mrun_manager\u001b[0m\u001b[0;34m.\u001b[0m\u001b[0mon_tool_error\u001b[0m\u001b[0;34m(\u001b[0m\u001b[0me\u001b[0m\u001b[0;34m)\u001b[0m\u001b[0;34m\u001b[0m\u001b[0;34m\u001b[0m\u001b[0m\n\u001b[0;32m--> 432\u001b[0;31m             \u001b[0;32mraise\u001b[0m \u001b[0me\u001b[0m\u001b[0;34m\u001b[0m\u001b[0;34m\u001b[0m\u001b[0m\n\u001b[0m\u001b[1;32m    433\u001b[0m         \u001b[0;32melse\u001b[0m\u001b[0;34m:\u001b[0m\u001b[0;34m\u001b[0m\u001b[0;34m\u001b[0m\u001b[0m\n\u001b[1;32m    434\u001b[0m             \u001b[0mrun_manager\u001b[0m\u001b[0;34m.\u001b[0m\u001b[0mon_tool_end\u001b[0m\u001b[0;34m(\u001b[0m\u001b[0mobservation\u001b[0m\u001b[0;34m,\u001b[0m \u001b[0mcolor\u001b[0m\u001b[0;34m=\u001b[0m\u001b[0mcolor\u001b[0m\u001b[0;34m,\u001b[0m \u001b[0mname\u001b[0m\u001b[0;34m=\u001b[0m\u001b[0mself\u001b[0m\u001b[0;34m.\u001b[0m\u001b[0mname\u001b[0m\u001b[0;34m,\u001b[0m \u001b[0;34m**\u001b[0m\u001b[0mkwargs\u001b[0m\u001b[0;34m)\u001b[0m\u001b[0;34m\u001b[0m\u001b[0;34m\u001b[0m\u001b[0m\n",
            "\u001b[0;32m/usr/local/lib/python3.10/dist-packages/langchain_core/tools.py\u001b[0m in \u001b[0;36mrun\u001b[0;34m(self, tool_input, verbose, start_color, color, callbacks, tags, metadata, run_name, run_id, **kwargs)\u001b[0m\n\u001b[1;32m    389\u001b[0m             \u001b[0mtool_args\u001b[0m\u001b[0;34m,\u001b[0m \u001b[0mtool_kwargs\u001b[0m \u001b[0;34m=\u001b[0m \u001b[0mself\u001b[0m\u001b[0;34m.\u001b[0m\u001b[0m_to_args_and_kwargs\u001b[0m\u001b[0;34m(\u001b[0m\u001b[0mparsed_input\u001b[0m\u001b[0;34m)\u001b[0m\u001b[0;34m\u001b[0m\u001b[0;34m\u001b[0m\u001b[0m\n\u001b[1;32m    390\u001b[0m             observation = (\n\u001b[0;32m--> 391\u001b[0;31m                 \u001b[0mself\u001b[0m\u001b[0;34m.\u001b[0m\u001b[0m_run\u001b[0m\u001b[0;34m(\u001b[0m\u001b[0;34m*\u001b[0m\u001b[0mtool_args\u001b[0m\u001b[0;34m,\u001b[0m \u001b[0mrun_manager\u001b[0m\u001b[0;34m=\u001b[0m\u001b[0mrun_manager\u001b[0m\u001b[0;34m,\u001b[0m \u001b[0;34m**\u001b[0m\u001b[0mtool_kwargs\u001b[0m\u001b[0;34m)\u001b[0m\u001b[0;34m\u001b[0m\u001b[0;34m\u001b[0m\u001b[0m\n\u001b[0m\u001b[1;32m    392\u001b[0m                 \u001b[0;32mif\u001b[0m \u001b[0mnew_arg_supported\u001b[0m\u001b[0;34m\u001b[0m\u001b[0;34m\u001b[0m\u001b[0m\n\u001b[1;32m    393\u001b[0m                 \u001b[0;32melse\u001b[0m \u001b[0mself\u001b[0m\u001b[0;34m.\u001b[0m\u001b[0m_run\u001b[0m\u001b[0;34m(\u001b[0m\u001b[0;34m*\u001b[0m\u001b[0mtool_args\u001b[0m\u001b[0;34m,\u001b[0m \u001b[0;34m**\u001b[0m\u001b[0mtool_kwargs\u001b[0m\u001b[0;34m)\u001b[0m\u001b[0;34m\u001b[0m\u001b[0;34m\u001b[0m\u001b[0m\n",
            "\u001b[0;32m/usr/local/lib/python3.10/dist-packages/langchain_core/tools.py\u001b[0m in \u001b[0;36m_run\u001b[0;34m(self, run_manager, *args, **kwargs)\u001b[0m\n\u001b[1;32m    713\u001b[0m                 )\n\u001b[1;32m    714\u001b[0m                 \u001b[0;32mif\u001b[0m \u001b[0mnew_argument_supported\u001b[0m\u001b[0;34m\u001b[0m\u001b[0;34m\u001b[0m\u001b[0m\n\u001b[0;32m--> 715\u001b[0;31m                 \u001b[0;32melse\u001b[0m \u001b[0mself\u001b[0m\u001b[0;34m.\u001b[0m\u001b[0mfunc\u001b[0m\u001b[0;34m(\u001b[0m\u001b[0;34m*\u001b[0m\u001b[0margs\u001b[0m\u001b[0;34m,\u001b[0m \u001b[0;34m**\u001b[0m\u001b[0mkwargs\u001b[0m\u001b[0;34m)\u001b[0m\u001b[0;34m\u001b[0m\u001b[0;34m\u001b[0m\u001b[0m\n\u001b[0m\u001b[1;32m    716\u001b[0m             )\n\u001b[1;32m    717\u001b[0m         \u001b[0;32mraise\u001b[0m \u001b[0mNotImplementedError\u001b[0m\u001b[0;34m(\u001b[0m\u001b[0;34m\"Tool does not support sync\"\u001b[0m\u001b[0;34m)\u001b[0m\u001b[0;34m\u001b[0m\u001b[0;34m\u001b[0m\u001b[0m\n",
            "\u001b[0;32m<ipython-input-65-878dc883bb02>\u001b[0m in \u001b[0;36mdf_des_finder\u001b[0;34m(df_path)\u001b[0m\n\u001b[1;32m     11\u001b[0m \u001b[0;34m\u001b[0m\u001b[0m\n\u001b[1;32m     12\u001b[0m \u001b[0;32mdef\u001b[0m \u001b[0mdf_des_finder\u001b[0m\u001b[0;34m(\u001b[0m\u001b[0mdf_path\u001b[0m\u001b[0;34m:\u001b[0m \u001b[0mstr\u001b[0m\u001b[0;34m)\u001b[0m \u001b[0;34m->\u001b[0m \u001b[0mpd\u001b[0m\u001b[0;34m.\u001b[0m\u001b[0mDataFrame\u001b[0m\u001b[0;34m:\u001b[0m\u001b[0;34m\u001b[0m\u001b[0;34m\u001b[0m\u001b[0m\n\u001b[0;32m---> 13\u001b[0;31m   \u001b[0mdf\u001b[0m \u001b[0;34m=\u001b[0m \u001b[0mpd\u001b[0m\u001b[0;34m.\u001b[0m\u001b[0mread_csv\u001b[0m\u001b[0;34m(\u001b[0m\u001b[0mdf_path\u001b[0m\u001b[0;34m)\u001b[0m\u001b[0;34m\u001b[0m\u001b[0;34m\u001b[0m\u001b[0m\n\u001b[0m\u001b[1;32m     14\u001b[0m   \u001b[0;32mreturn\u001b[0m \u001b[0mdf\u001b[0m\u001b[0;34m.\u001b[0m\u001b[0mdescribe\u001b[0m\u001b[0;34m(\u001b[0m\u001b[0;34m)\u001b[0m\u001b[0;34m\u001b[0m\u001b[0;34m\u001b[0m\u001b[0m\n\u001b[1;32m     15\u001b[0m \u001b[0;34m\u001b[0m\u001b[0m\n",
            "\u001b[0;32m/usr/local/lib/python3.10/dist-packages/pandas/io/parsers/readers.py\u001b[0m in \u001b[0;36mread_csv\u001b[0;34m(filepath_or_buffer, sep, delimiter, header, names, index_col, usecols, dtype, engine, converters, true_values, false_values, skipinitialspace, skiprows, skipfooter, nrows, na_values, keep_default_na, na_filter, verbose, skip_blank_lines, parse_dates, infer_datetime_format, keep_date_col, date_parser, date_format, dayfirst, cache_dates, iterator, chunksize, compression, thousands, decimal, lineterminator, quotechar, quoting, doublequote, escapechar, comment, encoding, encoding_errors, dialect, on_bad_lines, delim_whitespace, low_memory, memory_map, float_precision, storage_options, dtype_backend)\u001b[0m\n\u001b[1;32m    910\u001b[0m     \u001b[0mkwds\u001b[0m\u001b[0;34m.\u001b[0m\u001b[0mupdate\u001b[0m\u001b[0;34m(\u001b[0m\u001b[0mkwds_defaults\u001b[0m\u001b[0;34m)\u001b[0m\u001b[0;34m\u001b[0m\u001b[0;34m\u001b[0m\u001b[0m\n\u001b[1;32m    911\u001b[0m \u001b[0;34m\u001b[0m\u001b[0m\n\u001b[0;32m--> 912\u001b[0;31m     \u001b[0;32mreturn\u001b[0m \u001b[0m_read\u001b[0m\u001b[0;34m(\u001b[0m\u001b[0mfilepath_or_buffer\u001b[0m\u001b[0;34m,\u001b[0m \u001b[0mkwds\u001b[0m\u001b[0;34m)\u001b[0m\u001b[0;34m\u001b[0m\u001b[0;34m\u001b[0m\u001b[0m\n\u001b[0m\u001b[1;32m    913\u001b[0m \u001b[0;34m\u001b[0m\u001b[0m\n\u001b[1;32m    914\u001b[0m \u001b[0;34m\u001b[0m\u001b[0m\n",
            "\u001b[0;32m/usr/local/lib/python3.10/dist-packages/pandas/io/parsers/readers.py\u001b[0m in \u001b[0;36m_read\u001b[0;34m(filepath_or_buffer, kwds)\u001b[0m\n\u001b[1;32m    575\u001b[0m \u001b[0;34m\u001b[0m\u001b[0m\n\u001b[1;32m    576\u001b[0m     \u001b[0;31m# Create the parser.\u001b[0m\u001b[0;34m\u001b[0m\u001b[0;34m\u001b[0m\u001b[0m\n\u001b[0;32m--> 577\u001b[0;31m     \u001b[0mparser\u001b[0m \u001b[0;34m=\u001b[0m \u001b[0mTextFileReader\u001b[0m\u001b[0;34m(\u001b[0m\u001b[0mfilepath_or_buffer\u001b[0m\u001b[0;34m,\u001b[0m \u001b[0;34m**\u001b[0m\u001b[0mkwds\u001b[0m\u001b[0;34m)\u001b[0m\u001b[0;34m\u001b[0m\u001b[0;34m\u001b[0m\u001b[0m\n\u001b[0m\u001b[1;32m    578\u001b[0m \u001b[0;34m\u001b[0m\u001b[0m\n\u001b[1;32m    579\u001b[0m     \u001b[0;32mif\u001b[0m \u001b[0mchunksize\u001b[0m \u001b[0;32mor\u001b[0m \u001b[0miterator\u001b[0m\u001b[0;34m:\u001b[0m\u001b[0;34m\u001b[0m\u001b[0;34m\u001b[0m\u001b[0m\n",
            "\u001b[0;32m/usr/local/lib/python3.10/dist-packages/pandas/io/parsers/readers.py\u001b[0m in \u001b[0;36m__init__\u001b[0;34m(self, f, engine, **kwds)\u001b[0m\n\u001b[1;32m   1405\u001b[0m \u001b[0;34m\u001b[0m\u001b[0m\n\u001b[1;32m   1406\u001b[0m         \u001b[0mself\u001b[0m\u001b[0;34m.\u001b[0m\u001b[0mhandles\u001b[0m\u001b[0;34m:\u001b[0m \u001b[0mIOHandles\u001b[0m \u001b[0;34m|\u001b[0m \u001b[0;32mNone\u001b[0m \u001b[0;34m=\u001b[0m \u001b[0;32mNone\u001b[0m\u001b[0;34m\u001b[0m\u001b[0;34m\u001b[0m\u001b[0m\n\u001b[0;32m-> 1407\u001b[0;31m         \u001b[0mself\u001b[0m\u001b[0;34m.\u001b[0m\u001b[0m_engine\u001b[0m \u001b[0;34m=\u001b[0m \u001b[0mself\u001b[0m\u001b[0;34m.\u001b[0m\u001b[0m_make_engine\u001b[0m\u001b[0;34m(\u001b[0m\u001b[0mf\u001b[0m\u001b[0;34m,\u001b[0m \u001b[0mself\u001b[0m\u001b[0;34m.\u001b[0m\u001b[0mengine\u001b[0m\u001b[0;34m)\u001b[0m\u001b[0;34m\u001b[0m\u001b[0;34m\u001b[0m\u001b[0m\n\u001b[0m\u001b[1;32m   1408\u001b[0m \u001b[0;34m\u001b[0m\u001b[0m\n\u001b[1;32m   1409\u001b[0m     \u001b[0;32mdef\u001b[0m \u001b[0mclose\u001b[0m\u001b[0;34m(\u001b[0m\u001b[0mself\u001b[0m\u001b[0;34m)\u001b[0m \u001b[0;34m->\u001b[0m \u001b[0;32mNone\u001b[0m\u001b[0;34m:\u001b[0m\u001b[0;34m\u001b[0m\u001b[0;34m\u001b[0m\u001b[0m\n",
            "\u001b[0;32m/usr/local/lib/python3.10/dist-packages/pandas/io/parsers/readers.py\u001b[0m in \u001b[0;36m_make_engine\u001b[0;34m(self, f, engine)\u001b[0m\n\u001b[1;32m   1659\u001b[0m                 \u001b[0;32mif\u001b[0m \u001b[0;34m\"b\"\u001b[0m \u001b[0;32mnot\u001b[0m \u001b[0;32min\u001b[0m \u001b[0mmode\u001b[0m\u001b[0;34m:\u001b[0m\u001b[0;34m\u001b[0m\u001b[0;34m\u001b[0m\u001b[0m\n\u001b[1;32m   1660\u001b[0m                     \u001b[0mmode\u001b[0m \u001b[0;34m+=\u001b[0m \u001b[0;34m\"b\"\u001b[0m\u001b[0;34m\u001b[0m\u001b[0;34m\u001b[0m\u001b[0m\n\u001b[0;32m-> 1661\u001b[0;31m             self.handles = get_handle(\n\u001b[0m\u001b[1;32m   1662\u001b[0m                 \u001b[0mf\u001b[0m\u001b[0;34m,\u001b[0m\u001b[0;34m\u001b[0m\u001b[0;34m\u001b[0m\u001b[0m\n\u001b[1;32m   1663\u001b[0m                 \u001b[0mmode\u001b[0m\u001b[0;34m,\u001b[0m\u001b[0;34m\u001b[0m\u001b[0;34m\u001b[0m\u001b[0m\n",
            "\u001b[0;32m/usr/local/lib/python3.10/dist-packages/pandas/io/common.py\u001b[0m in \u001b[0;36mget_handle\u001b[0;34m(path_or_buf, mode, encoding, compression, memory_map, is_text, errors, storage_options)\u001b[0m\n\u001b[1;32m    857\u001b[0m         \u001b[0;32mif\u001b[0m \u001b[0mioargs\u001b[0m\u001b[0;34m.\u001b[0m\u001b[0mencoding\u001b[0m \u001b[0;32mand\u001b[0m \u001b[0;34m\"b\"\u001b[0m \u001b[0;32mnot\u001b[0m \u001b[0;32min\u001b[0m \u001b[0mioargs\u001b[0m\u001b[0;34m.\u001b[0m\u001b[0mmode\u001b[0m\u001b[0;34m:\u001b[0m\u001b[0;34m\u001b[0m\u001b[0;34m\u001b[0m\u001b[0m\n\u001b[1;32m    858\u001b[0m             \u001b[0;31m# Encoding\u001b[0m\u001b[0;34m\u001b[0m\u001b[0;34m\u001b[0m\u001b[0m\n\u001b[0;32m--> 859\u001b[0;31m             handle = open(\n\u001b[0m\u001b[1;32m    860\u001b[0m                 \u001b[0mhandle\u001b[0m\u001b[0;34m,\u001b[0m\u001b[0;34m\u001b[0m\u001b[0;34m\u001b[0m\u001b[0m\n\u001b[1;32m    861\u001b[0m                 \u001b[0mioargs\u001b[0m\u001b[0;34m.\u001b[0m\u001b[0mmode\u001b[0m\u001b[0;34m,\u001b[0m\u001b[0;34m\u001b[0m\u001b[0;34m\u001b[0m\u001b[0m\n",
            "\u001b[0;31mFileNotFoundError\u001b[0m: [Errno 2] No such file or directory: 'df_path = \"/content/size.csv'"
          ]
        }
      ]
    },
    {
      "cell_type": "code",
      "source": [],
      "metadata": {
        "colab": {
          "base_uri": "https://localhost:8080/"
        },
        "id": "SBqwi-2zOebX",
        "outputId": "1340d68d-8558-415b-87ac-c06843b200fd"
      },
      "execution_count": 67,
      "outputs": [
        {
          "output_type": "execute_result",
          "data": {
            "text/plain": [
              "{'df': {'title': 'Df', 'description': 'give csv file path', 'type': 'string'}}"
            ]
          },
          "metadata": {},
          "execution_count": 67
        }
      ]
    },
    {
      "cell_type": "markdown",
      "source": [
        "\n",
        "\n",
        "```\n",
        "# Giving any url and crawling all the links from there , AGENT\n",
        "```\n",
        "\n"
      ],
      "metadata": {
        "id": "D1KLCKPRPjUf"
      }
    },
    {
      "cell_type": "code",
      "source": [
        "import numpy as np\n",
        "import pandas as pd\n",
        "from langchain.pydantic_v1 import BaseModel, Field\n",
        "from langchain.tools import StructuredTool\n",
        "from bs4 import BeautifulSoup\n",
        "from urllib.parse import urljoin\n",
        "import requests\n",
        "\n",
        "class Input(BaseModel):\n",
        "    url: str = Field(description='give url')\n",
        "\n",
        "def crawl_links(url: str) -> list:\n",
        "    response = requests.get(url)\n",
        "    soup = BeautifulSoup(response.text, 'html.parser')\n",
        "    base_url = url\n",
        "    links = [urljoin(base_url, a['href']) for a in soup.find_all('a', href=True) if a['href']]\n",
        "    return links\n",
        "\n",
        "tool = StructuredTool.from_function(\n",
        "    func=crawl_links,\n",
        "    name='Link Crawler',\n",
        "    description='Crawl all links from a given URL',\n",
        "    args_schema=Input,\n",
        "    return_direct=True\n",
        ")\n",
        "\n",
        "tools = [tool]\n",
        "\n",
        "agent = create_react_agent(llm, tools, prompt)\n",
        "agent_executor = AgentExecutor(\n",
        "    agent=agent,\n",
        "    tools=tools,\n",
        "    verbose=True,\n",
        "    handle_parsing_errors=True,\n",
        "    max_iterations=2\n",
        ")\n",
        "\n",
        "question='the url is : https://python.langchain.com/docs/modules/agents/quick_start/ '\n",
        "output = agent_executor.invoke({'input': prompt_template.format(question=question)})\n",
        "print(output)"
      ],
      "metadata": {
        "colab": {
          "base_uri": "https://localhost:8080/"
        },
        "id": "julfEEE7Ofjn",
        "outputId": "59d48c6e-e812-4852-cfcc-c3b4b20ebafe"
      },
      "execution_count": 71,
      "outputs": [
        {
          "output_type": "stream",
          "name": "stdout",
          "text": [
            "\n",
            "\n",
            "\u001b[1m> Entering new AgentExecutor chain...\u001b[0m\n",
            "\u001b[32;1m\u001b[1;3mI should use the Link Crawler tool to gather information from the provided URL.\n",
            "Action: Link Crawler\n",
            "Action Input: \"https://python.langchain.com/docs/modules/agents/quick_start/\"\u001b[0m\u001b[36;1m\u001b[1;3m['https://python.langchain.com/docs/modules/agents/quick_start/#__docusaurus_skipToContent_fallback', 'https://python.langchain.com/', 'https://python.langchain.com/docs/modules/', 'https://python.langchain.com/docs/integrations/platforms/', 'https://python.langchain.com/docs/guides/', 'https://api.python.langchain.com', 'https://python.langchain.com/docs/modules/agents/quick_start/', 'https://python.langchain.com/docs/people/', 'https://python.langchain.com/docs/packages/', 'https://python.langchain.com/docs/contributing/', 'https://python.langchain.com/docs/templates/', 'https://github.com/langchain-ai/langchain/blob/master/cookbook/README.md', 'https://python.langchain.com/docs/additional_resources/tutorials/', 'https://python.langchain.com/docs/additional_resources/youtube/', 'https://python.langchain.com/docs/modules/agents/quick_start/', 'https://smith.langchain.com', 'https://docs.smith.langchain.com/', 'https://github.com/langchain-ai/langserve', 'https://github.com/langchain-ai/langchain/tree/master/templates', 'https://templates.langchain.com', 'https://smith.langchain.com/hub', 'https://js.langchain.com', 'https://chat.langchain.com', 'https://github.com/langchain-ai/langchain', 'https://python.langchain.com/docs/modules/model_io/', 'https://python.langchain.com/docs/modules/model_io/prompts/', 'https://python.langchain.com/docs/modules/model_io/chat/', 'https://python.langchain.com/docs/modules/model_io/llms/', 'https://python.langchain.com/docs/modules/model_io/output_parsers/', 'https://python.langchain.com/docs/modules/data_connection/', 'https://python.langchain.com/docs/modules/data_connection/document_loaders/', 'https://python.langchain.com/docs/modules/data_connection/document_transformers/', 'https://python.langchain.com/docs/modules/data_connection/text_embedding/', 'https://python.langchain.com/docs/modules/data_connection/vectorstores/', 'https://python.langchain.com/docs/modules/data_connection/retrievers/', 'https://python.langchain.com/docs/modules/data_connection/indexing/', 'https://python.langchain.com/docs/modules/composition/', 'https://python.langchain.com/docs/modules/tools/', 'https://python.langchain.com/docs/modules/agents/', 'https://python.langchain.com/docs/modules/agents/quick_start/', 'https://python.langchain.com/docs/modules/agents/concepts/', 'https://python.langchain.com/docs/modules/agents/agent_types/', 'https://python.langchain.com/docs/modules/agents/how_to/custom_agent/', 'https://python.langchain.com/docs/modules/agents/', 'https://python.langchain.com/docs/modules/chains/', 'https://python.langchain.com/docs/modules/memory/', 'https://python.langchain.com/docs/modules/', 'https://python.langchain.com/', 'https://python.langchain.com/docs/modules/composition/', 'https://python.langchain.com/docs/modules/agents/', 'https://python.langchain.com/docs/modules/model_io/', 'https://python.langchain.com/docs/modules/data_connection/', 'https://python.langchain.com/docs/modules/agents/quick_start/#setup-langsmith', 'https://python.langchain.com/docs/langsmith/', 'https://python.langchain.com/docs/modules/agents/quick_start/#define-tools', 'https://python.langchain.com/docs/integrations/tools/tavily_search/', 'https://python.langchain.com/docs/integrations/tools/tavily_search/', 'https://python.langchain.com/docs/modules/agents/quick_start/#tavily', 'https://api.python.langchain.com/en/latest/tools/langchain_community.tools.tavily_search.tool.TavilySearchResults.html', 'https://python.langchain.com/docs/modules/agents/quick_start/#retriever', 'https://python.langchain.com/docs/modules/data_connection/', 'https://api.python.langchain.com/en/latest/document_loaders/langchain_community.document_loaders.web_base.WebBaseLoader.html', 'https://api.python.langchain.com/en/latest/vectorstores/langchain_community.vectorstores.faiss.FAISS.html', 'https://api.python.langchain.com/en/latest/embeddings/langchain_openai.embeddings.base.OpenAIEmbeddings.html', 'https://api.python.langchain.com/en/latest/character/langchain_text_splitters.character.RecursiveCharacterTextSplitter.html', 'https://api.python.langchain.com/en/latest/tools/langchain_core.tools.create_retriever_tool.html', 'https://python.langchain.com/docs/modules/agents/quick_start/#tools', 'https://python.langchain.com/docs/modules/agents/quick_start/#create-the-agent', 'https://python.langchain.com/docs/modules/agents/agent_types/', 'https://api.python.langchain.com/en/latest/chat_models/langchain_openai.chat_models.base.ChatOpenAI.html', 'https://smith.langchain.com/hub/hwchase17/openai-functions-agent', 'https://python.langchain.com/docs/modules/agents/concepts/', 'https://api.python.langchain.com/en/latest/agents/langchain.agents.tool_calling_agent.base.create_tool_calling_agent.html', 'https://api.python.langchain.com/en/latest/agents/langchain.agents.agent.AgentExecutor.html', 'https://python.langchain.com/docs/modules/agents/quick_start/#run-the-agent', 'https://python.langchain.com/docs/modules/agents/quick_start/#adding-in-memory', 'https://api.python.langchain.com/en/latest/messages/langchain_core.messages.ai.AIMessage.html', 'https://api.python.langchain.com/en/latest/messages/langchain_core.messages.human.HumanMessage.html', 'https://python.langchain.com/docs/expression_language/how_to/message_history/', 'https://api.python.langchain.com/en/latest/chat_history/langchain_core.chat_history.ChatMessageHistory.html', 'https://api.python.langchain.com/en/latest/runnables/langchain_core.runnables.history.RunnableWithMessageHistory.html', 'https://python.langchain.com/docs/modules/agents/quick_start/#conclusion', 'https://python.langchain.com/docs/modules/agents/', 'https://python.langchain.com/docs/modules/agents/', 'https://python.langchain.com/docs/modules/agents/concepts/', 'https://python.langchain.com/docs/modules/agents/quick_start/#setup-langsmith', 'https://python.langchain.com/docs/modules/agents/quick_start/#define-tools', 'https://python.langchain.com/docs/modules/agents/quick_start/#tavily', 'https://python.langchain.com/docs/modules/agents/quick_start/#retriever', 'https://python.langchain.com/docs/modules/agents/quick_start/#tools', 'https://python.langchain.com/docs/modules/agents/quick_start/#create-the-agent', 'https://python.langchain.com/docs/modules/agents/quick_start/#run-the-agent', 'https://python.langchain.com/docs/modules/agents/quick_start/#adding-in-memory', 'https://python.langchain.com/docs/modules/agents/quick_start/#conclusion', 'https://discord.gg/cU2adEyC7w', 'https://twitter.com/LangChainAI', 'https://github.com/langchain-ai/langchain', 'https://github.com/langchain-ai/langchainjs', 'https://langchain.com', 'https://blog.langchain.dev', 'https://www.youtube.com/@LangChain']\u001b[0m\n",
            "\u001b[32;1m\u001b[1;3m\u001b[0m\n",
            "\n",
            "\u001b[1m> Finished chain.\u001b[0m\n",
            "{'input': '\\nAnswer the following question as best you can.\\nQuestions: the url is : https://python.langchain.com/docs/modules/agents/quick_start/ \\n', 'output': ['https://python.langchain.com/docs/modules/agents/quick_start/#__docusaurus_skipToContent_fallback', 'https://python.langchain.com/', 'https://python.langchain.com/docs/modules/', 'https://python.langchain.com/docs/integrations/platforms/', 'https://python.langchain.com/docs/guides/', 'https://api.python.langchain.com', 'https://python.langchain.com/docs/modules/agents/quick_start/', 'https://python.langchain.com/docs/people/', 'https://python.langchain.com/docs/packages/', 'https://python.langchain.com/docs/contributing/', 'https://python.langchain.com/docs/templates/', 'https://github.com/langchain-ai/langchain/blob/master/cookbook/README.md', 'https://python.langchain.com/docs/additional_resources/tutorials/', 'https://python.langchain.com/docs/additional_resources/youtube/', 'https://python.langchain.com/docs/modules/agents/quick_start/', 'https://smith.langchain.com', 'https://docs.smith.langchain.com/', 'https://github.com/langchain-ai/langserve', 'https://github.com/langchain-ai/langchain/tree/master/templates', 'https://templates.langchain.com', 'https://smith.langchain.com/hub', 'https://js.langchain.com', 'https://chat.langchain.com', 'https://github.com/langchain-ai/langchain', 'https://python.langchain.com/docs/modules/model_io/', 'https://python.langchain.com/docs/modules/model_io/prompts/', 'https://python.langchain.com/docs/modules/model_io/chat/', 'https://python.langchain.com/docs/modules/model_io/llms/', 'https://python.langchain.com/docs/modules/model_io/output_parsers/', 'https://python.langchain.com/docs/modules/data_connection/', 'https://python.langchain.com/docs/modules/data_connection/document_loaders/', 'https://python.langchain.com/docs/modules/data_connection/document_transformers/', 'https://python.langchain.com/docs/modules/data_connection/text_embedding/', 'https://python.langchain.com/docs/modules/data_connection/vectorstores/', 'https://python.langchain.com/docs/modules/data_connection/retrievers/', 'https://python.langchain.com/docs/modules/data_connection/indexing/', 'https://python.langchain.com/docs/modules/composition/', 'https://python.langchain.com/docs/modules/tools/', 'https://python.langchain.com/docs/modules/agents/', 'https://python.langchain.com/docs/modules/agents/quick_start/', 'https://python.langchain.com/docs/modules/agents/concepts/', 'https://python.langchain.com/docs/modules/agents/agent_types/', 'https://python.langchain.com/docs/modules/agents/how_to/custom_agent/', 'https://python.langchain.com/docs/modules/agents/', 'https://python.langchain.com/docs/modules/chains/', 'https://python.langchain.com/docs/modules/memory/', 'https://python.langchain.com/docs/modules/', 'https://python.langchain.com/', 'https://python.langchain.com/docs/modules/composition/', 'https://python.langchain.com/docs/modules/agents/', 'https://python.langchain.com/docs/modules/model_io/', 'https://python.langchain.com/docs/modules/data_connection/', 'https://python.langchain.com/docs/modules/agents/quick_start/#setup-langsmith', 'https://python.langchain.com/docs/langsmith/', 'https://python.langchain.com/docs/modules/agents/quick_start/#define-tools', 'https://python.langchain.com/docs/integrations/tools/tavily_search/', 'https://python.langchain.com/docs/integrations/tools/tavily_search/', 'https://python.langchain.com/docs/modules/agents/quick_start/#tavily', 'https://api.python.langchain.com/en/latest/tools/langchain_community.tools.tavily_search.tool.TavilySearchResults.html', 'https://python.langchain.com/docs/modules/agents/quick_start/#retriever', 'https://python.langchain.com/docs/modules/data_connection/', 'https://api.python.langchain.com/en/latest/document_loaders/langchain_community.document_loaders.web_base.WebBaseLoader.html', 'https://api.python.langchain.com/en/latest/vectorstores/langchain_community.vectorstores.faiss.FAISS.html', 'https://api.python.langchain.com/en/latest/embeddings/langchain_openai.embeddings.base.OpenAIEmbeddings.html', 'https://api.python.langchain.com/en/latest/character/langchain_text_splitters.character.RecursiveCharacterTextSplitter.html', 'https://api.python.langchain.com/en/latest/tools/langchain_core.tools.create_retriever_tool.html', 'https://python.langchain.com/docs/modules/agents/quick_start/#tools', 'https://python.langchain.com/docs/modules/agents/quick_start/#create-the-agent', 'https://python.langchain.com/docs/modules/agents/agent_types/', 'https://api.python.langchain.com/en/latest/chat_models/langchain_openai.chat_models.base.ChatOpenAI.html', 'https://smith.langchain.com/hub/hwchase17/openai-functions-agent', 'https://python.langchain.com/docs/modules/agents/concepts/', 'https://api.python.langchain.com/en/latest/agents/langchain.agents.tool_calling_agent.base.create_tool_calling_agent.html', 'https://api.python.langchain.com/en/latest/agents/langchain.agents.agent.AgentExecutor.html', 'https://python.langchain.com/docs/modules/agents/quick_start/#run-the-agent', 'https://python.langchain.com/docs/modules/agents/quick_start/#adding-in-memory', 'https://api.python.langchain.com/en/latest/messages/langchain_core.messages.ai.AIMessage.html', 'https://api.python.langchain.com/en/latest/messages/langchain_core.messages.human.HumanMessage.html', 'https://python.langchain.com/docs/expression_language/how_to/message_history/', 'https://api.python.langchain.com/en/latest/chat_history/langchain_core.chat_history.ChatMessageHistory.html', 'https://api.python.langchain.com/en/latest/runnables/langchain_core.runnables.history.RunnableWithMessageHistory.html', 'https://python.langchain.com/docs/modules/agents/quick_start/#conclusion', 'https://python.langchain.com/docs/modules/agents/', 'https://python.langchain.com/docs/modules/agents/', 'https://python.langchain.com/docs/modules/agents/concepts/', 'https://python.langchain.com/docs/modules/agents/quick_start/#setup-langsmith', 'https://python.langchain.com/docs/modules/agents/quick_start/#define-tools', 'https://python.langchain.com/docs/modules/agents/quick_start/#tavily', 'https://python.langchain.com/docs/modules/agents/quick_start/#retriever', 'https://python.langchain.com/docs/modules/agents/quick_start/#tools', 'https://python.langchain.com/docs/modules/agents/quick_start/#create-the-agent', 'https://python.langchain.com/docs/modules/agents/quick_start/#run-the-agent', 'https://python.langchain.com/docs/modules/agents/quick_start/#adding-in-memory', 'https://python.langchain.com/docs/modules/agents/quick_start/#conclusion', 'https://discord.gg/cU2adEyC7w', 'https://twitter.com/LangChainAI', 'https://github.com/langchain-ai/langchain', 'https://github.com/langchain-ai/langchainjs', 'https://langchain.com', 'https://blog.langchain.dev', 'https://www.youtube.com/@LangChain']}\n"
          ]
        }
      ]
    },
    {
      "cell_type": "code",
      "source": [
        "!pip install --upgrade --quiet  arxiv"
      ],
      "metadata": {
        "id": "jrMB2cufPHP3"
      },
      "execution_count": null,
      "outputs": []
    },
    {
      "cell_type": "code",
      "source": [
        "from langchain.agents import AgentExecutor, create_react_agent, load_tools\n",
        "tools = load_tools(\n",
        "    [\"arxiv\"],\n",
        ")\n",
        "agent = create_react_agent(llm, tools, prompt)\n",
        "agent_executor = AgentExecutor(agent=agent, tools=tools, verbose=True)"
      ],
      "metadata": {
        "id": "OClMM9t9RVYW"
      },
      "execution_count": 74,
      "outputs": []
    },
    {
      "cell_type": "code",
      "source": [
        "question='different attention mechanism in transformer models'\n",
        "output = agent_executor.invoke({'input': prompt_template.format(question=question)})\n",
        "print(output)"
      ],
      "metadata": {
        "colab": {
          "base_uri": "https://localhost:8080/"
        },
        "id": "r0M2aftqRZZC",
        "outputId": "db2e582f-841d-4465-ecf5-2978cc04f1cb"
      },
      "execution_count": 75,
      "outputs": [
        {
          "output_type": "stream",
          "name": "stdout",
          "text": [
            "\n",
            "\n",
            "\u001b[1m> Entering new AgentExecutor chain...\u001b[0m\n",
            "\u001b[32;1m\u001b[1;3mI should search for scientific articles on arxiv.org that discuss different attention mechanisms in transformer models.\n",
            "Action: arxiv\n",
            "Action Input: different attention mechanism in transformer models\u001b[0m\u001b[36;1m\u001b[1;3mPublished: 2022-09-30\n",
            "Title: Adaptive Sparse and Monotonic Attention for Transformer-based Automatic Speech Recognition\n",
            "Authors: Chendong Zhao, Jianzong Wang, Wen qi Wei, Xiaoyang Qu, Haoqian Wang, Jing Xiao\n",
            "Summary: The Transformer architecture model, based on self-attention and multi-head\n",
            "attention, has achieved remarkable success in offline end-to-end Automatic\n",
            "Speech Recognition (ASR). However, self-attention and multi-head attention\n",
            "cannot be easily applied for streaming or online ASR. For self-attention in\n",
            "Transformer ASR, the softmax normalization function-based attention mechanism\n",
            "makes it impossible to highlight important speech information. For multi-head\n",
            "attention in Transformer ASR, it is not easy to model monotonic alignments in\n",
            "different heads. To overcome these two limits, we integrate sparse attention\n",
            "and monotonic attention into Transformer-based ASR. The sparse mechanism\n",
            "introduces a learned sparsity scheme to enable each self-attention structure to\n",
            "fit the corresponding head better. The monotonic attention deploys\n",
            "regularization to prune redundant heads for the multi-head attention structure.\n",
            "The experiments show that our method can effectively improve the attention\n",
            "mechanism on widely used benchmarks of speech recognition.\n",
            "\n",
            "Published: 2022-10-19\n",
            "Title: BOAT: Bilateral Local Attention Vision Transformer\n",
            "Authors: Tan Yu, Gangming Zhao, Ping Li, Yizhou Yu\n",
            "Summary: Vision Transformers achieved outstanding performance in many computer vision\n",
            "tasks. Early Vision Transformers such as ViT and DeiT adopt global\n",
            "self-attention, which is computationally expensive when the number of patches\n",
            "is large. To improve efficiency, recent Vision Transformers adopt local\n",
            "self-attention mechanisms, where self-attention is computed within local\n",
            "windows. Despite the fact that window-based local self-attention significantly\n",
            "boosts efficiency, it fails to capture the relationships between distant but\n",
            "similar patches in the image plane. To overcome this limitation of image-space\n",
            "local attention, in this paper, we further exploit the locality of patches in\n",
            "the feature space. We group the patches into multiple clusters using their\n",
            "features, and self-attention is computed within every cluster. Such\n",
            "feature-space local attention effectively captures the connections between\n",
            "patches across different local windows but still relevant. We propose a\n",
            "Bilateral lOcal Attention vision Transformer (BOAT), which integrates\n",
            "feature-space local attention with image-space local attention. We further\n",
            "integrate BOAT with both Swin and CSWin models, and extensive experiments on\n",
            "several benchmark datasets demonstrate that our BOAT-CSWin model clearly and\n",
            "consistently outperforms existing state-of-the-art CNN models and vision\n",
            "Transformers.\n",
            "\n",
            "Published: 2022-10-02\n",
            "Title: DARTFormer: Finding The Best Type Of Attention\n",
            "Authors: Jason Ross Brown, Yiren Zhao, Ilia Shumailov, Robert D Mullins\n",
            "Summary: Given the wide and ever growing range of different efficient Transformer\n",
            "attention mechanisms, it is important to identify which attention is most\n",
            "effective when given a task. In this work, we are also interested in combining\n",
            "different attention types to build heterogeneous Transformers. We first propose\n",
            "a DARTS-like Neural Architecture Search (NAS) method to find the best attention\n",
            "for a given task, in this setup, all heads use the same attention (homogeneous\n",
            "models). Our results suggest that NAS is highly effective on this task, and it\n",
            "identifies the best attention mechanisms for IMDb byte level text\n",
            "classification and Listops. We then extend our framework to search for and\n",
            "build Transformers with multiple different attention types, and call them\n",
            "heterogeneous Transformers. We show that whilst these heterogeneous\n",
            "Transformers are better than the average homogeneous models, they cannot\n",
            "outperform the best. We explore the reasons why heterogeneous attention makes\n",
            "sense, and why it ultimately fails.\u001b[0m\u001b[32;1m\u001b[1;3mI now know the final answer\n",
            "Final Answer: Different attention mechanisms in transformer models include adaptive sparse and monotonic attention, bilateral local attention, and a combination of different attention types in heterogeneous Transformers.\u001b[0m\n",
            "\n",
            "\u001b[1m> Finished chain.\u001b[0m\n",
            "{'input': '\\nAnswer the following question as best you can.\\nQuestions: different attention mechanism in transformer models\\n', 'output': 'Different attention mechanisms in transformer models include adaptive sparse and monotonic attention, bilateral local attention, and a combination of different attention types in heterogeneous Transformers.'}\n"
          ]
        }
      ]
    }
  ]
}