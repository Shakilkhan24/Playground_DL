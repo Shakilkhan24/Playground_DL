{
  "nbformat": 4,
  "nbformat_minor": 0,
  "metadata": {
    "colab": {
      "provenance": [],
      "authorship_tag": "ABX9TyM87F+BoDvwTL4zgPxmEogV",
      "include_colab_link": true
    },
    "kernelspec": {
      "name": "python3",
      "display_name": "Python 3"
    },
    "language_info": {
      "name": "python"
    }
  },
  "cells": [
    {
      "cell_type": "markdown",
      "metadata": {
        "id": "view-in-github",
        "colab_type": "text"
      },
      "source": [
        "<a href=\"https://colab.research.google.com/github/Shakilkhan24/Playground_DL/blob/main/Sample_agent_building_strategy.ipynb\" target=\"_parent\"><img src=\"https://colab.research.google.com/assets/colab-badge.svg\" alt=\"Open In Colab\"/></a>"
      ]
    },
    {
      "cell_type": "markdown",
      "source": [
        "# we need to bulid different ***ai agents*** ,So little intro how to make agents using class in python\n",
        "\n",
        "Here *pandas* is used\n",
        "\n",
        "We would go through differnt open sources in the following days,\n",
        "\n",
        "like **langchain**, **llama-index**, **hugging-face**, **pytorch** , **databases**, and lot more to build **AI** agents ...\n",
        "\n"
      ],
      "metadata": {
        "id": "Rhv0nmXAGlvW"
      }
    },
    {
      "cell_type": "markdown",
      "source": [
        "Exception handling , error handling , and lot more **Needed topics** to make the code robust and generalised ...."
      ],
      "metadata": {
        "id": "TzW8GMemH9kA"
      }
    },
    {
      "cell_type": "code",
      "execution_count": 12,
      "metadata": {
        "id": "P65E4zMvBMQR"
      },
      "outputs": [],
      "source": [
        "import pandas as pd\n",
        "import seaborn as sns\n",
        "import matplotlib.pyplot as plt\n",
        "\n",
        "class CSVAgent:\n",
        "    def __init__(self, url):\n",
        "        self.url = url\n",
        "        self.data = None\n",
        "\n",
        "    def load_data(self):\n",
        "        self.data = pd.read_csv(self.url)\n",
        "\n",
        "    def info(self):\n",
        "        if self.data is None:\n",
        "            self.load_data()\n",
        "        print(self.data.info())\n",
        "\n",
        "    def describe(self):\n",
        "        if self.data is None:\n",
        "            self.load_data()\n",
        "        print(self.data.describe())\n",
        "\n",
        "    def column_names(self):\n",
        "        if self.data is None:\n",
        "            self.load_data()\n",
        "        print(self.data.columns.tolist())\n",
        "\n",
        "    def pair_plot(self):\n",
        "        if self.data is None:\n",
        "            self.load_data()\n",
        "        x=0\n",
        "        for i in self.data.columns:\n",
        "          if type(i)=='number':\n",
        "            x+=1\n",
        "        if x==0:\n",
        "          print('pair plot not possible , as there is no numerical datas')\n",
        "        else:\n",
        "          sns.pairplot(self.data)\n",
        "          plt.show()"
      ]
    },
    {
      "cell_type": "code",
      "source": [
        "url = \"https://cdn.wsform.com/wp-content/uploads/2018/09/country.csv\"\n",
        "agent = CSVAgent(url)\n",
        "# agent.info()\n",
        "agent.describe()\n",
        "# agent.column_names()"
      ],
      "metadata": {
        "colab": {
          "base_uri": "https://localhost:8080/"
        },
        "id": "Q8XMuS5vBcT-",
        "outputId": "7e5d1ed9-331a-4b57-d3db-2477896c53a6"
      },
      "execution_count": 13,
      "outputs": [
        {
          "output_type": "stream",
          "name": "stdout",
          "text": [
            "               Name Code\n",
            "count           249  248\n",
            "unique          249  248\n",
            "top     Afghanistan   AF\n",
            "freq              1    1\n"
          ]
        }
      ]
    },
    {
      "cell_type": "code",
      "source": [
        "agent.info()"
      ],
      "metadata": {
        "colab": {
          "base_uri": "https://localhost:8080/"
        },
        "id": "2nFO_4UICWMY",
        "outputId": "aa7658bd-bf97-4169-af20-8dee4f4a20d4"
      },
      "execution_count": 14,
      "outputs": [
        {
          "output_type": "stream",
          "name": "stdout",
          "text": [
            "<class 'pandas.core.frame.DataFrame'>\n",
            "RangeIndex: 249 entries, 0 to 248\n",
            "Data columns (total 2 columns):\n",
            " #   Column  Non-Null Count  Dtype \n",
            "---  ------  --------------  ----- \n",
            " 0   Name    249 non-null    object\n",
            " 1   Code    248 non-null    object\n",
            "dtypes: object(2)\n",
            "memory usage: 4.0+ KB\n",
            "None\n"
          ]
        }
      ]
    },
    {
      "cell_type": "code",
      "source": [
        "agent.column_names()"
      ],
      "metadata": {
        "colab": {
          "base_uri": "https://localhost:8080/"
        },
        "id": "uhDh6k1eDCp9",
        "outputId": "298e28c6-9412-4042-bc3b-fbf5eb1e5e64"
      },
      "execution_count": 16,
      "outputs": [
        {
          "output_type": "stream",
          "name": "stdout",
          "text": [
            "['Name', 'Code']\n"
          ]
        }
      ]
    },
    {
      "cell_type": "code",
      "source": [
        "agent.pair_plot()     # there is no numerical columns , so this is happening"
      ],
      "metadata": {
        "colab": {
          "base_uri": "https://localhost:8080/"
        },
        "id": "eOw_dE31CS5L",
        "outputId": "7f32ba77-b907-457c-ebe2-58cd4128cbd0"
      },
      "execution_count": 15,
      "outputs": [
        {
          "output_type": "stream",
          "name": "stdout",
          "text": [
            "pair plot not possible , as there is no numerical datas\n"
          ]
        }
      ]
    }
  ]
}