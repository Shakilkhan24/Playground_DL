{
  "nbformat": 4,
  "nbformat_minor": 0,
  "metadata": {
    "colab": {
      "provenance": [],
      "authorship_tag": "ABX9TyO8Xd42ZvNM92PXPB3PU+M4",
      "include_colab_link": true
    },
    "kernelspec": {
      "name": "python3",
      "display_name": "Python 3"
    },
    "language_info": {
      "name": "python"
    }
  },
  "cells": [
    {
      "cell_type": "markdown",
      "metadata": {
        "id": "view-in-github",
        "colab_type": "text"
      },
      "source": [
        "<a href=\"https://colab.research.google.com/github/Shakilkhan24/Playground_DL/blob/main/server_for_langchain_app.ipynb\" target=\"_parent\"><img src=\"https://colab.research.google.com/assets/colab-badge.svg\" alt=\"Open In Colab\"/></a>"
      ]
    },
    {
      "cell_type": "code",
      "execution_count": null,
      "metadata": {
        "id": "v55uvf_JKxi0"
      },
      "outputs": [],
      "source": [
        "https://python.langchain.com/docs/get_started/quickstart"
      ]
    },
    {
      "cell_type": "markdown",
      "source": [
        "# langserve complete"
      ],
      "metadata": {
        "id": "GsKT5DQpK8fr"
      }
    },
    {
      "cell_type": "code",
      "source": [
        "https://python.langchain.com/docs/langserve"
      ],
      "metadata": {
        "id": "61VI4AtzK3mC"
      },
      "execution_count": null,
      "outputs": []
    },
    {
      "cell_type": "code",
      "source": [],
      "metadata": {
        "id": "GDVVW8_ULC_K"
      },
      "execution_count": null,
      "outputs": []
    }
  ]
}