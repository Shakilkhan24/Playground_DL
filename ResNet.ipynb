{
  "nbformat": 4,
  "nbformat_minor": 0,
  "metadata": {
    "colab": {
      "provenance": [],
      "authorship_tag": "ABX9TyM0zVfl72ZTMLW/u+J+mObs",
      "include_colab_link": true
    },
    "kernelspec": {
      "name": "python3",
      "display_name": "Python 3"
    },
    "language_info": {
      "name": "python"
    }
  },
  "cells": [
    {
      "cell_type": "markdown",
      "metadata": {
        "id": "view-in-github",
        "colab_type": "text"
      },
      "source": [
        "<a href=\"https://colab.research.google.com/github/Shakilkhan24/Playground_DL/blob/main/ResNet.ipynb\" target=\"_parent\"><img src=\"https://colab.research.google.com/assets/colab-badge.svg\" alt=\"Open In Colab\"/></a>"
      ]
    },
    {
      "cell_type": "code",
      "source": [
        "import tensorflow as tf"
      ],
      "metadata": {
        "id": "F4VjYLQvhzHL"
      },
      "execution_count": 1,
      "outputs": []
    },
    {
      "cell_type": "code",
      "execution_count": 5,
      "metadata": {
        "id": "ENW1NMFtgRP-"
      },
      "outputs": [],
      "source": [
        "class residual_block(tf.keras.Model):\n",
        "  def __init__(self,filters,projection_shortcut=False,strides=(2,2)):\n",
        "    super(resnet, self).__init__()\n",
        "\n",
        "    self.c1=tf.keras.layers.Conv2D(filters,kernel_size=(3,3),strides=strides,padding='same')\n",
        "    self.b1=tf.keras.layers.BatchNormalization()\n",
        "    self.r1=tf.keras.layers.ReLU()\n",
        "\n",
        "    self.c2=tf.keras.layers.Conv2D(filters,kernel_size=(3,3),padding='same')\n",
        "    self.b2=tf.keras.layers.BatchNormalization()\n",
        "\n",
        "    if projection_shortcut:\n",
        "      self.shortcut=tf.keras.model.Sequential([\n",
        "          tf.keras.layers.Conv2D(filters,kernel_size=(1,1),strides=strides,padding='same'),\n",
        "          tf.keras.layers.BatchNormalization()\n",
        "          ])\n",
        "    else:\n",
        "      self.shortcut=tf.indentity\n",
        "\n",
        "\n",
        "    def call(self,inputs):\n",
        "      x=self.c1(inputs)\n",
        "      x=self.b1(x)\n",
        "      x=self.r1(x)\n",
        "\n",
        "      x=self.c2(x)\n",
        "      x=self.b2(x)\n",
        "\n",
        "      x=x+ self.shortcut(inputs)\n",
        "\n",
        "      return tf.keras.layers.ReLU(x)\n",
        "\n",
        "\n"
      ]
    },
    {
      "cell_type": "code",
      "source": [
        "class resnet(tf.keras.Model):\n",
        "  def __init(self,num_blocks,num_classes):\n",
        "    super(resnet, self).__init__()\n",
        "    # conv 7,7 ,b,r,maxpool\n",
        "    self.c1=tf.keras.layers.Conv2D(64,kernel_size=(7,7),strides=(2,2),padding='same')\n",
        "    self.b1=tf.keras.layers.BatchNormalization()\n",
        "    self.r1=tf.keras.layers.ReLU()\n",
        "    self.m1=tf.keras.layers.MaxPooling2D(pool_size=(3,3),strides=(2,2),padding='same')\n",
        "\n",
        "    self.blocks=[]\n",
        "    for i in range(num_blocks):\n",
        "      if i==0:\n",
        "        self.blocks.append(resnet(64,True,(1,1)))\n",
        "      else:\n",
        "        self.blocks.append(64)\n",
        "\n",
        "    self.avgp=tf.keras.layers.GlobalAveragePooling2D()\n",
        "    self.dl=tf.keras.layers.Dense(num_classes,activation=tf.keras.activations.softmax)\n",
        "\n",
        "    def call(self,inputs):\n",
        "      x=self.c1(inputs)\n",
        "      x=self.b1(x)\n",
        "      x=self.r1(x)\n",
        "      x=self.m1(x)\n",
        "\n",
        "      for block in self.blocks:\n",
        "        x=block(x)\n",
        "      x=self.avgp(x)\n",
        "      x=self.dl(x)\n",
        "\n",
        "      return x\n"
      ],
      "metadata": {
        "id": "bngKJJsNhw0R"
      },
      "execution_count": 7,
      "outputs": []
    },
    {
      "cell_type": "code",
      "source": [],
      "metadata": {
        "id": "xedNjDojrR00"
      },
      "execution_count": null,
      "outputs": []
    }
  ]
}