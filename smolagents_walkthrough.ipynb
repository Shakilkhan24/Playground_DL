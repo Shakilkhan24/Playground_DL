{
 "cells": [
  {
   "cell_type": "markdown",
   "id": "94e46a17-f3fd-4e71-acf3-4b0a11041d6a",
   "metadata": {},
   "source": [
    "# smolagents: Building Intelligent AI Agents with Open Source LLMs\n",
    "\n",
    "<img src=\"./media/smolagents.jpg\" width=600>\n",
    "\n",
    "From the developers at Hugging Face comes [smolagents](https://huggingface.co/blog/smolagents), a powerful yet streamlined framework for building AI agent systems using open source large language models. The framework emphasizes simplicity while providing a robust, modular, and scalable approach to agentic llm system design.\n",
    "\n",
    "**Key Features:**\n",
    "- Native integration with [transformers](https://huggingface.co/docs/transformers/en/index) ecosystem \n",
    "- Local deployment support via [Ollama](https://ollama.com/)\n",
    "- Cloud flexibility through [HuggingFace API](https://huggingface.co/docs/api-inference/index)\n",
    "- Broad model compatibility via [LiteLLM](https://docs.litellm.ai/) and OpenAI API specs\n",
    "\n",
    "Resources: [Documentation](https://huggingface.co/docs/smolagents/index) | [GitHub Repository](https://github.com/huggingface/smolagents/tree/main)\n",
    "\n",
    "**This notebook provides a comprehensive walkthrough of smolagents, covering:**\n",
    "1. Understanding Agents and Code Agents\n",
    "2. Implementing Agents with Different Backends\n",
    "   - HuggingFace Inference API\n",
    "   - OpenAI API Compatible Services  \n",
    "   - Local Deployment with Ollama\n",
    "   - Transformers Integration\n",
    "3. Building Custom Tools and Actions\n",
    "4. Advanced Features\n",
    "   - Intermediate Planning Steps\n",
    "   - Multi-Agent Architectures\n",
    "5. Creating User Interfaces with Gradio"
   ]
  },
  {
   "cell_type": "markdown",
   "id": "888f7312-b0f5-4bf7-87ce-c2190ae275e3",
   "metadata": {},
   "source": [
    "---\n",
    "## Dependencies"
   ]
  },
  {
   "cell_type": "code",
   "execution_count": null,
   "id": "1cad985a-d74d-4b06-b6b9-5611c25b7ef6",
   "metadata": {},
   "outputs": [],
   "source": [
    "from smolagents import (\n",
    "    CodeAgent, \n",
    "    ManagedAgent,\n",
    "    HfApiModel,\n",
    "    tool,\n",
    "    Tool,\n",
    "    DuckDuckGoSearchTool,\n",
    "    load_tool,\n",
    "    GradioUI,\n",
    "    LiteLLMModel\n",
    ")"
   ]
  },
  {
   "cell_type": "code",
   "execution_count": 5,
   "id": "b28059ee-59f8-48a8-b09d-31fe4e98673d",
   "metadata": {},
   "outputs": [
    {
     "data": {
      "application/vnd.jupyter.widget-view+json": {
       "model_id": "8e8f8b2f2cfa4e45b2f58b7d40c12188",
       "version_major": 2,
       "version_minor": 0
      },
      "text/plain": [
       "VBox(children=(HTML(value='<center> <img\\nsrc=https://huggingface.co/front/assets/huggingface_logo-noborder.sv…"
      ]
     },
     "metadata": {},
     "output_type": "display_data"
    }
   ],
   "source": [
    "from huggingface_hub import notebook_login\n",
    "\n",
    "notebook_login()"
   ]
  },
  {
   "cell_type": "markdown",
   "id": "316327c4-f6f5-4f19-b44d-e1fb5234fe7d",
   "metadata": {},
   "source": [
    "---\n",
    "## Single Agents\n",
    "\n",
    "Smolagents defines AI agents as **programs where LLM outputs directly control the workflow**. Different levels of agent autonomy and capability are possible:\n",
    "\n",
    "<img src=\"./media/agents_table.png\" width=600>\n",
    "\n",
    "At their core, agents rely on [tools](https://platform.openai.com/docs/guides/function-calling) - defined functions that allow LLMs to interact with their environment through function execution and output observation. This enables agents to take actions and learn from their results.\n",
    "\n",
    "To orchestrate this interaction, smolagents employs the [ReAct](https://react-lm.github.io/) (Reason + Act) framework, which follows the process:\n",
    "\n",
    "1. **Input Phase**: User query, context, and response instructions are processed\n",
    "2. **Reasoning Phase**: LLM generates a \"thought\", planning next steps based on context\n",
    "3. **Action Phase**: LLM executes a [tool call](https://youtu.be/gMeTK6zzaO4?si=XzwYDe0cVA_hRoaZ), triggering a function, API or sequence\n",
    "4. **Observation Phase**: Tool output is returned to the LLM for processing\n",
    "5. **Loop**: Steps 2-4 repeat until either:\n",
    "   - Original question is answered\n",
    "   - Maximum steps are reached \n",
    "   - Final answer tool is called\n",
    "\n",
    "<img src=\"./media/ReAct.png\" width=600> \n",
    "\n",
    "While this approach is commonly used with Tool Calling Agents like ChatGPT through JSON-based responses, smolagents supports both traditional tool calling via `ToolCallingAgent` and a more powerful code-first default approach."
   ]
  },
  {
   "cell_type": "markdown",
   "id": "0ab8e5b5-432d-4d2c-a2b0-0f0b02ef097b",
   "metadata": {},
   "source": [
    "## CodeAgents\n",
    "\n",
    "Traditional agent implementations use JSON-formatted function calls, where LLMs generate structured objects with function names and arguments. While functional, this approach has key limitations identified in [DynaSaur: Large Language Agents Beyond Predefined Actions](https://arxiv.org/pdf/2411.01747):\n",
    "\n",
    "1. Restricted action space through fixed function sets\n",
    "2. High maintenance burden for implementing and maintaining individual actions\n",
    "3. Limited ability to compose multiple actions together\n",
    "4. No native support for intermediate state management\n",
    "5. Increased complexity in multi-step problem solving\n",
    "\n",
    "To address these limitations, smolagents enables direct code execution for tool handling:\n",
    "\n",
    "<img src=\"./media/codeagent.png\" width=800>\n",
    "\n",
    "As demonstrated in [Executable Code Actions Elicit Better LLM Agents](https://arxiv.org/pdf/2402.01030), code-based execution provides natural support for:\n",
    "- Control flow (if-statements, loops)\n",
    "- Data flow (variable storage, passing)\n",
    "- Tool composition (chaining actions)\n",
    "- State management (intermediate results)\n",
    "- Error handling (try/catch blocks)\n",
    "\n",
    "The example above shows how CodeAct (top right) can handle multiple inputs in a single action through loops, while JSON/text approaches (top left) require separate actions for each input.\n",
    "\n",
    "By defining tools as Python functions and allowing LLMs to write complete programs, smolagents offers several advantages:\n",
    "\n",
    "1. **Ecosystem Integration**: Direct access to powerful [python packages](https://github.com/huggingface/smolagents/blob/main/src/smolagents/utils.py#L36)\n",
    "2. **Natural LLM Interaction**: Leverages models' advanced code generation and understanding capabilities\n",
    "3. **Efficient Execution**: Complex orchestration with fewer discrete actions\n",
    "4. **Robust State Management**: Variable handling for intermediate results\n",
    "5. **Real-time Feedback**: Immediate error handling during execution\n",
    "\n",
    "<img src=\"./media/codeactinstruct.png\" width=800>"
   ]
  },
  {
   "cell_type": "markdown",
   "id": "efdc1d77-e07e-4acd-85f3-cc7e0e22a578",
   "metadata": {},
   "source": [
    "### Hugging Face API\n",
    "\n",
    "<img src=\"./media/hf.png\" width=400>\n",
    "\n",
    "The [Hugging Face Inference API](https://huggingface.co/docs/api-inference/index) provides cloud access to most currently popular models hosted on Hugging Face. With flexible rate limits and pay-per-call pricing based on subscription tier, it's an excellent starting point for working with open source models. See the [documentation](https://huggingface.co/docs/api-inference/supported-models) for detailed model support information.\n",
    "\n",
    "Given our focus on code execution, we'll use [Qwen/Qwen2.5-Coder-32B-Instruct](https://huggingface.co/Qwen/Qwen2.5-Coder-32B-Instruct) as our base model. By adding `add_base_tools` we get instant access to web search and page loading capabilities."
   ]
  },
  {
   "cell_type": "code",
   "execution_count": null,
   "id": "bd540481-5a20-4012-ad8f-8e7ac8a0203a",
   "metadata": {
    "scrolled": true
   },
   "outputs": [],
   "source": [
    "# Define the Model\n",
    "hfapi_model = HfApiModel(model_id=\"Qwen/Qwen2.5-Coder-32B-Instruct\")\n",
    "\n",
    "# Create the Agent\n",
    "hfapi_agent = CodeAgent(tools=[], \n",
    "                        model=hfapi_model, \n",
    "                        add_base_tools=True, \n",
    "                        verbosity_level=2 # See full logs\n",
    "                       )\n",
    "\n",
    "# Launch the Agent\n",
    "hfapi_agent.run(\n",
    "    \"Who is Adam Lucek the AI youtuber?\",\n",
    ")"
   ]
  },
  {
   "cell_type": "markdown",
   "id": "c2612c93-b295-46e1-b0b6-4b8b5a0ce5c7",
   "metadata": {},
   "source": [
    "#### Behind the Scenes\n",
    "\n",
    "Smolagents handles prompting between steps very eloquently, it's worth reading over their [prompts.py](https://github.com/huggingface/smolagents/blob/main/src/smolagents/prompts.py) file to see exactly how each LLM call is handled across the sequence.\n",
    "\n",
    "Let's take a peek at some of the intermediate steps not shown"
   ]
  },
  {
   "cell_type": "markdown",
   "id": "42fdb159-e234-4773-b046-f31b5a420362",
   "metadata": {},
   "source": [
    "**System Prompt**"
   ]
  },
  {
   "cell_type": "code",
   "execution_count": 7,
   "id": "94710699-f58a-485f-a6c5-68caf62e97b8",
   "metadata": {
    "scrolled": true
   },
   "outputs": [
    {
     "name": "stdout",
     "output_type": "stream",
     "text": [
      "You are an expert assistant who can solve any task using code blobs. You will be given a task to solve as best you can.\n",
      "To do so, you have been given access to a list of tools: these tools are basically Python functions which you can call with code.\n",
      "To solve the task, you must plan forward to proceed in a series of steps, in a cycle of 'Thought:', 'Code:', and 'Observation:' sequences.\n",
      "\n",
      "At each step, in the 'Thought:' sequence, you should first explain your reasoning towards solving the task and the tools that you want to use.\n",
      "Then in the 'Code:' sequence, you should write the code in simple Python. The code sequence must end with '<end_code>' sequence.\n",
      "During each intermediate step, you can use 'print()' to save whatever important information you will then need.\n",
      "These print outputs will then appear in the 'Observation:' field, which will be available as input for the next step.\n",
      "In the end you have to return a final answer using the `final_answer` tool.\n",
      "\n",
      "Here are a few examples using notional tools:\n",
      "---\n",
      "Task: \"Generate an image of the oldest person in this document.\"\n",
      "\n",
      "Thought: I will proceed step by step and use the following tools: `document_qa` to find the oldest person in the document, then `image_generator` to generate an image according to the answer.\n",
      "Code:\n",
      "```py\n",
      "answer = document_qa(document=document, question=\"Who is the oldest person mentioned?\")\n",
      "print(answer)\n",
      "```<end_code>\n",
      "Observation: \"The oldest person in the document is John Doe, a 55 year old lumberjack living in Newfoundland.\"\n",
      "\n",
      "Thought: I will now generate an image showcasing the oldest person.\n",
      "Code:\n",
      "```py\n",
      "image = image_generator(\"A portrait of John Doe, a 55-year-old man living in Canada.\")\n",
      "final_answer(image)\n",
      "```<end_code>\n",
      "\n",
      "---\n",
      "Task: \"What is the result of the following operation: 5 + 3 + 1294.678?\"\n",
      "\n",
      "Thought: I will use python code to compute the result of the operation and then return the final answer using the `final_answer` tool\n",
      "Code:\n",
      "```py\n",
      "result = 5 + 3 + 1294.678\n",
      "final_answer(result)\n",
      "```<end_code>\n",
      "\n",
      "---\n",
      "Task:\n",
      "\"Answer the question in the variable `question` about the image stored in the variable `image`. The question is in French.\n",
      "You have been provided with these additional arguments, that you can access using the keys as variables in your python code:\n",
      "{'question': 'Quel est l'animal sur l'image?', 'image': 'path/to/image.jpg'}\"\n",
      "\n",
      "Thought: I will use the following tools: `translator` to translate the question into English and then `image_qa` to answer the question on the input image.\n",
      "Code:\n",
      "```py\n",
      "translated_question = translator(question=question, src_lang=\"French\", tgt_lang=\"English\")\n",
      "print(f\"The translated question is {translated_question}.\")\n",
      "answer = image_qa(image=image, question=translated_question)\n",
      "final_answer(f\"The answer is {answer}\")\n",
      "```<end_code>\n",
      "\n",
      "---\n",
      "Task:\n",
      "In a 1979 interview, Stanislaus Ulam discusses with Martin Sherwin about other great physicists of his time, including Oppenheimer.\n",
      "What does he say was the consequence of Einstein learning too much math on his creativity, in one word?\n",
      "\n",
      "Thought: I need to find and read the 1979 interview of Stanislaus Ulam with Martin Sherwin.\n",
      "Code:\n",
      "```py\n",
      "pages = search(query=\"1979 interview Stanislaus Ulam Martin Sherwin physicists Einstein\")\n",
      "print(pages)\n",
      "```<end_code>\n",
      "Observation:\n",
      "No result found for query \"1979 interview Stanislaus Ulam Martin Sherwin physicists Einstein\".\n",
      "\n",
      "Thought: The query was maybe too restrictive and did not find any results. Let's try again with a broader query.\n",
      "Code:\n",
      "```py\n",
      "pages = search(query=\"1979 interview Stanislaus Ulam\")\n",
      "print(pages)\n",
      "```<end_code>\n",
      "Observation:\n",
      "Found 6 pages:\n",
      "[Stanislaus Ulam 1979 interview](https://ahf.nuclearmuseum.org/voices/oral-histories/stanislaus-ulams-interview-1979/)\n",
      "\n",
      "[Ulam discusses Manhattan Project](https://ahf.nuclearmuseum.org/manhattan-project/ulam-manhattan-project/)\n",
      "\n",
      "(truncated)\n",
      "\n",
      "Thought: I will read the first 2 pages to know more.\n",
      "Code:\n",
      "```py\n",
      "for url in [\"https://ahf.nuclearmuseum.org/voices/oral-histories/stanislaus-ulams-interview-1979/\", \"https://ahf.nuclearmuseum.org/manhattan-project/ulam-manhattan-project/\"]:\n",
      "    whole_page = visit_webpage(url)\n",
      "    print(whole_page)\n",
      "    print(\"\n",
      "\" + \"=\"*80 + \"\n",
      "\")  # Print separator between pages\n",
      "```<end_code>\n",
      "Observation:\n",
      "Manhattan Project Locations:\n",
      "Los Alamos, NM\n",
      "Stanislaus Ulam was a Polish-American mathematician. He worked on the Manhattan Project at Los Alamos and later helped design the hydrogen bomb. In this interview, he discusses his work at\n",
      "(truncated)\n",
      "\n",
      "Thought: I now have the final answer: from the webpages visited, Stanislaus Ulam says of Einstein: \"He learned too much mathematics and sort of diminished, it seems to me personally, it seems to me his purely physics creativity.\" Let's answer in one word.\n",
      "Code:\n",
      "```py\n",
      "final_answer(\"diminished\")\n",
      "```<end_code>\n",
      "\n",
      "---\n",
      "Task: \"Which city has the highest population: Guangzhou or Shanghai?\"\n",
      "\n",
      "Thought: I need to get the populations for both cities and compare them: I will use the tool `search` to get the population of both cities.\n",
      "Code:\n",
      "```py\n",
      "for city in [\"Guangzhou\", \"Shanghai\"]:\n",
      "    print(f\"Population {city}:\", search(f\"{city} population\")\n",
      "```<end_code>\n",
      "Observation:\n",
      "Population Guangzhou: ['Guangzhou has a population of 15 million inhabitants as of 2021.']\n",
      "Population Shanghai: '26 million (2019)'\n",
      "\n",
      "Thought: Now I know that Shanghai has the highest population.\n",
      "Code:\n",
      "```py\n",
      "final_answer(\"Shanghai\")\n",
      "```<end_code>\n",
      "\n",
      "---\n",
      "Task: \"What is the current age of the pope, raised to the power 0.36?\"\n",
      "\n",
      "Thought: I will use the tool `wiki` to get the age of the pope, and confirm that with a web search.\n",
      "Code:\n",
      "```py\n",
      "pope_age_wiki = wiki(query=\"current pope age\")\n",
      "print(\"Pope age as per wikipedia:\", pope_age_wiki)\n",
      "pope_age_search = web_search(query=\"current pope age\")\n",
      "print(\"Pope age as per google search:\", pope_age_search)\n",
      "```<end_code>\n",
      "Observation:\n",
      "Pope age: \"The pope Francis is currently 88 years old.\"\n",
      "\n",
      "Thought: I know that the pope is 88 years old. Let's compute the result using python code.\n",
      "Code:\n",
      "```py\n",
      "pope_current_age = 88 ** 0.36\n",
      "final_answer(pope_current_age)\n",
      "```<end_code>\n",
      "\n",
      "Above example were using notional tools that might not exist for you. On top of performing computations in the Python code snippets that you create, you only have access to these tools:\n",
      "\n",
      "\n",
      "- web_search: Performs a duckduckgo web search based on your query (think a Google search) then returns the top search results.\n",
      "    Takes inputs: {'query': {'type': 'string', 'description': 'The search query to perform.'}}\n",
      "    Returns an output of type: string\n",
      "\n",
      "- visit_webpage: Visits a webpage at the given url and reads its content as a markdown string. Use this to browse webpages.\n",
      "    Takes inputs: {'url': {'type': 'string', 'description': 'The url of the webpage to visit.'}}\n",
      "    Returns an output of type: string\n",
      "\n",
      "- final_answer: Provides a final answer to the given problem.\n",
      "    Takes inputs: {'answer': {'type': 'any', 'description': 'The final answer to the problem'}}\n",
      "    Returns an output of type: any\n",
      "\n",
      "\n",
      "\n",
      "Here are the rules you should always follow to solve your task:\n",
      "1. Always provide a 'Thought:' sequence, and a 'Code:\n",
      "```py' sequence ending with '```<end_code>' sequence, else you will fail.\n",
      "2. Use only variables that you have defined!\n",
      "3. Always use the right arguments for the tools. DO NOT pass the arguments as a dict as in 'answer = wiki({'query': \"What is the place where James Bond lives?\"})', but use the arguments directly as in 'answer = wiki(query=\"What is the place where James Bond lives?\")'.\n",
      "4. Take care to not chain too many sequential tool calls in the same code block, especially when the output format is unpredictable. For instance, a call to search has an unpredictable return format, so do not have another tool call that depends on its output in the same block: rather output results with print() to use them in the next block.\n",
      "5. Call a tool only when needed, and never re-do a tool call that you previously did with the exact same parameters.\n",
      "6. Don't name any new variable with the same name as a tool: for instance don't name a variable 'final_answer'.\n",
      "7. Never create any notional variables in our code, as having these in your logs will derail you from the true variables.\n",
      "8. You can use imports in your code, but only from the following list of modules: {{authorized_imports}}\n",
      "9. The state persists between code executions: so if in one step you've created variables or imported modules, these will all persist.\n",
      "10. Don't give up! You're in charge of solving the task, not providing directions to solve it.\n",
      "\n",
      "Now Begin! If you solve the task correctly, you will receive a reward of $1,000,000.\n",
      "\n"
     ]
    }
   ],
   "source": [
    "print(hfapi_agent.logs[0].system_prompt)"
   ]
  },
  {
   "cell_type": "markdown",
   "id": "cd788de5-55c6-46fd-a849-e640d1cecfeb",
   "metadata": {},
   "source": [
    "**User Message**\n",
    "\n",
    "This is placed after the system prompt"
   ]
  },
  {
   "cell_type": "code",
   "execution_count": 8,
   "id": "b68b855a-aa94-4909-afd7-5e09960c5473",
   "metadata": {},
   "outputs": [
    {
     "name": "stdout",
     "output_type": "stream",
     "text": [
      "New task:\n",
      "Who is Adam Lucek the AI youtuber?\n"
     ]
    }
   ],
   "source": [
    "print(hfapi_agent.logs[2].agent_memory[1]['content'])"
   ]
  },
  {
   "cell_type": "markdown",
   "id": "c70c0b3e-27fc-4322-8916-ac350e9d87a6",
   "metadata": {},
   "source": [
    "**Agent Response**"
   ]
  },
  {
   "cell_type": "code",
   "execution_count": 9,
   "id": "073407b8-f03e-4313-801a-26f2ede88faf",
   "metadata": {},
   "outputs": [
    {
     "name": "stdout",
     "output_type": "stream",
     "text": [
      "Thought: To find information about Adam Lucek, the AI YouTuber, I will perform a web search to gather relevant details.\n",
      "\n",
      "Code:\n",
      "```py\n",
      "adam_lucek_info = web_search(query=\"Adam Lucek AI YouTuber\")\n",
      "print(adam_lucek_info)\n",
      "```<end_code>\n"
     ]
    }
   ],
   "source": [
    "print(hfapi_agent.logs[3].agent_memory[2]['content'])"
   ]
  },
  {
   "cell_type": "markdown",
   "id": "672ca8b6-2967-4fac-ba0f-652995e4bf28",
   "metadata": {},
   "source": [
    "**Final Response**\n",
    "\n",
    "Skipping a few in between calls and observations for brevity"
   ]
  },
  {
   "cell_type": "code",
   "execution_count": 10,
   "id": "f011bb5a-be6f-4dcc-b51f-7fe8c08ceb35",
   "metadata": {},
   "outputs": [
    {
     "name": "stdout",
     "output_type": "stream",
     "text": [
      "Reached max steps. \n",
      "\n",
      "\n",
      "Based on the available information from the search results, Adam Lucek appears to be an AI YouTuber who focuses on AI and machine learning topics. Here are some key points about him:\n",
      "\n",
      "1. **YouTube Channel**: Adam Lucek has a YouTube channel where he shares content related to AI, including videos on fine-tuning language models, multimodal retrieval augmented generation (RAG), and other AI-related projects.\n",
      "\n",
      "2. **LinkedIn Profile**: Adam Łucek, likely the same person, has a LinkedIn profile where he is listed as a MarTech Portfolio & Innovation Specialist at Cisco. His LinkedIn posts mention his work with AI and generative models, such as creating AI-powered robots and discussing the impact of generative AI on his YouTube videos.\n",
      "\n",
      "3. **GitHub and Hugging Face**: Adam Łucek is active on GitHub and Hugging Face, sharing his projects and models related to machine learning and AI.\n",
      "\n",
      "4. **Engagement**: His YouTube videos have gained significant popularity, with one of his generative AI-related video series being viewed over a million times across YouTube.\n",
      "\n",
      "While the direct content from LinkedIn and YouTube might not be fully accessible, the information suggests that Adam Lucek is an individual who combines his professional experience in technology with a passion for creating educational and informative content about AI and machine learning on YouTube.\n"
     ]
    }
   ],
   "source": [
    "print(hfapi_agent.logs[8].error, \"\\n\\n\")\n",
    "print(hfapi_agent.logs[8].action_output)"
   ]
  },
  {
   "cell_type": "markdown",
   "id": "7d6e72a8-2769-4714-be56-234f80fb90b5",
   "metadata": {},
   "source": [
    "### OpenAI API Specification\n",
    "\n",
    "<img src=\"./media/oai.png\" width=300>\n",
    "\n",
    "Many model providers have adopted the [OpenAI API Specification](https://platform.openai.com/docs/api-reference/introduction), making it easy to swap models without rewriting application code. Smolagents uses [litellm](https://docs.litellm.ai/) to handle this integration automatically across their supported [provider list](https://docs.litellm.ai/docs/providers). This means you only need to adjust the `api_base` endpoint and model name to work with any compatible API."
   ]
  },
  {
   "cell_type": "code",
   "execution_count": 11,
   "id": "1b4767c7-b50f-4506-96bb-30ca73f3661f",
   "metadata": {},
   "outputs": [
    {
     "data": {
      "text/html": [
       "<pre style=\"white-space:pre;overflow-x:auto;line-height:normal;font-family:Menlo,'DejaVu Sans Mono',consolas,'Courier New',monospace\"><span style=\"color: #d4b702; text-decoration-color: #d4b702\">╭────────────────────────────────────────────────────────────────────────────────────────────── </span><span style=\"color: #d4b702; text-decoration-color: #d4b702; font-weight: bold\">New run</span><span style=\"color: #d4b702; text-decoration-color: #d4b702\"> ───────────────────────────────────────────────────────────────────────────────────────────────╮</span>\n",
       "<span style=\"color: #d4b702; text-decoration-color: #d4b702\">│</span>                                                                                                                                                                                                      <span style=\"color: #d4b702; text-decoration-color: #d4b702\">│</span>\n",
       "<span style=\"color: #d4b702; text-decoration-color: #d4b702\">│</span> <span style=\"font-weight: bold\">What is Adam Lucek's subscriber count multiplied by the 118th fibbonaci sequence number</span>                                                                                                              <span style=\"color: #d4b702; text-decoration-color: #d4b702\">│</span>\n",
       "<span style=\"color: #d4b702; text-decoration-color: #d4b702\">│</span>                                                                                                                                                                                                      <span style=\"color: #d4b702; text-decoration-color: #d4b702\">│</span>\n",
       "<span style=\"color: #d4b702; text-decoration-color: #d4b702\">╰─ LiteLLMModel - anthropic/claude-3-5-haiku-latest ───────────────────────────────────────────────────────────────────────────────────────────────────────────────────────────────────────────────────╯</span>\n",
       "</pre>\n"
      ],
      "text/plain": [
       "\u001b[38;2;212;183;2m╭─\u001b[0m\u001b[38;2;212;183;2m─────────────────────────────────────────────────────────────────────────────────────────────\u001b[0m\u001b[38;2;212;183;2m \u001b[0m\u001b[1;38;2;212;183;2mNew run\u001b[0m\u001b[38;2;212;183;2m \u001b[0m\u001b[38;2;212;183;2m──────────────────────────────────────────────────────────────────────────────────────────────\u001b[0m\u001b[38;2;212;183;2m─╮\u001b[0m\n",
       "\u001b[38;2;212;183;2m│\u001b[0m                                                                                                                                                                                                      \u001b[38;2;212;183;2m│\u001b[0m\n",
       "\u001b[38;2;212;183;2m│\u001b[0m \u001b[1mWhat is Adam Lucek's subscriber count multiplied by the 118th fibbonaci sequence number\u001b[0m                                                                                                              \u001b[38;2;212;183;2m│\u001b[0m\n",
       "\u001b[38;2;212;183;2m│\u001b[0m                                                                                                                                                                                                      \u001b[38;2;212;183;2m│\u001b[0m\n",
       "\u001b[38;2;212;183;2m╰─\u001b[0m\u001b[38;2;212;183;2m LiteLLMModel - anthropic/claude-3-5-haiku-latest \u001b[0m\u001b[38;2;212;183;2m──────────────────────────────────────────────────────────────────────────────────────────────────────────────────────────────────────────────────\u001b[0m\u001b[38;2;212;183;2m─╯\u001b[0m\n"
      ]
     },
     "metadata": {},
     "output_type": "display_data"
    },
    {
     "data": {
      "text/html": [
       "<pre style=\"white-space:pre;overflow-x:auto;line-height:normal;font-family:Menlo,'DejaVu Sans Mono',consolas,'Courier New',monospace\"><span style=\"color: #d4b702; text-decoration-color: #d4b702\">━━━━━━━━━━━━━━━━━━━━━━━━━━━━━━━━━━━━━━━━━━━━━━━━━━━━━━━━━━━━━━━━━━━━━━━━━━━━━━━━━━━━━━━━━━━━━━━━ </span><span style=\"font-weight: bold\">Step </span><span style=\"color: #008080; text-decoration-color: #008080; font-weight: bold\">0</span><span style=\"color: #d4b702; text-decoration-color: #d4b702\"> ━━━━━━━━━━━━━━━━━━━━━━━━━━━━━━━━━━━━━━━━━━━━━━━━━━━━━━━━━━━━━━━━━━━━━━━━━━━━━━━━━━━━━━━━━━━━━━━━</span>\n",
       "</pre>\n"
      ],
      "text/plain": [
       "\u001b[38;2;212;183;2m━━━━━━━━━━━━━━━━━━━━━━━━━━━━━━━━━━━━━━━━━━━━━━━━━━━━━━━━━━━━━━━━━━━━━━━━━━━━━━━━━━━━━━━━━━━━━━━━ \u001b[0m\u001b[1mStep \u001b[0m\u001b[1;36m0\u001b[0m\u001b[38;2;212;183;2m ━━━━━━━━━━━━━━━━━━━━━━━━━━━━━━━━━━━━━━━━━━━━━━━━━━━━━━━━━━━━━━━━━━━━━━━━━━━━━━━━━━━━━━━━━━━━━━━━\u001b[0m\n"
      ]
     },
     "metadata": {},
     "output_type": "display_data"
    },
    {
     "data": {
      "text/html": [
       "<pre style=\"white-space:pre;overflow-x:auto;line-height:normal;font-family:Menlo,'DejaVu Sans Mono',consolas,'Courier New',monospace\"> ─ <span style=\"font-weight: bold\">Executing this code:</span> ─────────────────────────────────────────────────────────────────────────────────────────────────────────────────────────────────────────────────────────────────────────────── \n",
       "  <span style=\"color: #959077; text-decoration-color: #959077; background-color: #272822\"># Search for Adam Lucek's subscriber count</span><span style=\"background-color: #272822\">                                                                                                                                                          </span>  \n",
       "  <span style=\"color: #f8f8f2; text-decoration-color: #f8f8f2; background-color: #272822\">search_result </span><span style=\"color: #ff4689; text-decoration-color: #ff4689; background-color: #272822\">=</span><span style=\"color: #f8f8f2; text-decoration-color: #f8f8f2; background-color: #272822\"> web_search(query</span><span style=\"color: #ff4689; text-decoration-color: #ff4689; background-color: #272822\">=</span><span style=\"color: #e6db74; text-decoration-color: #e6db74; background-color: #272822\">\"Adam Lucek YouTube subscribers\"</span><span style=\"color: #f8f8f2; text-decoration-color: #f8f8f2; background-color: #272822\">)</span><span style=\"background-color: #272822\">                                                                                                                                  </span>  \n",
       "  <span style=\"color: #f8f8f2; text-decoration-color: #f8f8f2; background-color: #272822\">print(</span><span style=\"color: #e6db74; text-decoration-color: #e6db74; background-color: #272822\">\"Search result:\"</span><span style=\"color: #f8f8f2; text-decoration-color: #f8f8f2; background-color: #272822\">, search_result)</span><span style=\"background-color: #272822\">                                                                                                                                                              </span>  \n",
       " ────────────────────────────────────────────────────────────────────────────────────────────────────────────────────────────────────────────────────────────────────────────────────────────────────── \n",
       "</pre>\n"
      ],
      "text/plain": [
       " ─ \u001b[1mExecuting this code:\u001b[0m ─────────────────────────────────────────────────────────────────────────────────────────────────────────────────────────────────────────────────────────────────────────────── \n",
       "  \u001b[38;2;149;144;119;48;2;39;40;34m# Search for Adam Lucek's subscriber count\u001b[0m\u001b[48;2;39;40;34m                                                                                                                                                          \u001b[0m  \n",
       "  \u001b[38;2;248;248;242;48;2;39;40;34msearch_result\u001b[0m\u001b[38;2;248;248;242;48;2;39;40;34m \u001b[0m\u001b[38;2;255;70;137;48;2;39;40;34m=\u001b[0m\u001b[38;2;248;248;242;48;2;39;40;34m \u001b[0m\u001b[38;2;248;248;242;48;2;39;40;34mweb_search\u001b[0m\u001b[38;2;248;248;242;48;2;39;40;34m(\u001b[0m\u001b[38;2;248;248;242;48;2;39;40;34mquery\u001b[0m\u001b[38;2;255;70;137;48;2;39;40;34m=\u001b[0m\u001b[38;2;230;219;116;48;2;39;40;34m\"\u001b[0m\u001b[38;2;230;219;116;48;2;39;40;34mAdam Lucek YouTube subscribers\u001b[0m\u001b[38;2;230;219;116;48;2;39;40;34m\"\u001b[0m\u001b[38;2;248;248;242;48;2;39;40;34m)\u001b[0m\u001b[48;2;39;40;34m                                                                                                                                  \u001b[0m  \n",
       "  \u001b[38;2;248;248;242;48;2;39;40;34mprint\u001b[0m\u001b[38;2;248;248;242;48;2;39;40;34m(\u001b[0m\u001b[38;2;230;219;116;48;2;39;40;34m\"\u001b[0m\u001b[38;2;230;219;116;48;2;39;40;34mSearch result:\u001b[0m\u001b[38;2;230;219;116;48;2;39;40;34m\"\u001b[0m\u001b[38;2;248;248;242;48;2;39;40;34m,\u001b[0m\u001b[38;2;248;248;242;48;2;39;40;34m \u001b[0m\u001b[38;2;248;248;242;48;2;39;40;34msearch_result\u001b[0m\u001b[38;2;248;248;242;48;2;39;40;34m)\u001b[0m\u001b[48;2;39;40;34m                                                                                                                                                              \u001b[0m  \n",
       " ────────────────────────────────────────────────────────────────────────────────────────────────────────────────────────────────────────────────────────────────────────────────────────────────────── \n"
      ]
     },
     "metadata": {},
     "output_type": "display_data"
    },
    {
     "data": {
      "text/html": [
       "<pre style=\"white-space:pre;overflow-x:auto;line-height:normal;font-family:Menlo,'DejaVu Sans Mono',consolas,'Courier New',monospace\"><span style=\"font-weight: bold\">Execution logs:</span>\n",
       "Search result: ## Search Results\n",
       "\n",
       "[Adam Lucek - YouTube](https://www.youtube.com/channel/UCy6rH4hKHMLdd5s-FUrto7Q/community?lb=UgkxspARMV7P9GwIDZ4E4f_cRMtbrcxkxnxm)\n",
       "teach them to long for the endless immensity of the sea Documenting my learning journey with the world For inquiries, refer to the email in my links section.\n",
       "\n",
       "[Post from Adam Lucek - YouTube](https://www.youtube.com/post/UgkxZ75ueO4LcqO-Qq6LqyVgvkrrCf5oUlF6)\n",
       "Thank you all so much for 4,000 subscribers 🎉🎉🎉🥳🥳🥳🥳 I appreciate all of the support and positivity that's come from this channel so far, here's to more! As a...\n",
       "\n",
       "[Adam Lucek - YouTube](https://www.youtube.com/channel/UCLFzcap1jIaiM6KRG90Dwbw/about)\n",
       "Share your videos with friends, family, and the world\n",
       "\n",
       "[Track YouTube analytics, future predictions, &amp; live subscriber counts ...](https://socialblade.com/youtube/)\n",
       "View the daily YouTube analytics, track progress charts, view future predictions, related channels, and track realtime live sub counts. ... Top 25 YouTube Users by Subscribers View More. Rank. Grade. \n",
       "Display Name. Videos. Subscribers.\n",
       "\n",
       "[AdamLucek/youtube-titles · Datasets at Hugging Face](https://huggingface.co/datasets/AdamLucek/youtube-titles)\n",
       "You look at a given youtube title and description and reverse it to a plausible prompt that would cause a title generating assistant to create that title. Note that youtube descriptions are not all \n",
       "directly related to the video, and often contain advertisements irrelevant information to the actual video.\n",
       "\n",
       "[Lucek's YouTube Stats and Insights - vidIQ](https://vidiq.com/youtube-stats/channel/UCbdNs5JkKaqvn623qrydqBw/)\n",
       "View the daily YouTube analytics of Lucek to get AI-powered insights based on progress charts, view future predictions, related channels, engagement rates, and more. Features. Features. Daily Ideas; \n",
       "Keyword Tools; ... Top 50 YouTube Channels. Top 100 YouTube Channels. Top 500 YouTube Channels.\n",
       "\n",
       "[Lucek Youtuber overview](https://us.youtubers.me/mowpolucku/youtuber-stats)\n",
       "Purple Daily - a Minnesota Vikings Podcast. 40,500 Subscribers. gaming chair\n",
       "\n",
       "[Adam Lucek - Invidious](https://yt.houtworm.vip/channel/UCy6rH4hKHMLdd5s-FUrto7Q)\n",
       "View channel on YouTube. Switch Invidious Instance. Videos. Playlists. Community. newest. oldest. popular. 24:46. ... Adam Lucek Shared 1 month ago. 10K views. 9:30. Speak Any Language With AI - \n",
       "Realtime Speech-to-Speech Translation &amp; Voice Synthesis (w/Code) Adam Lucek Shared 1 month ago ...\n",
       "\n",
       "[Adam Łucek - MarTech Portfolio &amp; Innovation Specialist - Cisco - LinkedIn](https://www.linkedin.com/in/adamrlucek)\n",
       "Adam's projects were in the digital marketing realm of selector tools, filtering and social media platforms, masterfully presented to hundreds, 100% data driven, employing swiftly adopted ...\n",
       "\n",
       "[Post from Adam Lucek - YouTube](https://www.youtube.com/post/Ugkxv0181gV3cvZRNAaAiRh8MpCtOeIdWEd3)\n",
       "Ever thought about merging already fine tuned language models?🤔 🤖🤝🤖🟰🦾 What it is, ways to do it, and examples of 4 different methods across 4 different archi...\n",
       "\n",
       "Out: None\n",
       "</pre>\n"
      ],
      "text/plain": [
       "\u001b[1mExecution logs:\u001b[0m\n",
       "Search result: ## Search Results\n",
       "\n",
       "[Adam Lucek - YouTube](https://www.youtube.com/channel/UCy6rH4hKHMLdd5s-FUrto7Q/community?lb=UgkxspARMV7P9GwIDZ4E4f_cRMtbrcxkxnxm)\n",
       "teach them to long for the endless immensity of the sea Documenting my learning journey with the world For inquiries, refer to the email in my links section.\n",
       "\n",
       "[Post from Adam Lucek - YouTube](https://www.youtube.com/post/UgkxZ75ueO4LcqO-Qq6LqyVgvkrrCf5oUlF6)\n",
       "Thank you all so much for 4,000 subscribers 🎉🎉🎉🥳🥳🥳🥳 I appreciate all of the support and positivity that's come from this channel so far, here's to more! As a...\n",
       "\n",
       "[Adam Lucek - YouTube](https://www.youtube.com/channel/UCLFzcap1jIaiM6KRG90Dwbw/about)\n",
       "Share your videos with friends, family, and the world\n",
       "\n",
       "[Track YouTube analytics, future predictions, & live subscriber counts ...](https://socialblade.com/youtube/)\n",
       "View the daily YouTube analytics, track progress charts, view future predictions, related channels, and track realtime live sub counts. ... Top 25 YouTube Users by Subscribers View More. Rank. Grade. \n",
       "Display Name. Videos. Subscribers.\n",
       "\n",
       "[AdamLucek/youtube-titles · Datasets at Hugging Face](https://huggingface.co/datasets/AdamLucek/youtube-titles)\n",
       "You look at a given youtube title and description and reverse it to a plausible prompt that would cause a title generating assistant to create that title. Note that youtube descriptions are not all \n",
       "directly related to the video, and often contain advertisements irrelevant information to the actual video.\n",
       "\n",
       "[Lucek's YouTube Stats and Insights - vidIQ](https://vidiq.com/youtube-stats/channel/UCbdNs5JkKaqvn623qrydqBw/)\n",
       "View the daily YouTube analytics of Lucek to get AI-powered insights based on progress charts, view future predictions, related channels, engagement rates, and more. Features. Features. Daily Ideas; \n",
       "Keyword Tools; ... Top 50 YouTube Channels. Top 100 YouTube Channels. Top 500 YouTube Channels.\n",
       "\n",
       "[Lucek Youtuber overview](https://us.youtubers.me/mowpolucku/youtuber-stats)\n",
       "Purple Daily - a Minnesota Vikings Podcast. 40,500 Subscribers. gaming chair\n",
       "\n",
       "[Adam Lucek - Invidious](https://yt.houtworm.vip/channel/UCy6rH4hKHMLdd5s-FUrto7Q)\n",
       "View channel on YouTube. Switch Invidious Instance. Videos. Playlists. Community. newest. oldest. popular. 24:46. ... Adam Lucek Shared 1 month ago. 10K views. 9:30. Speak Any Language With AI - \n",
       "Realtime Speech-to-Speech Translation & Voice Synthesis (w/Code) Adam Lucek Shared 1 month ago ...\n",
       "\n",
       "[Adam Łucek - MarTech Portfolio & Innovation Specialist - Cisco - LinkedIn](https://www.linkedin.com/in/adamrlucek)\n",
       "Adam's projects were in the digital marketing realm of selector tools, filtering and social media platforms, masterfully presented to hundreds, 100% data driven, employing swiftly adopted ...\n",
       "\n",
       "[Post from Adam Lucek - YouTube](https://www.youtube.com/post/Ugkxv0181gV3cvZRNAaAiRh8MpCtOeIdWEd3)\n",
       "Ever thought about merging already fine tuned language models?🤔 🤖🤝🤖🟰🦾 What it is, ways to do it, and examples of 4 different methods across 4 different archi...\n",
       "\n",
       "Out: None\n"
      ]
     },
     "metadata": {},
     "output_type": "display_data"
    },
    {
     "data": {
      "text/html": [
       "<pre style=\"white-space:pre;overflow-x:auto;line-height:normal;font-family:Menlo,'DejaVu Sans Mono',consolas,'Courier New',monospace\"><span style=\"color: #7f7f7f; text-decoration-color: #7f7f7f\">[Step 0: Duration 3.72 seconds| Input tokens: 2,405 | Output tokens: 94]</span>\n",
       "</pre>\n"
      ],
      "text/plain": [
       "\u001b[2m[Step 0: Duration 3.72 seconds| Input tokens: 2,405 | Output tokens: 94]\u001b[0m\n"
      ]
     },
     "metadata": {},
     "output_type": "display_data"
    },
    {
     "data": {
      "text/html": [
       "<pre style=\"white-space:pre;overflow-x:auto;line-height:normal;font-family:Menlo,'DejaVu Sans Mono',consolas,'Courier New',monospace\"><span style=\"color: #d4b702; text-decoration-color: #d4b702\">━━━━━━━━━━━━━━━━━━━━━━━━━━━━━━━━━━━━━━━━━━━━━━━━━━━━━━━━━━━━━━━━━━━━━━━━━━━━━━━━━━━━━━━━━━━━━━━━ </span><span style=\"font-weight: bold\">Step </span><span style=\"color: #008080; text-decoration-color: #008080; font-weight: bold\">1</span><span style=\"color: #d4b702; text-decoration-color: #d4b702\"> ━━━━━━━━━━━━━━━━━━━━━━━━━━━━━━━━━━━━━━━━━━━━━━━━━━━━━━━━━━━━━━━━━━━━━━━━━━━━━━━━━━━━━━━━━━━━━━━━</span>\n",
       "</pre>\n"
      ],
      "text/plain": [
       "\u001b[38;2;212;183;2m━━━━━━━━━━━━━━━━━━━━━━━━━━━━━━━━━━━━━━━━━━━━━━━━━━━━━━━━━━━━━━━━━━━━━━━━━━━━━━━━━━━━━━━━━━━━━━━━ \u001b[0m\u001b[1mStep \u001b[0m\u001b[1;36m1\u001b[0m\u001b[38;2;212;183;2m ━━━━━━━━━━━━━━━━━━━━━━━━━━━━━━━━━━━━━━━━━━━━━━━━━━━━━━━━━━━━━━━━━━━━━━━━━━━━━━━━━━━━━━━━━━━━━━━━\u001b[0m\n"
      ]
     },
     "metadata": {},
     "output_type": "display_data"
    },
    {
     "data": {
      "text/html": [
       "<pre style=\"white-space:pre;overflow-x:auto;line-height:normal;font-family:Menlo,'DejaVu Sans Mono',consolas,'Courier New',monospace\"> ─ <span style=\"font-weight: bold\">Executing this code:</span> ─────────────────────────────────────────────────────────────────────────────────────────────────────────────────────────────────────────────────────────────────────────────── \n",
       "  <span style=\"color: #959077; text-decoration-color: #959077; background-color: #272822\"># Function to calculate the nth Fibonacci number efficiently</span><span style=\"background-color: #272822\">                                                                                                                                        </span>  \n",
       "  <span style=\"color: #66d9ef; text-decoration-color: #66d9ef; background-color: #272822\">def</span><span style=\"color: #f8f8f2; text-decoration-color: #f8f8f2; background-color: #272822\"> </span><span style=\"color: #a6e22e; text-decoration-color: #a6e22e; background-color: #272822\">fibonacci</span><span style=\"color: #f8f8f2; text-decoration-color: #f8f8f2; background-color: #272822\">(n):</span><span style=\"background-color: #272822\">                                                                                                                                                                                   </span>  \n",
       "  <span style=\"color: #f8f8f2; text-decoration-color: #f8f8f2; background-color: #272822\">    </span><span style=\"color: #66d9ef; text-decoration-color: #66d9ef; background-color: #272822\">if</span><span style=\"color: #f8f8f2; text-decoration-color: #f8f8f2; background-color: #272822\"> n </span><span style=\"color: #ff4689; text-decoration-color: #ff4689; background-color: #272822\">&lt;=</span><span style=\"color: #f8f8f2; text-decoration-color: #f8f8f2; background-color: #272822\"> </span><span style=\"color: #ae81ff; text-decoration-color: #ae81ff; background-color: #272822\">0</span><span style=\"color: #f8f8f2; text-decoration-color: #f8f8f2; background-color: #272822\">:</span><span style=\"background-color: #272822\">                                                                                                                                                                                      </span>  \n",
       "  <span style=\"color: #f8f8f2; text-decoration-color: #f8f8f2; background-color: #272822\">        </span><span style=\"color: #66d9ef; text-decoration-color: #66d9ef; background-color: #272822\">return</span><span style=\"color: #f8f8f2; text-decoration-color: #f8f8f2; background-color: #272822\"> </span><span style=\"color: #ae81ff; text-decoration-color: #ae81ff; background-color: #272822\">0</span><span style=\"background-color: #272822\">                                                                                                                                                                                    </span>  \n",
       "  <span style=\"color: #f8f8f2; text-decoration-color: #f8f8f2; background-color: #272822\">    </span><span style=\"color: #66d9ef; text-decoration-color: #66d9ef; background-color: #272822\">elif</span><span style=\"color: #f8f8f2; text-decoration-color: #f8f8f2; background-color: #272822\"> n </span><span style=\"color: #ff4689; text-decoration-color: #ff4689; background-color: #272822\">==</span><span style=\"color: #f8f8f2; text-decoration-color: #f8f8f2; background-color: #272822\"> </span><span style=\"color: #ae81ff; text-decoration-color: #ae81ff; background-color: #272822\">1</span><span style=\"color: #f8f8f2; text-decoration-color: #f8f8f2; background-color: #272822\">:</span><span style=\"background-color: #272822\">                                                                                                                                                                                    </span>  \n",
       "  <span style=\"color: #f8f8f2; text-decoration-color: #f8f8f2; background-color: #272822\">        </span><span style=\"color: #66d9ef; text-decoration-color: #66d9ef; background-color: #272822\">return</span><span style=\"color: #f8f8f2; text-decoration-color: #f8f8f2; background-color: #272822\"> </span><span style=\"color: #ae81ff; text-decoration-color: #ae81ff; background-color: #272822\">1</span><span style=\"background-color: #272822\">                                                                                                                                                                                    </span>  \n",
       "  <span style=\"color: #f8f8f2; text-decoration-color: #f8f8f2; background-color: #272822\">    </span><span style=\"background-color: #272822\">                                                                                                                                                                                                </span>  \n",
       "  <span style=\"color: #f8f8f2; text-decoration-color: #f8f8f2; background-color: #272822\">    a, b </span><span style=\"color: #ff4689; text-decoration-color: #ff4689; background-color: #272822\">=</span><span style=\"color: #f8f8f2; text-decoration-color: #f8f8f2; background-color: #272822\"> </span><span style=\"color: #ae81ff; text-decoration-color: #ae81ff; background-color: #272822\">0</span><span style=\"color: #f8f8f2; text-decoration-color: #f8f8f2; background-color: #272822\">, </span><span style=\"color: #ae81ff; text-decoration-color: #ae81ff; background-color: #272822\">1</span><span style=\"background-color: #272822\">                                                                                                                                                                                     </span>  \n",
       "  <span style=\"color: #f8f8f2; text-decoration-color: #f8f8f2; background-color: #272822\">    </span><span style=\"color: #66d9ef; text-decoration-color: #66d9ef; background-color: #272822\">for</span><span style=\"color: #f8f8f2; text-decoration-color: #f8f8f2; background-color: #272822\"> _ </span><span style=\"color: #ff4689; text-decoration-color: #ff4689; background-color: #272822\">in</span><span style=\"color: #f8f8f2; text-decoration-color: #f8f8f2; background-color: #272822\"> range(</span><span style=\"color: #ae81ff; text-decoration-color: #ae81ff; background-color: #272822\">2</span><span style=\"color: #f8f8f2; text-decoration-color: #f8f8f2; background-color: #272822\">, n </span><span style=\"color: #ff4689; text-decoration-color: #ff4689; background-color: #272822\">+</span><span style=\"color: #f8f8f2; text-decoration-color: #f8f8f2; background-color: #272822\"> </span><span style=\"color: #ae81ff; text-decoration-color: #ae81ff; background-color: #272822\">1</span><span style=\"color: #f8f8f2; text-decoration-color: #f8f8f2; background-color: #272822\">):</span><span style=\"background-color: #272822\">                                                                                                                                                                       </span>  \n",
       "  <span style=\"color: #f8f8f2; text-decoration-color: #f8f8f2; background-color: #272822\">        a, b </span><span style=\"color: #ff4689; text-decoration-color: #ff4689; background-color: #272822\">=</span><span style=\"color: #f8f8f2; text-decoration-color: #f8f8f2; background-color: #272822\"> b, a </span><span style=\"color: #ff4689; text-decoration-color: #ff4689; background-color: #272822\">+</span><span style=\"color: #f8f8f2; text-decoration-color: #f8f8f2; background-color: #272822\"> b</span><span style=\"background-color: #272822\">                                                                                                                                                                             </span>  \n",
       "  <span style=\"color: #f8f8f2; text-decoration-color: #f8f8f2; background-color: #272822\">    </span><span style=\"color: #66d9ef; text-decoration-color: #66d9ef; background-color: #272822\">return</span><span style=\"color: #f8f8f2; text-decoration-color: #f8f8f2; background-color: #272822\"> b</span><span style=\"background-color: #272822\">                                                                                                                                                                                        </span>  \n",
       "  <span style=\"background-color: #272822\">                                                                                                                                                                                                    </span>  \n",
       "  <span style=\"color: #959077; text-decoration-color: #959077; background-color: #272822\"># Calculate the 118th Fibonacci number</span><span style=\"background-color: #272822\">                                                                                                                                                              </span>  \n",
       "  <span style=\"color: #f8f8f2; text-decoration-color: #f8f8f2; background-color: #272822\">fib_118 </span><span style=\"color: #ff4689; text-decoration-color: #ff4689; background-color: #272822\">=</span><span style=\"color: #f8f8f2; text-decoration-color: #f8f8f2; background-color: #272822\"> fibonacci(</span><span style=\"color: #ae81ff; text-decoration-color: #ae81ff; background-color: #272822\">118</span><span style=\"color: #f8f8f2; text-decoration-color: #f8f8f2; background-color: #272822\">)</span><span style=\"background-color: #272822\">                                                                                                                                                                            </span>  \n",
       "  <span style=\"color: #f8f8f2; text-decoration-color: #f8f8f2; background-color: #272822\">print(</span><span style=\"color: #e6db74; text-decoration-color: #e6db74; background-color: #272822\">\"118th Fibonacci number:\"</span><span style=\"color: #f8f8f2; text-decoration-color: #f8f8f2; background-color: #272822\">, fib_118)</span><span style=\"background-color: #272822\">                                                                                                                                                           </span>  \n",
       "  <span style=\"background-color: #272822\">                                                                                                                                                                                                    </span>  \n",
       "  <span style=\"color: #959077; text-decoration-color: #959077; background-color: #272822\"># Confirm subscriber count</span><span style=\"background-color: #272822\">                                                                                                                                                                          </span>  \n",
       "  <span style=\"color: #f8f8f2; text-decoration-color: #f8f8f2; background-color: #272822\">print(</span><span style=\"color: #e6db74; text-decoration-color: #e6db74; background-color: #272822\">\"Subscriber count from search:\"</span><span style=\"color: #f8f8f2; text-decoration-color: #f8f8f2; background-color: #272822\">, </span><span style=\"color: #ae81ff; text-decoration-color: #ae81ff; background-color: #272822\">4000</span><span style=\"color: #f8f8f2; text-decoration-color: #f8f8f2; background-color: #272822\">)</span><span style=\"background-color: #272822\">                                                                                                                                                        </span>  \n",
       " ────────────────────────────────────────────────────────────────────────────────────────────────────────────────────────────────────────────────────────────────────────────────────────────────────── \n",
       "</pre>\n"
      ],
      "text/plain": [
       " ─ \u001b[1mExecuting this code:\u001b[0m ─────────────────────────────────────────────────────────────────────────────────────────────────────────────────────────────────────────────────────────────────────────────── \n",
       "  \u001b[38;2;149;144;119;48;2;39;40;34m# Function to calculate the nth Fibonacci number efficiently\u001b[0m\u001b[48;2;39;40;34m                                                                                                                                        \u001b[0m  \n",
       "  \u001b[38;2;102;217;239;48;2;39;40;34mdef\u001b[0m\u001b[38;2;248;248;242;48;2;39;40;34m \u001b[0m\u001b[38;2;166;226;46;48;2;39;40;34mfibonacci\u001b[0m\u001b[38;2;248;248;242;48;2;39;40;34m(\u001b[0m\u001b[38;2;248;248;242;48;2;39;40;34mn\u001b[0m\u001b[38;2;248;248;242;48;2;39;40;34m)\u001b[0m\u001b[38;2;248;248;242;48;2;39;40;34m:\u001b[0m\u001b[48;2;39;40;34m                                                                                                                                                                                   \u001b[0m  \n",
       "  \u001b[38;2;248;248;242;48;2;39;40;34m    \u001b[0m\u001b[38;2;102;217;239;48;2;39;40;34mif\u001b[0m\u001b[38;2;248;248;242;48;2;39;40;34m \u001b[0m\u001b[38;2;248;248;242;48;2;39;40;34mn\u001b[0m\u001b[38;2;248;248;242;48;2;39;40;34m \u001b[0m\u001b[38;2;255;70;137;48;2;39;40;34m<\u001b[0m\u001b[38;2;255;70;137;48;2;39;40;34m=\u001b[0m\u001b[38;2;248;248;242;48;2;39;40;34m \u001b[0m\u001b[38;2;174;129;255;48;2;39;40;34m0\u001b[0m\u001b[38;2;248;248;242;48;2;39;40;34m:\u001b[0m\u001b[48;2;39;40;34m                                                                                                                                                                                      \u001b[0m  \n",
       "  \u001b[38;2;248;248;242;48;2;39;40;34m        \u001b[0m\u001b[38;2;102;217;239;48;2;39;40;34mreturn\u001b[0m\u001b[38;2;248;248;242;48;2;39;40;34m \u001b[0m\u001b[38;2;174;129;255;48;2;39;40;34m0\u001b[0m\u001b[48;2;39;40;34m                                                                                                                                                                                    \u001b[0m  \n",
       "  \u001b[38;2;248;248;242;48;2;39;40;34m    \u001b[0m\u001b[38;2;102;217;239;48;2;39;40;34melif\u001b[0m\u001b[38;2;248;248;242;48;2;39;40;34m \u001b[0m\u001b[38;2;248;248;242;48;2;39;40;34mn\u001b[0m\u001b[38;2;248;248;242;48;2;39;40;34m \u001b[0m\u001b[38;2;255;70;137;48;2;39;40;34m==\u001b[0m\u001b[38;2;248;248;242;48;2;39;40;34m \u001b[0m\u001b[38;2;174;129;255;48;2;39;40;34m1\u001b[0m\u001b[38;2;248;248;242;48;2;39;40;34m:\u001b[0m\u001b[48;2;39;40;34m                                                                                                                                                                                    \u001b[0m  \n",
       "  \u001b[38;2;248;248;242;48;2;39;40;34m        \u001b[0m\u001b[38;2;102;217;239;48;2;39;40;34mreturn\u001b[0m\u001b[38;2;248;248;242;48;2;39;40;34m \u001b[0m\u001b[38;2;174;129;255;48;2;39;40;34m1\u001b[0m\u001b[48;2;39;40;34m                                                                                                                                                                                    \u001b[0m  \n",
       "  \u001b[38;2;248;248;242;48;2;39;40;34m    \u001b[0m\u001b[48;2;39;40;34m                                                                                                                                                                                                \u001b[0m  \n",
       "  \u001b[38;2;248;248;242;48;2;39;40;34m    \u001b[0m\u001b[38;2;248;248;242;48;2;39;40;34ma\u001b[0m\u001b[38;2;248;248;242;48;2;39;40;34m,\u001b[0m\u001b[38;2;248;248;242;48;2;39;40;34m \u001b[0m\u001b[38;2;248;248;242;48;2;39;40;34mb\u001b[0m\u001b[38;2;248;248;242;48;2;39;40;34m \u001b[0m\u001b[38;2;255;70;137;48;2;39;40;34m=\u001b[0m\u001b[38;2;248;248;242;48;2;39;40;34m \u001b[0m\u001b[38;2;174;129;255;48;2;39;40;34m0\u001b[0m\u001b[38;2;248;248;242;48;2;39;40;34m,\u001b[0m\u001b[38;2;248;248;242;48;2;39;40;34m \u001b[0m\u001b[38;2;174;129;255;48;2;39;40;34m1\u001b[0m\u001b[48;2;39;40;34m                                                                                                                                                                                     \u001b[0m  \n",
       "  \u001b[38;2;248;248;242;48;2;39;40;34m    \u001b[0m\u001b[38;2;102;217;239;48;2;39;40;34mfor\u001b[0m\u001b[38;2;248;248;242;48;2;39;40;34m \u001b[0m\u001b[38;2;248;248;242;48;2;39;40;34m_\u001b[0m\u001b[38;2;248;248;242;48;2;39;40;34m \u001b[0m\u001b[38;2;255;70;137;48;2;39;40;34min\u001b[0m\u001b[38;2;248;248;242;48;2;39;40;34m \u001b[0m\u001b[38;2;248;248;242;48;2;39;40;34mrange\u001b[0m\u001b[38;2;248;248;242;48;2;39;40;34m(\u001b[0m\u001b[38;2;174;129;255;48;2;39;40;34m2\u001b[0m\u001b[38;2;248;248;242;48;2;39;40;34m,\u001b[0m\u001b[38;2;248;248;242;48;2;39;40;34m \u001b[0m\u001b[38;2;248;248;242;48;2;39;40;34mn\u001b[0m\u001b[38;2;248;248;242;48;2;39;40;34m \u001b[0m\u001b[38;2;255;70;137;48;2;39;40;34m+\u001b[0m\u001b[38;2;248;248;242;48;2;39;40;34m \u001b[0m\u001b[38;2;174;129;255;48;2;39;40;34m1\u001b[0m\u001b[38;2;248;248;242;48;2;39;40;34m)\u001b[0m\u001b[38;2;248;248;242;48;2;39;40;34m:\u001b[0m\u001b[48;2;39;40;34m                                                                                                                                                                       \u001b[0m  \n",
       "  \u001b[38;2;248;248;242;48;2;39;40;34m        \u001b[0m\u001b[38;2;248;248;242;48;2;39;40;34ma\u001b[0m\u001b[38;2;248;248;242;48;2;39;40;34m,\u001b[0m\u001b[38;2;248;248;242;48;2;39;40;34m \u001b[0m\u001b[38;2;248;248;242;48;2;39;40;34mb\u001b[0m\u001b[38;2;248;248;242;48;2;39;40;34m \u001b[0m\u001b[38;2;255;70;137;48;2;39;40;34m=\u001b[0m\u001b[38;2;248;248;242;48;2;39;40;34m \u001b[0m\u001b[38;2;248;248;242;48;2;39;40;34mb\u001b[0m\u001b[38;2;248;248;242;48;2;39;40;34m,\u001b[0m\u001b[38;2;248;248;242;48;2;39;40;34m \u001b[0m\u001b[38;2;248;248;242;48;2;39;40;34ma\u001b[0m\u001b[38;2;248;248;242;48;2;39;40;34m \u001b[0m\u001b[38;2;255;70;137;48;2;39;40;34m+\u001b[0m\u001b[38;2;248;248;242;48;2;39;40;34m \u001b[0m\u001b[38;2;248;248;242;48;2;39;40;34mb\u001b[0m\u001b[48;2;39;40;34m                                                                                                                                                                             \u001b[0m  \n",
       "  \u001b[38;2;248;248;242;48;2;39;40;34m    \u001b[0m\u001b[38;2;102;217;239;48;2;39;40;34mreturn\u001b[0m\u001b[38;2;248;248;242;48;2;39;40;34m \u001b[0m\u001b[38;2;248;248;242;48;2;39;40;34mb\u001b[0m\u001b[48;2;39;40;34m                                                                                                                                                                                        \u001b[0m  \n",
       "  \u001b[48;2;39;40;34m                                                                                                                                                                                                    \u001b[0m  \n",
       "  \u001b[38;2;149;144;119;48;2;39;40;34m# Calculate the 118th Fibonacci number\u001b[0m\u001b[48;2;39;40;34m                                                                                                                                                              \u001b[0m  \n",
       "  \u001b[38;2;248;248;242;48;2;39;40;34mfib_118\u001b[0m\u001b[38;2;248;248;242;48;2;39;40;34m \u001b[0m\u001b[38;2;255;70;137;48;2;39;40;34m=\u001b[0m\u001b[38;2;248;248;242;48;2;39;40;34m \u001b[0m\u001b[38;2;248;248;242;48;2;39;40;34mfibonacci\u001b[0m\u001b[38;2;248;248;242;48;2;39;40;34m(\u001b[0m\u001b[38;2;174;129;255;48;2;39;40;34m118\u001b[0m\u001b[38;2;248;248;242;48;2;39;40;34m)\u001b[0m\u001b[48;2;39;40;34m                                                                                                                                                                            \u001b[0m  \n",
       "  \u001b[38;2;248;248;242;48;2;39;40;34mprint\u001b[0m\u001b[38;2;248;248;242;48;2;39;40;34m(\u001b[0m\u001b[38;2;230;219;116;48;2;39;40;34m\"\u001b[0m\u001b[38;2;230;219;116;48;2;39;40;34m118th Fibonacci number:\u001b[0m\u001b[38;2;230;219;116;48;2;39;40;34m\"\u001b[0m\u001b[38;2;248;248;242;48;2;39;40;34m,\u001b[0m\u001b[38;2;248;248;242;48;2;39;40;34m \u001b[0m\u001b[38;2;248;248;242;48;2;39;40;34mfib_118\u001b[0m\u001b[38;2;248;248;242;48;2;39;40;34m)\u001b[0m\u001b[48;2;39;40;34m                                                                                                                                                           \u001b[0m  \n",
       "  \u001b[48;2;39;40;34m                                                                                                                                                                                                    \u001b[0m  \n",
       "  \u001b[38;2;149;144;119;48;2;39;40;34m# Confirm subscriber count\u001b[0m\u001b[48;2;39;40;34m                                                                                                                                                                          \u001b[0m  \n",
       "  \u001b[38;2;248;248;242;48;2;39;40;34mprint\u001b[0m\u001b[38;2;248;248;242;48;2;39;40;34m(\u001b[0m\u001b[38;2;230;219;116;48;2;39;40;34m\"\u001b[0m\u001b[38;2;230;219;116;48;2;39;40;34mSubscriber count from search:\u001b[0m\u001b[38;2;230;219;116;48;2;39;40;34m\"\u001b[0m\u001b[38;2;248;248;242;48;2;39;40;34m,\u001b[0m\u001b[38;2;248;248;242;48;2;39;40;34m \u001b[0m\u001b[38;2;174;129;255;48;2;39;40;34m4000\u001b[0m\u001b[38;2;248;248;242;48;2;39;40;34m)\u001b[0m\u001b[48;2;39;40;34m                                                                                                                                                        \u001b[0m  \n",
       " ────────────────────────────────────────────────────────────────────────────────────────────────────────────────────────────────────────────────────────────────────────────────────────────────────── \n"
      ]
     },
     "metadata": {},
     "output_type": "display_data"
    },
    {
     "data": {
      "text/html": [
       "<pre style=\"white-space:pre;overflow-x:auto;line-height:normal;font-family:Menlo,'DejaVu Sans Mono',consolas,'Courier New',monospace\"><span style=\"font-weight: bold\">Execution logs:</span>\n",
       "118th Fibonacci number: 2046711111473984623691759\n",
       "Subscriber count from search: 4000\n",
       "\n",
       "Out: None\n",
       "</pre>\n"
      ],
      "text/plain": [
       "\u001b[1mExecution logs:\u001b[0m\n",
       "118th Fibonacci number: 2046711111473984623691759\n",
       "Subscriber count from search: 4000\n",
       "\n",
       "Out: None\n"
      ]
     },
     "metadata": {},
     "output_type": "display_data"
    },
    {
     "data": {
      "text/html": [
       "<pre style=\"white-space:pre;overflow-x:auto;line-height:normal;font-family:Menlo,'DejaVu Sans Mono',consolas,'Courier New',monospace\"><span style=\"color: #7f7f7f; text-decoration-color: #7f7f7f\">[Step 1: Duration 4.11 seconds| Input tokens: 5,975 | Output tokens: 286]</span>\n",
       "</pre>\n"
      ],
      "text/plain": [
       "\u001b[2m[Step 1: Duration 4.11 seconds| Input tokens: 5,975 | Output tokens: 286]\u001b[0m\n"
      ]
     },
     "metadata": {},
     "output_type": "display_data"
    },
    {
     "data": {
      "text/html": [
       "<pre style=\"white-space:pre;overflow-x:auto;line-height:normal;font-family:Menlo,'DejaVu Sans Mono',consolas,'Courier New',monospace\"><span style=\"color: #d4b702; text-decoration-color: #d4b702\">━━━━━━━━━━━━━━━━━━━━━━━━━━━━━━━━━━━━━━━━━━━━━━━━━━━━━━━━━━━━━━━━━━━━━━━━━━━━━━━━━━━━━━━━━━━━━━━━ </span><span style=\"font-weight: bold\">Step </span><span style=\"color: #008080; text-decoration-color: #008080; font-weight: bold\">2</span><span style=\"color: #d4b702; text-decoration-color: #d4b702\"> ━━━━━━━━━━━━━━━━━━━━━━━━━━━━━━━━━━━━━━━━━━━━━━━━━━━━━━━━━━━━━━━━━━━━━━━━━━━━━━━━━━━━━━━━━━━━━━━━</span>\n",
       "</pre>\n"
      ],
      "text/plain": [
       "\u001b[38;2;212;183;2m━━━━━━━━━━━━━━━━━━━━━━━━━━━━━━━━━━━━━━━━━━━━━━━━━━━━━━━━━━━━━━━━━━━━━━━━━━━━━━━━━━━━━━━━━━━━━━━━ \u001b[0m\u001b[1mStep \u001b[0m\u001b[1;36m2\u001b[0m\u001b[38;2;212;183;2m ━━━━━━━━━━━━━━━━━━━━━━━━━━━━━━━━━━━━━━━━━━━━━━━━━━━━━━━━━━━━━━━━━━━━━━━━━━━━━━━━━━━━━━━━━━━━━━━━\u001b[0m\n"
      ]
     },
     "metadata": {},
     "output_type": "display_data"
    },
    {
     "data": {
      "text/html": [
       "<pre style=\"white-space:pre;overflow-x:auto;line-height:normal;font-family:Menlo,'DejaVu Sans Mono',consolas,'Courier New',monospace\"> ─ <span style=\"font-weight: bold\">Executing this code:</span> ─────────────────────────────────────────────────────────────────────────────────────────────────────────────────────────────────────────────────────────────────────────────── \n",
       "  <span style=\"color: #959077; text-decoration-color: #959077; background-color: #272822\"># Multiply subscriber count by 118th Fibonacci number</span><span style=\"background-color: #272822\">                                                                                                                                               </span>  \n",
       "  <span style=\"color: #f8f8f2; text-decoration-color: #f8f8f2; background-color: #272822\">result </span><span style=\"color: #ff4689; text-decoration-color: #ff4689; background-color: #272822\">=</span><span style=\"color: #f8f8f2; text-decoration-color: #f8f8f2; background-color: #272822\"> </span><span style=\"color: #ae81ff; text-decoration-color: #ae81ff; background-color: #272822\">4000</span><span style=\"color: #f8f8f2; text-decoration-color: #f8f8f2; background-color: #272822\"> </span><span style=\"color: #ff4689; text-decoration-color: #ff4689; background-color: #272822\">*</span><span style=\"color: #f8f8f2; text-decoration-color: #f8f8f2; background-color: #272822\"> </span><span style=\"color: #ae81ff; text-decoration-color: #ae81ff; background-color: #272822\">2046711111473984623691759</span><span style=\"background-color: #272822\">                                                                                                                                                           </span>  \n",
       "  <span style=\"background-color: #272822\">                                                                                                                                                                                                    </span>  \n",
       "  <span style=\"color: #959077; text-decoration-color: #959077; background-color: #272822\"># Use final_answer to submit the result</span><span style=\"background-color: #272822\">                                                                                                                                                             </span>  \n",
       "  <span style=\"color: #f8f8f2; text-decoration-color: #f8f8f2; background-color: #272822\">final_answer(result)</span><span style=\"background-color: #272822\">                                                                                                                                                                                </span>  \n",
       " ────────────────────────────────────────────────────────────────────────────────────────────────────────────────────────────────────────────────────────────────────────────────────────────────────── \n",
       "</pre>\n"
      ],
      "text/plain": [
       " ─ \u001b[1mExecuting this code:\u001b[0m ─────────────────────────────────────────────────────────────────────────────────────────────────────────────────────────────────────────────────────────────────────────────── \n",
       "  \u001b[38;2;149;144;119;48;2;39;40;34m# Multiply subscriber count by 118th Fibonacci number\u001b[0m\u001b[48;2;39;40;34m                                                                                                                                               \u001b[0m  \n",
       "  \u001b[38;2;248;248;242;48;2;39;40;34mresult\u001b[0m\u001b[38;2;248;248;242;48;2;39;40;34m \u001b[0m\u001b[38;2;255;70;137;48;2;39;40;34m=\u001b[0m\u001b[38;2;248;248;242;48;2;39;40;34m \u001b[0m\u001b[38;2;174;129;255;48;2;39;40;34m4000\u001b[0m\u001b[38;2;248;248;242;48;2;39;40;34m \u001b[0m\u001b[38;2;255;70;137;48;2;39;40;34m*\u001b[0m\u001b[38;2;248;248;242;48;2;39;40;34m \u001b[0m\u001b[38;2;174;129;255;48;2;39;40;34m2046711111473984623691759\u001b[0m\u001b[48;2;39;40;34m                                                                                                                                                           \u001b[0m  \n",
       "  \u001b[48;2;39;40;34m                                                                                                                                                                                                    \u001b[0m  \n",
       "  \u001b[38;2;149;144;119;48;2;39;40;34m# Use final_answer to submit the result\u001b[0m\u001b[48;2;39;40;34m                                                                                                                                                             \u001b[0m  \n",
       "  \u001b[38;2;248;248;242;48;2;39;40;34mfinal_answer\u001b[0m\u001b[38;2;248;248;242;48;2;39;40;34m(\u001b[0m\u001b[38;2;248;248;242;48;2;39;40;34mresult\u001b[0m\u001b[38;2;248;248;242;48;2;39;40;34m)\u001b[0m\u001b[48;2;39;40;34m                                                                                                                                                                                \u001b[0m  \n",
       " ────────────────────────────────────────────────────────────────────────────────────────────────────────────────────────────────────────────────────────────────────────────────────────────────────── \n"
      ]
     },
     "metadata": {},
     "output_type": "display_data"
    },
    {
     "data": {
      "text/html": [
       "<pre style=\"white-space:pre;overflow-x:auto;line-height:normal;font-family:Menlo,'DejaVu Sans Mono',consolas,'Courier New',monospace\"><span style=\"color: #d4b702; text-decoration-color: #d4b702; font-weight: bold\">Out - Final answer: 8186844445895938494767036000</span>\n",
       "</pre>\n"
      ],
      "text/plain": [
       "\u001b[1;38;2;212;183;2mOut - Final answer: 8186844445895938494767036000\u001b[0m\n"
      ]
     },
     "metadata": {},
     "output_type": "display_data"
    },
    {
     "data": {
      "text/html": [
       "<pre style=\"white-space:pre;overflow-x:auto;line-height:normal;font-family:Menlo,'DejaVu Sans Mono',consolas,'Courier New',monospace\"><span style=\"color: #7f7f7f; text-decoration-color: #7f7f7f\">[Step 2: Duration 4.69 seconds| Input tokens: 9,984 | Output tokens: 366]</span>\n",
       "</pre>\n"
      ],
      "text/plain": [
       "\u001b[2m[Step 2: Duration 4.69 seconds| Input tokens: 9,984 | Output tokens: 366]\u001b[0m\n"
      ]
     },
     "metadata": {},
     "output_type": "display_data"
    },
    {
     "data": {
      "text/plain": [
       "8186844445895938494767036000"
      ]
     },
     "execution_count": 11,
     "metadata": {},
     "output_type": "execute_result"
    }
   ],
   "source": [
    "# Define the Model\n",
    "\n",
    "# litellm_model = LiteLLMModel(model_id=\"openai/gpt-4o-mini\")\n",
    "# litellm_model = LiteLLMModel(model_id=\"gemini/gemini-1.5-flash\")\n",
    "# litellm_model = LiteLLMModel(model_id=\"fireworks_ai/accounts/fireworks/models/llama-v3p3-70b-instruct\")\n",
    "\n",
    "litellm_model = LiteLLMModel(model_id=\"anthropic/claude-3-5-haiku-latest\")\n",
    "\n",
    "# Create the Agent\n",
    "litellm_agent = CodeAgent(tools=[], \n",
    "                  model=litellm_model, \n",
    "                  add_base_tools=True)\n",
    "\n",
    "# Launch the Agent\n",
    "litellm_agent.run(\n",
    "    \"What is Adam Lucek's subscriber count multiplied by the 118th fibbonaci sequence number\",\n",
    ")"
   ]
  },
  {
   "cell_type": "markdown",
   "id": "d9bfc93d-3fa2-4b77-b1e2-c30b3ce7f34d",
   "metadata": {},
   "source": [
    "### Ollama Local Deployment\n",
    "\n",
    "<img src=\"./media/ollama.png\" width=150>\n",
    "\n",
    "For local deployment of quantized LLMs, [Ollama](https://ollama.com/) has become the go-to solution. Since Ollama provides an OpenAI API compatible endpoint at localhost:11434, we can use LiteLLM once again to seamlessly integrate with locally running models, bringing cloud-like capabilities to your local machine."
   ]
  },
  {
   "cell_type": "code",
   "execution_count": null,
   "id": "d7ee47fd-98a4-4e3a-8f89-8879e42cc962",
   "metadata": {
    "scrolled": true
   },
   "outputs": [],
   "source": [
    "# Define the Model\n",
    "ollama_model = LiteLLMModel(\n",
    "    model_id=\"ollama_chat/llama3.2:1b\",\n",
    "    api_base=\"http://localhost:11434\"\n",
    ")\n",
    "\n",
    "# Create the agent\n",
    "ollama_agent = CodeAgent(tools=[], \n",
    "                  model=ollama_model, \n",
    "                  add_base_tools=True)\n",
    "\n",
    "# Launch the Agent\n",
    "ollama_agent.run(\n",
    "    \"Could you give me the 118th number in the Fibonacci sequence?\",\n",
    ")"
   ]
  },
  {
   "cell_type": "markdown",
   "id": "5b5c9a4a-6fee-4019-ad6d-164df017cccc",
   "metadata": {},
   "source": [
    "### Transformers Direct Access\n",
    "\n",
    "<img src=\"./media/hft.png\" width=300>\n",
    "\n",
    "Smolagents integrates directly with [Hugging Face Transformers](https://huggingface.co/docs/transformers/index), enabling any compatible model to be downloaded and used locally. This opens up vast possibilities for open source agent development, as smolagents can work with any transformers model. At the time of writing, there are over [480,000](https://huggingface.co/models?library=transformers) compatible models available!"
   ]
  },
  {
   "cell_type": "code",
   "execution_count": null,
   "id": "e6292f20-71f5-434b-b93d-c89bbe063f38",
   "metadata": {},
   "outputs": [],
   "source": [
    "# Define the Model\n",
    "transformers_model = TransformersModel(model_id=\"meta-llama/Llama-3.2-3B-Instruct\")\n",
    "\n",
    "# Create the Agent\n",
    "transformers_agent = CodeAgent(tools=[], \n",
    "                  model=transformers_model, \n",
    "                  add_base_tools=True,\n",
    "                  additional_authorized_imports=[\"numpy\"]\n",
    ")\n",
    "\n",
    "# Launch the Agent\n",
    "transformers_agent.run(\n",
    "    \"Find the eigenvalues of: [[4, -2],[1, 1]]\",\n",
    ")"
   ]
  },
  {
   "cell_type": "markdown",
   "id": "15204f3d-03aa-4332-8b62-bcd59332b0a0",
   "metadata": {},
   "source": [
    "*Note: Many models accessed via Transformers require GPU acceleration, check out this above example in [Google Colab](https://colab.research.google.com/drive/1FrmfDRs1S8jwj3bt9K-CUniMG8zgxsEf?usp=sharing).*"
   ]
  },
  {
   "cell_type": "markdown",
   "id": "77bf0a24-3d89-41c5-9188-cb350a180aed",
   "metadata": {},
   "source": [
    "---\n",
    "## Tools\n",
    "\n",
    "<img src=\"./media/llm_tools.png\" width=600>\n",
    "\n",
    "*[Tool Calling for LLMs: A Detailed Tutorial](https://medium.com/@developer.yasir.pk/tool-calling-for-llms-a-detailed-tutorial-a2b4d78633e2)*\n",
    "\n",
    "Tools are the actions that the LLM can choose to take, configure, or use to solve a problem. Being able to interact with an environment through different actions defined as tools is what takes LLMs from simple text generators to useful agents. While tools have traditionally been defined as [json schemas](https://platform.openai.com/docs/guides/function-calling) that get parsed and executed, smolagents uses the aforementioned code execution method. This makes creating tools much easier, as they are going to be literal functions.\n",
    "\n",
    "Smolagents comes with a few [built in tools](https://github.com/huggingface/smolagents/blob/main/src/smolagents/default_tools.py):\n",
    "1. A `DuckDuckGoSearchTool` for searching the web with Duck Duck Go\n",
    "2. A `GoogleSearchTool` for searching the web with Google\n",
    "3. A `VisitWebPageTool` for loading webpage URL's in markdown format\n",
    "4. A `SpeechToTextTool` for speech to text using OpenAI's Whisper Model using Transformers pipelines"
   ]
  },
  {
   "cell_type": "code",
   "execution_count": 13,
   "id": "37208d1c-86a5-47d3-b9ed-a052dad51883",
   "metadata": {
    "scrolled": true
   },
   "outputs": [
    {
     "name": "stdout",
     "output_type": "stream",
     "text": [
      "## Search Results\n",
      "\n",
      "[How Many Mcdonald'S Are There In New York City?](https://www.eyeandpen.com/how-many-mcdonalds-in-new-york-city/)\n",
      "But just how many McDonald's are in New York City? Read on to find out the surprising answer. A Quick Answer If you're short on time, here's a quick answer: there are approximately 250 McDonald's restaurants currently operating within New York City's five boroughs - Manhattan, Brooklyn, Queens, Staten Island, and the Bronx. ...\n",
      "\n",
      "[How Many McDonald's Are In NYC (Quick Information)](https://sarasveggiekitchen.com/how-many-mcdonalds-are-in-nyc/)\n",
      "When Was The First McDonald's Opened In New York City. The first McDonald's restaurant in New York City was opened by Lee Dunham in Harlem, it was located at 215 West 125th Street. At the time burgers cost 23 cents and fries were only 15 cents. Why Does McDonald's Put Pickles On It's Burgers (All About McDonald's Pickles)\n",
      "\n",
      "[How many mcdonalds are in nyc? - GB Times](https://gbtimes.com/how-many-mcdonalds-are-in-nyc/)\n",
      "McDonald's within a McDonald's: 2301 3rd Avenue, Manhattan (at 121st Street and 3rd Avenue) Interesting Facts: McDonald's has been in New York City since 1955, when the first location opened ...\n",
      "\n",
      "[Number of McDonald's locations in the USA in 2024 | ScrapeHero](https://www.scrapehero.com/location-reports/McDonalds-USA/)\n",
      "How many McDonalds restaurants are there in the United States? ... New York: 48: McDonald's vs competitors Number of locations Number of States Number of cities; McDonald's: vs Subway: 20,484 (+6,886 locations than ... City State Address Review Rating No. of Reviews ; McDonald's:\n",
      "\n",
      "[How many mcdonalds in New York city? - GB Times](https://gbtimes.com/how-many-mcdonalds-in-new-york-city/)\n",
      "24/7 Open McDonald's: There are 2 24/7 open McDonald's locations in New York City: one in Midtown Manhattan (Times Square) and the other in the Upper East Side.\n",
      "\n",
      "[How Many McDonalds Restaurants are in New York City?](https://alisternanuet.com/how-many-mcdonalds-restaurants-are-in-new-york-city)\n",
      "In New York City, McDonald's locations offer more diverse options, such as specialty burgers, salads, and healthier alternatives. In addition, New York City McDonald's locations often offer unique local dishes such as the city's famous Big Mac. On the other hand, McDonald's locations in other cities typically provide the same selection ...\n",
      "\n",
      "[How Many Mcdonald's Are In NYC - hows.tech](https://www.hows.tech/2024/04/how-many-mcdonalds-are-in-nyc_27.html)\n",
      "McDonald's provides a tasty and affordable option, especially for those late-night cravings. A Slice of Americana: For some, McDonald's represents a taste of home and a bit of American comfort food. The Verdict: A City Steeped in McHistory. Love them or hate them, McDonald's are a undeniable part of the New York City experience.\n",
      "\n",
      "[How many McDonald's are in the city of Manhattan alone?](https://brainly.com/question/38862150)\n",
      "Final answer: In the Manhattan area, there are about 71 McDonald's locations, contingent upon various factors including commercial strategies and the real estate market.. Explanation: The exact number of McDonald's restaurants in the city of Manhattan can fluctuate as new locations open and others close. However, according to recent data, there are approximately 71 McDonald's in Manhattan.\n",
      "\n",
      "[How many Mcdonalds are in New York City? - Quick-Advice.com](https://yourquickadvice.com/how-many-mcdonalds-are-in-new-york-city/)\n",
      "How many McDonald's stores are there per square mile in Manhattan? Manhattan also has the highest concentration of chain stores at 115 locations per square mile. The remaining boroughs have significantly fewer chain stores per square mile: Brooklyn (36), Queens (15), the Bronx (11), and Staten Island (7).\n",
      "\n",
      "[McDonald's in New York - Menus, Locations and Hours - Menu With Price](https://www.menuwithprice.com/menu/mcdonalds/new-york/)\n",
      "With rising food prices, McDonald's is offering more affordable meal options. On November 22, the fast-food chain announced its 2025 McValue Menu, featuring $5 meals, BOGO deals, and local offers. The new menu, launching nationwide on January 7, 2025, will replace the current value menu, providing budget-friendly choices for customers.\n"
     ]
    }
   ],
   "source": [
    "search_tool = DuckDuckGoSearchTool()\n",
    "print(search_tool(\"How many McDonalds are in New York City?\"))"
   ]
  },
  {
   "cell_type": "markdown",
   "id": "a14c5909-dc83-4c8a-8d4d-fe5863f514b6",
   "metadata": {},
   "source": [
    "But creating your own is very straightforward!"
   ]
  },
  {
   "cell_type": "markdown",
   "id": "dd6e4dbd-c961-4b70-af2c-0b90bb46f30a",
   "metadata": {},
   "source": [
    "### Tool Decorator\n",
    "\n",
    "The simplest way to convert a function into a usable tool is with the `@tool` decorator, which will handle converting a function into an executable function that the LLM can understand and use.\n",
    "\n",
    "As the decorator is converting the function into a description that the LLM can understand, you need a few key components:\n",
    "1. A clear name\n",
    "2. Type hints on both inputs and output\n",
    "3. A description, that includes an ‘Args:’ part where each argument is described"
   ]
  },
  {
   "cell_type": "code",
   "execution_count": 14,
   "id": "5d76ade7-b6b4-4794-b66b-a923e647a85f",
   "metadata": {},
   "outputs": [
    {
     "name": "stdout",
     "output_type": "stream",
     "text": [
      "97.05\n"
     ]
    }
   ],
   "source": [
    "import requests\n",
    "\n",
    "@tool\n",
    "def convert_currency(amount: float, from_currency: str, to_currency: str) -> float:\n",
    "    \"\"\"\n",
    "    Convert an amount from one currency to another using fawazahmed0's free API.\n",
    "    \n",
    "    Args:\n",
    "       amount: The amount to convert\n",
    "       from_currency: The source currency code (e.g., 'USD', 'EUR', 'BTC')\n",
    "       to_currency: The target currency code (e.g., 'USD', 'EUR', 'BTC')\n",
    "    \"\"\"\n",
    "    url = f'https://cdn.jsdelivr.net/npm/@fawazahmed0/currency-api@latest/v1/currencies/{from_currency.lower()}.json'\n",
    "    \n",
    "    response = requests.get(url)\n",
    "    rates = response.json()[from_currency.lower()]\n",
    "    converted = amount * rates[to_currency.lower()]\n",
    "    \n",
    "    return round(converted, 2)\n",
    "    \n",
    "\n",
    "# Example usage:\n",
    "result = convert_currency(100, 'USD', 'EUR')\n",
    "print(result)"
   ]
  },
  {
   "cell_type": "code",
   "execution_count": 15,
   "id": "8c50dc63-89f0-4db4-ae57-2bd927c9f8ff",
   "metadata": {},
   "outputs": [
    {
     "name": "stdout",
     "output_type": "stream",
     "text": [
      "\n",
      "=== Currency Converter Function Details ===\n",
      "\n",
      "Function Name: convert_currency\n",
      "Description: Convert an amount from one currency to another using fawazahmed0's free API.\n",
      "\n",
      "Input Parameters:\n",
      "- amount: number - The amount to convert\n",
      "- from_currency: string - The source currency code (e.g., 'USD', 'EUR', 'BTC')\n",
      "- to_currency: string - The target currency code (e.g., 'USD', 'EUR', 'BTC')\n",
      "\n",
      "Output Type: number\n"
     ]
    }
   ],
   "source": [
    "print(\"\\n=== Currency Converter Function Details ===\\n\")\n",
    "print(f\"Function Name: {convert_currency.name}\")\n",
    "print(f\"Description: {convert_currency.description}\")\n",
    "print(\"\\nInput Parameters:\")\n",
    "for param_name, param_info in convert_currency.inputs.items():\n",
    "    print(f\"- {param_name}: {param_info['type']} - {param_info['description']}\")\n",
    "print(f\"\\nOutput Type: {convert_currency.output_type}\")"
   ]
  },
  {
   "cell_type": "markdown",
   "id": "563695e3-1dc8-42f8-8bee-b5585295dec1",
   "metadata": {},
   "source": [
    "### Subclass Tool\n",
    "\n",
    "On the other hand, you can subclass `Tool` [(see main class in tools.py)](https://github.com/huggingface/smolagents/blob/main/src/smolagents/tools.py) for more detailed control over your tool's inputs, outputs and behavior."
   ]
  },
  {
   "cell_type": "code",
   "execution_count": 17,
   "id": "8f2725b9-7db3-427e-9c83-8be5c365bd69",
   "metadata": {},
   "outputs": [],
   "source": [
    "class ConvertCurrency(Tool):\n",
    "    # Function Name\n",
    "    name = \"convert_currency_2\"\n",
    "    # Function Description\n",
    "    description = \"Convert an amount from one currency to another using fawazahmed0's free API.\"\n",
    "    # Inputs with Descriptions\n",
    "    inputs = {\n",
    "             'amount': {'type': 'number', \n",
    "                         'description': 'The amount to convert'},\n",
    "             'from_currency': {'type': 'string', \n",
    "                               'description': \"The source currency code (e.g., 'USD', 'EUR', 'BTC')\"},\n",
    "             'to_currency': {'type': 'string', \n",
    "                             'description': \"The target currency code (e.g., 'USD', 'EUR', 'BTC')\"}\n",
    "             }\n",
    "    # Output\n",
    "    output_type = \"number\"\n",
    "    \n",
    "    # Forward function\n",
    "    def forward(self, amount: float, from_currency: str, to_currency: str) -> float:\n",
    "        url = f'https://cdn.jsdelivr.net/npm/@fawazahmed0/currency-api@latest/v1/currencies/{from_currency.lower()}.json'\n",
    "        \n",
    "        response = requests.get(url)\n",
    "        rates = response.json()[from_currency.lower()]\n",
    "        converted = amount * rates[to_currency.lower()]\n",
    "        \n",
    "        return round(converted, 2)"
   ]
  },
  {
   "cell_type": "code",
   "execution_count": 18,
   "id": "396f9eb9-95b1-4d46-8942-f4747c8d5d2e",
   "metadata": {},
   "outputs": [
    {
     "data": {
      "text/plain": [
       "97.05"
      ]
     },
     "execution_count": 18,
     "metadata": {},
     "output_type": "execute_result"
    }
   ],
   "source": [
    "currency_coverter = ConvertCurrency()\n",
    "currency_coverter.forward(100, 'USD', 'EUR')"
   ]
  },
  {
   "cell_type": "markdown",
   "id": "9f17c515-9a3c-475b-9eca-dde3cab49c67",
   "metadata": {},
   "source": [
    "**Demonstration**"
   ]
  },
  {
   "cell_type": "code",
   "execution_count": 19,
   "id": "dba4f0f4-caf8-4ed2-b5ac-dec461dee986",
   "metadata": {},
   "outputs": [
    {
     "data": {
      "text/html": [
       "<pre style=\"white-space:pre;overflow-x:auto;line-height:normal;font-family:Menlo,'DejaVu Sans Mono',consolas,'Courier New',monospace\"><span style=\"color: #d4b702; text-decoration-color: #d4b702\">╭────────────────────────────────────────────────────────────────────────────────────────────── </span><span style=\"color: #d4b702; text-decoration-color: #d4b702; font-weight: bold\">New run</span><span style=\"color: #d4b702; text-decoration-color: #d4b702\"> ───────────────────────────────────────────────────────────────────────────────────────────────╮</span>\n",
       "<span style=\"color: #d4b702; text-decoration-color: #d4b702\">│</span>                                                                                                                                                                                                      <span style=\"color: #d4b702; text-decoration-color: #d4b702\">│</span>\n",
       "<span style=\"color: #d4b702; text-decoration-color: #d4b702\">│</span> <span style=\"font-weight: bold\">What is 500 great british pounds to dollars</span>                                                                                                                                                          <span style=\"color: #d4b702; text-decoration-color: #d4b702\">│</span>\n",
       "<span style=\"color: #d4b702; text-decoration-color: #d4b702\">│</span>                                                                                                                                                                                                      <span style=\"color: #d4b702; text-decoration-color: #d4b702\">│</span>\n",
       "<span style=\"color: #d4b702; text-decoration-color: #d4b702\">╰─ HfApiModel - Qwen/Qwen2.5-Coder-32B-Instruct ───────────────────────────────────────────────────────────────────────────────────────────────────────────────────────────────────────────────────────╯</span>\n",
       "</pre>\n"
      ],
      "text/plain": [
       "\u001b[38;2;212;183;2m╭─\u001b[0m\u001b[38;2;212;183;2m─────────────────────────────────────────────────────────────────────────────────────────────\u001b[0m\u001b[38;2;212;183;2m \u001b[0m\u001b[1;38;2;212;183;2mNew run\u001b[0m\u001b[38;2;212;183;2m \u001b[0m\u001b[38;2;212;183;2m──────────────────────────────────────────────────────────────────────────────────────────────\u001b[0m\u001b[38;2;212;183;2m─╮\u001b[0m\n",
       "\u001b[38;2;212;183;2m│\u001b[0m                                                                                                                                                                                                      \u001b[38;2;212;183;2m│\u001b[0m\n",
       "\u001b[38;2;212;183;2m│\u001b[0m \u001b[1mWhat is 500 great british pounds to dollars\u001b[0m                                                                                                                                                          \u001b[38;2;212;183;2m│\u001b[0m\n",
       "\u001b[38;2;212;183;2m│\u001b[0m                                                                                                                                                                                                      \u001b[38;2;212;183;2m│\u001b[0m\n",
       "\u001b[38;2;212;183;2m╰─\u001b[0m\u001b[38;2;212;183;2m HfApiModel - Qwen/Qwen2.5-Coder-32B-Instruct \u001b[0m\u001b[38;2;212;183;2m──────────────────────────────────────────────────────────────────────────────────────────────────────────────────────────────────────────────────────\u001b[0m\u001b[38;2;212;183;2m─╯\u001b[0m\n"
      ]
     },
     "metadata": {},
     "output_type": "display_data"
    },
    {
     "data": {
      "text/html": [
       "<pre style=\"white-space:pre;overflow-x:auto;line-height:normal;font-family:Menlo,'DejaVu Sans Mono',consolas,'Courier New',monospace\"><span style=\"color: #d4b702; text-decoration-color: #d4b702\">━━━━━━━━━━━━━━━━━━━━━━━━━━━━━━━━━━━━━━━━━━━━━━━━━━━━━━━━━━━━━━━━━━━━━━━━━━━━━━━━━━━━━━━━━━━━━━━━ </span><span style=\"font-weight: bold\">Step </span><span style=\"color: #008080; text-decoration-color: #008080; font-weight: bold\">0</span><span style=\"color: #d4b702; text-decoration-color: #d4b702\"> ━━━━━━━━━━━━━━━━━━━━━━━━━━━━━━━━━━━━━━━━━━━━━━━━━━━━━━━━━━━━━━━━━━━━━━━━━━━━━━━━━━━━━━━━━━━━━━━━</span>\n",
       "</pre>\n"
      ],
      "text/plain": [
       "\u001b[38;2;212;183;2m━━━━━━━━━━━━━━━━━━━━━━━━━━━━━━━━━━━━━━━━━━━━━━━━━━━━━━━━━━━━━━━━━━━━━━━━━━━━━━━━━━━━━━━━━━━━━━━━ \u001b[0m\u001b[1mStep \u001b[0m\u001b[1;36m0\u001b[0m\u001b[38;2;212;183;2m ━━━━━━━━━━━━━━━━━━━━━━━━━━━━━━━━━━━━━━━━━━━━━━━━━━━━━━━━━━━━━━━━━━━━━━━━━━━━━━━━━━━━━━━━━━━━━━━━\u001b[0m\n"
      ]
     },
     "metadata": {},
     "output_type": "display_data"
    },
    {
     "data": {
      "text/html": [
       "<pre style=\"white-space:pre;overflow-x:auto;line-height:normal;font-family:Menlo,'DejaVu Sans Mono',consolas,'Courier New',monospace\"> ─ <span style=\"font-weight: bold\">Executing this code:</span> ─────────────────────────────────────────────────────────────────────────────────────────────────────────────────────────────────────────────────────────────────────────────── \n",
       "  <span style=\"color: #f8f8f2; text-decoration-color: #f8f8f2; background-color: #272822\">conversion_result </span><span style=\"color: #ff4689; text-decoration-color: #ff4689; background-color: #272822\">=</span><span style=\"color: #f8f8f2; text-decoration-color: #f8f8f2; background-color: #272822\"> convert_currency_2(amount</span><span style=\"color: #ff4689; text-decoration-color: #ff4689; background-color: #272822\">=</span><span style=\"color: #ae81ff; text-decoration-color: #ae81ff; background-color: #272822\">500</span><span style=\"color: #f8f8f2; text-decoration-color: #f8f8f2; background-color: #272822\">, from_currency</span><span style=\"color: #ff4689; text-decoration-color: #ff4689; background-color: #272822\">=</span><span style=\"color: #e6db74; text-decoration-color: #e6db74; background-color: #272822\">'GBP'</span><span style=\"color: #f8f8f2; text-decoration-color: #f8f8f2; background-color: #272822\">, to_currency</span><span style=\"color: #ff4689; text-decoration-color: #ff4689; background-color: #272822\">=</span><span style=\"color: #e6db74; text-decoration-color: #e6db74; background-color: #272822\">'USD'</span><span style=\"color: #f8f8f2; text-decoration-color: #f8f8f2; background-color: #272822\">)</span><span style=\"background-color: #272822\">                                                                                                          </span>  \n",
       "  <span style=\"color: #f8f8f2; text-decoration-color: #f8f8f2; background-color: #272822\">print(conversion_result)</span><span style=\"background-color: #272822\">                                                                                                                                                                            </span>  \n",
       " ────────────────────────────────────────────────────────────────────────────────────────────────────────────────────────────────────────────────────────────────────────────────────────────────────── \n",
       "</pre>\n"
      ],
      "text/plain": [
       " ─ \u001b[1mExecuting this code:\u001b[0m ─────────────────────────────────────────────────────────────────────────────────────────────────────────────────────────────────────────────────────────────────────────────── \n",
       "  \u001b[38;2;248;248;242;48;2;39;40;34mconversion_result\u001b[0m\u001b[38;2;248;248;242;48;2;39;40;34m \u001b[0m\u001b[38;2;255;70;137;48;2;39;40;34m=\u001b[0m\u001b[38;2;248;248;242;48;2;39;40;34m \u001b[0m\u001b[38;2;248;248;242;48;2;39;40;34mconvert_currency_2\u001b[0m\u001b[38;2;248;248;242;48;2;39;40;34m(\u001b[0m\u001b[38;2;248;248;242;48;2;39;40;34mamount\u001b[0m\u001b[38;2;255;70;137;48;2;39;40;34m=\u001b[0m\u001b[38;2;174;129;255;48;2;39;40;34m500\u001b[0m\u001b[38;2;248;248;242;48;2;39;40;34m,\u001b[0m\u001b[38;2;248;248;242;48;2;39;40;34m \u001b[0m\u001b[38;2;248;248;242;48;2;39;40;34mfrom_currency\u001b[0m\u001b[38;2;255;70;137;48;2;39;40;34m=\u001b[0m\u001b[38;2;230;219;116;48;2;39;40;34m'\u001b[0m\u001b[38;2;230;219;116;48;2;39;40;34mGBP\u001b[0m\u001b[38;2;230;219;116;48;2;39;40;34m'\u001b[0m\u001b[38;2;248;248;242;48;2;39;40;34m,\u001b[0m\u001b[38;2;248;248;242;48;2;39;40;34m \u001b[0m\u001b[38;2;248;248;242;48;2;39;40;34mto_currency\u001b[0m\u001b[38;2;255;70;137;48;2;39;40;34m=\u001b[0m\u001b[38;2;230;219;116;48;2;39;40;34m'\u001b[0m\u001b[38;2;230;219;116;48;2;39;40;34mUSD\u001b[0m\u001b[38;2;230;219;116;48;2;39;40;34m'\u001b[0m\u001b[38;2;248;248;242;48;2;39;40;34m)\u001b[0m\u001b[48;2;39;40;34m                                                                                                          \u001b[0m  \n",
       "  \u001b[38;2;248;248;242;48;2;39;40;34mprint\u001b[0m\u001b[38;2;248;248;242;48;2;39;40;34m(\u001b[0m\u001b[38;2;248;248;242;48;2;39;40;34mconversion_result\u001b[0m\u001b[38;2;248;248;242;48;2;39;40;34m)\u001b[0m\u001b[48;2;39;40;34m                                                                                                                                                                            \u001b[0m  \n",
       " ────────────────────────────────────────────────────────────────────────────────────────────────────────────────────────────────────────────────────────────────────────────────────────────────────── \n"
      ]
     },
     "metadata": {},
     "output_type": "display_data"
    },
    {
     "data": {
      "text/html": [
       "<pre style=\"white-space:pre;overflow-x:auto;line-height:normal;font-family:Menlo,'DejaVu Sans Mono',consolas,'Courier New',monospace\"><span style=\"font-weight: bold\">Execution logs:</span>\n",
       "611.66\n",
       "\n",
       "Out: None\n",
       "</pre>\n"
      ],
      "text/plain": [
       "\u001b[1mExecution logs:\u001b[0m\n",
       "611.66\n",
       "\n",
       "Out: None\n"
      ]
     },
     "metadata": {},
     "output_type": "display_data"
    },
    {
     "data": {
      "text/html": [
       "<pre style=\"white-space:pre;overflow-x:auto;line-height:normal;font-family:Menlo,'DejaVu Sans Mono',consolas,'Courier New',monospace\"><span style=\"color: #7f7f7f; text-decoration-color: #7f7f7f\">[Step 0: Duration 2.04 seconds| Input tokens: 2,231 | Output tokens: 69]</span>\n",
       "</pre>\n"
      ],
      "text/plain": [
       "\u001b[2m[Step 0: Duration 2.04 seconds| Input tokens: 2,231 | Output tokens: 69]\u001b[0m\n"
      ]
     },
     "metadata": {},
     "output_type": "display_data"
    },
    {
     "data": {
      "text/html": [
       "<pre style=\"white-space:pre;overflow-x:auto;line-height:normal;font-family:Menlo,'DejaVu Sans Mono',consolas,'Courier New',monospace\"><span style=\"color: #d4b702; text-decoration-color: #d4b702\">━━━━━━━━━━━━━━━━━━━━━━━━━━━━━━━━━━━━━━━━━━━━━━━━━━━━━━━━━━━━━━━━━━━━━━━━━━━━━━━━━━━━━━━━━━━━━━━━ </span><span style=\"font-weight: bold\">Step </span><span style=\"color: #008080; text-decoration-color: #008080; font-weight: bold\">1</span><span style=\"color: #d4b702; text-decoration-color: #d4b702\"> ━━━━━━━━━━━━━━━━━━━━━━━━━━━━━━━━━━━━━━━━━━━━━━━━━━━━━━━━━━━━━━━━━━━━━━━━━━━━━━━━━━━━━━━━━━━━━━━━</span>\n",
       "</pre>\n"
      ],
      "text/plain": [
       "\u001b[38;2;212;183;2m━━━━━━━━━━━━━━━━━━━━━━━━━━━━━━━━━━━━━━━━━━━━━━━━━━━━━━━━━━━━━━━━━━━━━━━━━━━━━━━━━━━━━━━━━━━━━━━━ \u001b[0m\u001b[1mStep \u001b[0m\u001b[1;36m1\u001b[0m\u001b[38;2;212;183;2m ━━━━━━━━━━━━━━━━━━━━━━━━━━━━━━━━━━━━━━━━━━━━━━━━━━━━━━━━━━━━━━━━━━━━━━━━━━━━━━━━━━━━━━━━━━━━━━━━\u001b[0m\n"
      ]
     },
     "metadata": {},
     "output_type": "display_data"
    },
    {
     "data": {
      "text/html": [
       "<pre style=\"white-space:pre;overflow-x:auto;line-height:normal;font-family:Menlo,'DejaVu Sans Mono',consolas,'Courier New',monospace\"> ─ <span style=\"font-weight: bold\">Executing this code:</span> ─────────────────────────────────────────────────────────────────────────────────────────────────────────────────────────────────────────────────────────────────────────────── \n",
       "  <span style=\"color: #f8f8f2; text-decoration-color: #f8f8f2; background-color: #272822\">conversion_result </span><span style=\"color: #ff4689; text-decoration-color: #ff4689; background-color: #272822\">=</span><span style=\"color: #f8f8f2; text-decoration-color: #f8f8f2; background-color: #272822\"> convert_currency_2(amount</span><span style=\"color: #ff4689; text-decoration-color: #ff4689; background-color: #272822\">=</span><span style=\"color: #ae81ff; text-decoration-color: #ae81ff; background-color: #272822\">500</span><span style=\"color: #f8f8f2; text-decoration-color: #f8f8f2; background-color: #272822\">, from_currency</span><span style=\"color: #ff4689; text-decoration-color: #ff4689; background-color: #272822\">=</span><span style=\"color: #e6db74; text-decoration-color: #e6db74; background-color: #272822\">'GBP'</span><span style=\"color: #f8f8f2; text-decoration-color: #f8f8f2; background-color: #272822\">, to_currency</span><span style=\"color: #ff4689; text-decoration-color: #ff4689; background-color: #272822\">=</span><span style=\"color: #e6db74; text-decoration-color: #e6db74; background-color: #272822\">'USD'</span><span style=\"color: #f8f8f2; text-decoration-color: #f8f8f2; background-color: #272822\">)</span><span style=\"background-color: #272822\">                                                                                                          </span>  \n",
       "  <span style=\"color: #f8f8f2; text-decoration-color: #f8f8f2; background-color: #272822\">final_answer(conversion_result)</span><span style=\"background-color: #272822\">                                                                                                                                                                     </span>  \n",
       " ────────────────────────────────────────────────────────────────────────────────────────────────────────────────────────────────────────────────────────────────────────────────────────────────────── \n",
       "</pre>\n"
      ],
      "text/plain": [
       " ─ \u001b[1mExecuting this code:\u001b[0m ─────────────────────────────────────────────────────────────────────────────────────────────────────────────────────────────────────────────────────────────────────────────── \n",
       "  \u001b[38;2;248;248;242;48;2;39;40;34mconversion_result\u001b[0m\u001b[38;2;248;248;242;48;2;39;40;34m \u001b[0m\u001b[38;2;255;70;137;48;2;39;40;34m=\u001b[0m\u001b[38;2;248;248;242;48;2;39;40;34m \u001b[0m\u001b[38;2;248;248;242;48;2;39;40;34mconvert_currency_2\u001b[0m\u001b[38;2;248;248;242;48;2;39;40;34m(\u001b[0m\u001b[38;2;248;248;242;48;2;39;40;34mamount\u001b[0m\u001b[38;2;255;70;137;48;2;39;40;34m=\u001b[0m\u001b[38;2;174;129;255;48;2;39;40;34m500\u001b[0m\u001b[38;2;248;248;242;48;2;39;40;34m,\u001b[0m\u001b[38;2;248;248;242;48;2;39;40;34m \u001b[0m\u001b[38;2;248;248;242;48;2;39;40;34mfrom_currency\u001b[0m\u001b[38;2;255;70;137;48;2;39;40;34m=\u001b[0m\u001b[38;2;230;219;116;48;2;39;40;34m'\u001b[0m\u001b[38;2;230;219;116;48;2;39;40;34mGBP\u001b[0m\u001b[38;2;230;219;116;48;2;39;40;34m'\u001b[0m\u001b[38;2;248;248;242;48;2;39;40;34m,\u001b[0m\u001b[38;2;248;248;242;48;2;39;40;34m \u001b[0m\u001b[38;2;248;248;242;48;2;39;40;34mto_currency\u001b[0m\u001b[38;2;255;70;137;48;2;39;40;34m=\u001b[0m\u001b[38;2;230;219;116;48;2;39;40;34m'\u001b[0m\u001b[38;2;230;219;116;48;2;39;40;34mUSD\u001b[0m\u001b[38;2;230;219;116;48;2;39;40;34m'\u001b[0m\u001b[38;2;248;248;242;48;2;39;40;34m)\u001b[0m\u001b[48;2;39;40;34m                                                                                                          \u001b[0m  \n",
       "  \u001b[38;2;248;248;242;48;2;39;40;34mfinal_answer\u001b[0m\u001b[38;2;248;248;242;48;2;39;40;34m(\u001b[0m\u001b[38;2;248;248;242;48;2;39;40;34mconversion_result\u001b[0m\u001b[38;2;248;248;242;48;2;39;40;34m)\u001b[0m\u001b[48;2;39;40;34m                                                                                                                                                                     \u001b[0m  \n",
       " ────────────────────────────────────────────────────────────────────────────────────────────────────────────────────────────────────────────────────────────────────────────────────────────────────── \n"
      ]
     },
     "metadata": {},
     "output_type": "display_data"
    },
    {
     "data": {
      "text/html": [
       "<pre style=\"white-space:pre;overflow-x:auto;line-height:normal;font-family:Menlo,'DejaVu Sans Mono',consolas,'Courier New',monospace\"><span style=\"color: #d4b702; text-decoration-color: #d4b702; font-weight: bold\">Out - Final answer: 611.66</span>\n",
       "</pre>\n"
      ],
      "text/plain": [
       "\u001b[1;38;2;212;183;2mOut - Final answer: 611.66\u001b[0m\n"
      ]
     },
     "metadata": {},
     "output_type": "display_data"
    },
    {
     "data": {
      "text/html": [
       "<pre style=\"white-space:pre;overflow-x:auto;line-height:normal;font-family:Menlo,'DejaVu Sans Mono',consolas,'Courier New',monospace\"><span style=\"color: #7f7f7f; text-decoration-color: #7f7f7f\">[Step 1: Duration 1.92 seconds| Input tokens: 4,631 | Output tokens: 143]</span>\n",
       "</pre>\n"
      ],
      "text/plain": [
       "\u001b[2m[Step 1: Duration 1.92 seconds| Input tokens: 4,631 | Output tokens: 143]\u001b[0m\n"
      ]
     },
     "metadata": {},
     "output_type": "display_data"
    },
    {
     "data": {
      "text/plain": [
       "611.66"
      ]
     },
     "execution_count": 19,
     "metadata": {},
     "output_type": "execute_result"
    }
   ],
   "source": [
    "# Define the Model\n",
    "model = HfApiModel(model_id=\"Qwen/Qwen2.5-Coder-32B-Instruct\")\n",
    "\n",
    "# Load the Tool\n",
    "currency_coverter = ConvertCurrency()\n",
    "\n",
    "# Create the Agent\n",
    "agent = CodeAgent(tools=[currency_coverter], \n",
    "                  model=model, \n",
    "                  add_base_tools=True)\n",
    "\n",
    "# Launch the Agent\n",
    "agent.run(\n",
    "    \"What is 500 great british pounds to dollars\",\n",
    ")"
   ]
  },
  {
   "cell_type": "markdown",
   "id": "13199fa2-9a7c-4b8d-af81-7f0c3dbea317",
   "metadata": {},
   "source": [
    "### Tools from Hugging Face\n",
    "\n",
    "Uniquely, smolagents implements a way to use [Hugging Face spaces](https://huggingface.co/spaces) via the gradio api as tools. \n",
    "\n",
    "This allows you to connect more complex hosted tools together via the entire HF ecosystem. From their documentation, they show how we can use the [Black Forest Labs FLUX.1-schnell](https://huggingface.co/spaces/black-forest-labs/FLUX.1-schnell) space as a tool."
   ]
  },
  {
   "cell_type": "code",
   "execution_count": 21,
   "id": "475eaad4-a8e4-4501-a901-a1e4d5f91758",
   "metadata": {},
   "outputs": [
    {
     "name": "stdout",
     "output_type": "stream",
     "text": [
      "Loaded as API: https://black-forest-labs-flux-1-schnell.hf.space ✔\n"
     ]
    },
    {
     "name": "stderr",
     "output_type": "stream",
     "text": [
      "Since `api_name` was not defined, it was automatically set to the first available API: `/infer`.\n"
     ]
    }
   ],
   "source": [
    "from PIL import Image\n",
    "\n",
    "# Main HF Connection\n",
    "image_generation_tool = Tool.from_space(\n",
    "    \"black-forest-labs/FLUX.1-schnell\",\n",
    "    name=\"image_generator\",\n",
    "    description=\"Generate an image from a prompt\"\n",
    ")\n",
    "\n",
    "# resp = image_generation_tool(\"A sunny beach\")\n",
    "# img = Image.open(resp)\n",
    "# img.show()\n",
    "\n",
    "# Additional Tool to Display Image\n",
    "@tool\n",
    "def display_image(path: str) -> str:\n",
    "    \"\"\"\n",
    "    Use\n",
    "\n",
    "    Args:\n",
    "        path: output path from the image generation tool\n",
    "    \"\"\"\n",
    "    image = Image.open(path)\n",
    "    image.show()\n",
    "\n",
    "    return \"Success\""
   ]
  },
  {
   "cell_type": "markdown",
   "id": "5c27f3b1-e213-4bcc-899d-bb98e77e000f",
   "metadata": {},
   "source": [
    "**Demonstration**"
   ]
  },
  {
   "cell_type": "code",
   "execution_count": 22,
   "id": "1fb8cb30-14ca-458a-8b33-71a46e2e20f3",
   "metadata": {
    "scrolled": true
   },
   "outputs": [
    {
     "data": {
      "text/html": [
       "<pre style=\"white-space:pre;overflow-x:auto;line-height:normal;font-family:Menlo,'DejaVu Sans Mono',consolas,'Courier New',monospace\"><span style=\"color: #d4b702; text-decoration-color: #d4b702\">╭────────────────────────────────────────────────────────────────────────────────────────────── </span><span style=\"color: #d4b702; text-decoration-color: #d4b702; font-weight: bold\">New run</span><span style=\"color: #d4b702; text-decoration-color: #d4b702\"> ───────────────────────────────────────────────────────────────────────────────────────────────╮</span>\n",
       "<span style=\"color: #d4b702; text-decoration-color: #d4b702\">│</span>                                                                                                                                                                                                      <span style=\"color: #d4b702; text-decoration-color: #d4b702\">│</span>\n",
       "<span style=\"color: #d4b702; text-decoration-color: #d4b702\">│</span> <span style=\"font-weight: bold\">generate an image of a green basketball and show it to the user</span>                                                                                                                                      <span style=\"color: #d4b702; text-decoration-color: #d4b702\">│</span>\n",
       "<span style=\"color: #d4b702; text-decoration-color: #d4b702\">│</span>                                                                                                                                                                                                      <span style=\"color: #d4b702; text-decoration-color: #d4b702\">│</span>\n",
       "<span style=\"color: #d4b702; text-decoration-color: #d4b702\">╰─ HfApiModel - Qwen/Qwen2.5-Coder-32B-Instruct ───────────────────────────────────────────────────────────────────────────────────────────────────────────────────────────────────────────────────────╯</span>\n",
       "</pre>\n"
      ],
      "text/plain": [
       "\u001b[38;2;212;183;2m╭─\u001b[0m\u001b[38;2;212;183;2m─────────────────────────────────────────────────────────────────────────────────────────────\u001b[0m\u001b[38;2;212;183;2m \u001b[0m\u001b[1;38;2;212;183;2mNew run\u001b[0m\u001b[38;2;212;183;2m \u001b[0m\u001b[38;2;212;183;2m──────────────────────────────────────────────────────────────────────────────────────────────\u001b[0m\u001b[38;2;212;183;2m─╮\u001b[0m\n",
       "\u001b[38;2;212;183;2m│\u001b[0m                                                                                                                                                                                                      \u001b[38;2;212;183;2m│\u001b[0m\n",
       "\u001b[38;2;212;183;2m│\u001b[0m \u001b[1mgenerate an image of a green basketball and show it to the user\u001b[0m                                                                                                                                      \u001b[38;2;212;183;2m│\u001b[0m\n",
       "\u001b[38;2;212;183;2m│\u001b[0m                                                                                                                                                                                                      \u001b[38;2;212;183;2m│\u001b[0m\n",
       "\u001b[38;2;212;183;2m╰─\u001b[0m\u001b[38;2;212;183;2m HfApiModel - Qwen/Qwen2.5-Coder-32B-Instruct \u001b[0m\u001b[38;2;212;183;2m──────────────────────────────────────────────────────────────────────────────────────────────────────────────────────────────────────────────────────\u001b[0m\u001b[38;2;212;183;2m─╯\u001b[0m\n"
      ]
     },
     "metadata": {},
     "output_type": "display_data"
    },
    {
     "data": {
      "text/html": [
       "<pre style=\"white-space:pre;overflow-x:auto;line-height:normal;font-family:Menlo,'DejaVu Sans Mono',consolas,'Courier New',monospace\"><span style=\"color: #d4b702; text-decoration-color: #d4b702\">━━━━━━━━━━━━━━━━━━━━━━━━━━━━━━━━━━━━━━━━━━━━━━━━━━━━━━━━━━━━━━━━━━━━━━━━━━━━━━━━━━━━━━━━━━━━━━━━ </span><span style=\"font-weight: bold\">Step </span><span style=\"color: #008080; text-decoration-color: #008080; font-weight: bold\">0</span><span style=\"color: #d4b702; text-decoration-color: #d4b702\"> ━━━━━━━━━━━━━━━━━━━━━━━━━━━━━━━━━━━━━━━━━━━━━━━━━━━━━━━━━━━━━━━━━━━━━━━━━━━━━━━━━━━━━━━━━━━━━━━━</span>\n",
       "</pre>\n"
      ],
      "text/plain": [
       "\u001b[38;2;212;183;2m━━━━━━━━━━━━━━━━━━━━━━━━━━━━━━━━━━━━━━━━━━━━━━━━━━━━━━━━━━━━━━━━━━━━━━━━━━━━━━━━━━━━━━━━━━━━━━━━ \u001b[0m\u001b[1mStep \u001b[0m\u001b[1;36m0\u001b[0m\u001b[38;2;212;183;2m ━━━━━━━━━━━━━━━━━━━━━━━━━━━━━━━━━━━━━━━━━━━━━━━━━━━━━━━━━━━━━━━━━━━━━━━━━━━━━━━━━━━━━━━━━━━━━━━━\u001b[0m\n"
      ]
     },
     "metadata": {},
     "output_type": "display_data"
    },
    {
     "data": {
      "text/html": [
       "<pre style=\"white-space:pre;overflow-x:auto;line-height:normal;font-family:Menlo,'DejaVu Sans Mono',consolas,'Courier New',monospace\"> ─ <span style=\"font-weight: bold\">Executing this code:</span> ─────────────────────────────────────────────────────────────────────────────────────────────────────────────────────────────────────────────────────────────────────────────── \n",
       "  <span style=\"color: #f8f8f2; text-decoration-color: #f8f8f2; background-color: #272822\">image_path </span><span style=\"color: #ff4689; text-decoration-color: #ff4689; background-color: #272822\">=</span><span style=\"color: #f8f8f2; text-decoration-color: #f8f8f2; background-color: #272822\"> image_generator(prompt</span><span style=\"color: #ff4689; text-decoration-color: #ff4689; background-color: #272822\">=</span><span style=\"color: #e6db74; text-decoration-color: #e6db74; background-color: #272822\">\"A green basketball\"</span><span style=\"color: #f8f8f2; text-decoration-color: #f8f8f2; background-color: #272822\">)</span><span style=\"background-color: #272822\">                                                                                                                                           </span>  \n",
       "  <span style=\"color: #f8f8f2; text-decoration-color: #f8f8f2; background-color: #272822\">print(image_path)</span><span style=\"background-color: #272822\">                                                                                                                                                                                   </span>  \n",
       " ────────────────────────────────────────────────────────────────────────────────────────────────────────────────────────────────────────────────────────────────────────────────────────────────────── \n",
       "</pre>\n"
      ],
      "text/plain": [
       " ─ \u001b[1mExecuting this code:\u001b[0m ─────────────────────────────────────────────────────────────────────────────────────────────────────────────────────────────────────────────────────────────────────────────── \n",
       "  \u001b[38;2;248;248;242;48;2;39;40;34mimage_path\u001b[0m\u001b[38;2;248;248;242;48;2;39;40;34m \u001b[0m\u001b[38;2;255;70;137;48;2;39;40;34m=\u001b[0m\u001b[38;2;248;248;242;48;2;39;40;34m \u001b[0m\u001b[38;2;248;248;242;48;2;39;40;34mimage_generator\u001b[0m\u001b[38;2;248;248;242;48;2;39;40;34m(\u001b[0m\u001b[38;2;248;248;242;48;2;39;40;34mprompt\u001b[0m\u001b[38;2;255;70;137;48;2;39;40;34m=\u001b[0m\u001b[38;2;230;219;116;48;2;39;40;34m\"\u001b[0m\u001b[38;2;230;219;116;48;2;39;40;34mA green basketball\u001b[0m\u001b[38;2;230;219;116;48;2;39;40;34m\"\u001b[0m\u001b[38;2;248;248;242;48;2;39;40;34m)\u001b[0m\u001b[48;2;39;40;34m                                                                                                                                           \u001b[0m  \n",
       "  \u001b[38;2;248;248;242;48;2;39;40;34mprint\u001b[0m\u001b[38;2;248;248;242;48;2;39;40;34m(\u001b[0m\u001b[38;2;248;248;242;48;2;39;40;34mimage_path\u001b[0m\u001b[38;2;248;248;242;48;2;39;40;34m)\u001b[0m\u001b[48;2;39;40;34m                                                                                                                                                                                   \u001b[0m  \n",
       " ────────────────────────────────────────────────────────────────────────────────────────────────────────────────────────────────────────────────────────────────────────────────────────────────────── \n"
      ]
     },
     "metadata": {},
     "output_type": "display_data"
    },
    {
     "data": {
      "text/html": [
       "<pre style=\"white-space:pre;overflow-x:auto;line-height:normal;font-family:Menlo,'DejaVu Sans Mono',consolas,'Courier New',monospace\"><span style=\"font-weight: bold\">Execution logs:</span>\n",
       "/private/var/folders/yw/8psyh6kn5nb8tbbkw580yn340000gn/T/gradio/8e5c087d73091d2e9ed83c3dcb8f8ae2fe7f90634b8d506e21e5ca052aaabd07/image.webp\n",
       "\n",
       "Out: None\n",
       "</pre>\n"
      ],
      "text/plain": [
       "\u001b[1mExecution logs:\u001b[0m\n",
       "/private/var/folders/yw/8psyh6kn5nb8tbbkw580yn340000gn/T/gradio/8e5c087d73091d2e9ed83c3dcb8f8ae2fe7f90634b8d506e21e5ca052aaabd07/image.webp\n",
       "\n",
       "Out: None\n"
      ]
     },
     "metadata": {},
     "output_type": "display_data"
    },
    {
     "data": {
      "text/html": [
       "<pre style=\"white-space:pre;overflow-x:auto;line-height:normal;font-family:Menlo,'DejaVu Sans Mono',consolas,'Courier New',monospace\"><span style=\"color: #7f7f7f; text-decoration-color: #7f7f7f\">[Step 0: Duration 7.23 seconds| Input tokens: 2,066 | Output tokens: 60]</span>\n",
       "</pre>\n"
      ],
      "text/plain": [
       "\u001b[2m[Step 0: Duration 7.23 seconds| Input tokens: 2,066 | Output tokens: 60]\u001b[0m\n"
      ]
     },
     "metadata": {},
     "output_type": "display_data"
    },
    {
     "data": {
      "text/html": [
       "<pre style=\"white-space:pre;overflow-x:auto;line-height:normal;font-family:Menlo,'DejaVu Sans Mono',consolas,'Courier New',monospace\"><span style=\"color: #d4b702; text-decoration-color: #d4b702\">━━━━━━━━━━━━━━━━━━━━━━━━━━━━━━━━━━━━━━━━━━━━━━━━━━━━━━━━━━━━━━━━━━━━━━━━━━━━━━━━━━━━━━━━━━━━━━━━ </span><span style=\"font-weight: bold\">Step </span><span style=\"color: #008080; text-decoration-color: #008080; font-weight: bold\">1</span><span style=\"color: #d4b702; text-decoration-color: #d4b702\"> ━━━━━━━━━━━━━━━━━━━━━━━━━━━━━━━━━━━━━━━━━━━━━━━━━━━━━━━━━━━━━━━━━━━━━━━━━━━━━━━━━━━━━━━━━━━━━━━━</span>\n",
       "</pre>\n"
      ],
      "text/plain": [
       "\u001b[38;2;212;183;2m━━━━━━━━━━━━━━━━━━━━━━━━━━━━━━━━━━━━━━━━━━━━━━━━━━━━━━━━━━━━━━━━━━━━━━━━━━━━━━━━━━━━━━━━━━━━━━━━ \u001b[0m\u001b[1mStep \u001b[0m\u001b[1;36m1\u001b[0m\u001b[38;2;212;183;2m ━━━━━━━━━━━━━━━━━━━━━━━━━━━━━━━━━━━━━━━━━━━━━━━━━━━━━━━━━━━━━━━━━━━━━━━━━━━━━━━━━━━━━━━━━━━━━━━━\u001b[0m\n"
      ]
     },
     "metadata": {},
     "output_type": "display_data"
    },
    {
     "data": {
      "text/html": [
       "<pre style=\"white-space:pre;overflow-x:auto;line-height:normal;font-family:Menlo,'DejaVu Sans Mono',consolas,'Courier New',monospace\"> ─ <span style=\"font-weight: bold\">Executing this code:</span> ─────────────────────────────────────────────────────────────────────────────────────────────────────────────────────────────────────────────────────────────────────────────── \n",
       "  <span style=\"color: #f8f8f2; text-decoration-color: #f8f8f2; background-color: #272822\">display_image(path</span><span style=\"color: #ff4689; text-decoration-color: #ff4689; background-color: #272822\">=</span><span style=\"color: #f8f8f2; text-decoration-color: #f8f8f2; background-color: #272822\">image_path)</span><span style=\"background-color: #272822\">                                                                                                                                                                      </span>  \n",
       " ────────────────────────────────────────────────────────────────────────────────────────────────────────────────────────────────────────────────────────────────────────────────────────────────────── \n",
       "</pre>\n"
      ],
      "text/plain": [
       " ─ \u001b[1mExecuting this code:\u001b[0m ─────────────────────────────────────────────────────────────────────────────────────────────────────────────────────────────────────────────────────────────────────────────── \n",
       "  \u001b[38;2;248;248;242;48;2;39;40;34mdisplay_image\u001b[0m\u001b[38;2;248;248;242;48;2;39;40;34m(\u001b[0m\u001b[38;2;248;248;242;48;2;39;40;34mpath\u001b[0m\u001b[38;2;255;70;137;48;2;39;40;34m=\u001b[0m\u001b[38;2;248;248;242;48;2;39;40;34mimage_path\u001b[0m\u001b[38;2;248;248;242;48;2;39;40;34m)\u001b[0m\u001b[48;2;39;40;34m                                                                                                                                                                      \u001b[0m  \n",
       " ────────────────────────────────────────────────────────────────────────────────────────────────────────────────────────────────────────────────────────────────────────────────────────────────────── \n"
      ]
     },
     "metadata": {},
     "output_type": "display_data"
    },
    {
     "data": {
      "text/html": [
       "<pre style=\"white-space:pre;overflow-x:auto;line-height:normal;font-family:Menlo,'DejaVu Sans Mono',consolas,'Courier New',monospace\">Out: Success\n",
       "</pre>\n"
      ],
      "text/plain": [
       "Out: Success\n"
      ]
     },
     "metadata": {},
     "output_type": "display_data"
    },
    {
     "data": {
      "text/html": [
       "<pre style=\"white-space:pre;overflow-x:auto;line-height:normal;font-family:Menlo,'DejaVu Sans Mono',consolas,'Courier New',monospace\"><span style=\"color: #7f7f7f; text-decoration-color: #7f7f7f\">[Step 1: Duration 1.65 seconds| Input tokens: 4,365 | Output tokens: 113]</span>\n",
       "</pre>\n"
      ],
      "text/plain": [
       "\u001b[2m[Step 1: Duration 1.65 seconds| Input tokens: 4,365 | Output tokens: 113]\u001b[0m\n"
      ]
     },
     "metadata": {},
     "output_type": "display_data"
    },
    {
     "data": {
      "text/html": [
       "<pre style=\"white-space:pre;overflow-x:auto;line-height:normal;font-family:Menlo,'DejaVu Sans Mono',consolas,'Courier New',monospace\"><span style=\"color: #d4b702; text-decoration-color: #d4b702\">━━━━━━━━━━━━━━━━━━━━━━━━━━━━━━━━━━━━━━━━━━━━━━━━━━━━━━━━━━━━━━━━━━━━━━━━━━━━━━━━━━━━━━━━━━━━━━━━ </span><span style=\"font-weight: bold\">Step </span><span style=\"color: #008080; text-decoration-color: #008080; font-weight: bold\">2</span><span style=\"color: #d4b702; text-decoration-color: #d4b702\"> ━━━━━━━━━━━━━━━━━━━━━━━━━━━━━━━━━━━━━━━━━━━━━━━━━━━━━━━━━━━━━━━━━━━━━━━━━━━━━━━━━━━━━━━━━━━━━━━━</span>\n",
       "</pre>\n"
      ],
      "text/plain": [
       "\u001b[38;2;212;183;2m━━━━━━━━━━━━━━━━━━━━━━━━━━━━━━━━━━━━━━━━━━━━━━━━━━━━━━━━━━━━━━━━━━━━━━━━━━━━━━━━━━━━━━━━━━━━━━━━ \u001b[0m\u001b[1mStep \u001b[0m\u001b[1;36m2\u001b[0m\u001b[38;2;212;183;2m ━━━━━━━━━━━━━━━━━━━━━━━━━━━━━━━━━━━━━━━━━━━━━━━━━━━━━━━━━━━━━━━━━━━━━━━━━━━━━━━━━━━━━━━━━━━━━━━━\u001b[0m\n"
      ]
     },
     "metadata": {},
     "output_type": "display_data"
    },
    {
     "data": {
      "text/html": [
       "<pre style=\"white-space:pre;overflow-x:auto;line-height:normal;font-family:Menlo,'DejaVu Sans Mono',consolas,'Courier New',monospace\"> ─ <span style=\"font-weight: bold\">Executing this code:</span> ─────────────────────────────────────────────────────────────────────────────────────────────────────────────────────────────────────────────────────────────────────────────── \n",
       "  <span style=\"color: #f8f8f2; text-decoration-color: #f8f8f2; background-color: #272822\">final_answer(</span><span style=\"color: #e6db74; text-decoration-color: #e6db74; background-color: #272822\">\"The green basketball image has been displayed.\"</span><span style=\"color: #f8f8f2; text-decoration-color: #f8f8f2; background-color: #272822\">)</span><span style=\"background-color: #272822\">                                                                                                                                      </span>  \n",
       " ────────────────────────────────────────────────────────────────────────────────────────────────────────────────────────────────────────────────────────────────────────────────────────────────────── \n",
       "</pre>\n"
      ],
      "text/plain": [
       " ─ \u001b[1mExecuting this code:\u001b[0m ─────────────────────────────────────────────────────────────────────────────────────────────────────────────────────────────────────────────────────────────────────────────── \n",
       "  \u001b[38;2;248;248;242;48;2;39;40;34mfinal_answer\u001b[0m\u001b[38;2;248;248;242;48;2;39;40;34m(\u001b[0m\u001b[38;2;230;219;116;48;2;39;40;34m\"\u001b[0m\u001b[38;2;230;219;116;48;2;39;40;34mThe green basketball image has been displayed.\u001b[0m\u001b[38;2;230;219;116;48;2;39;40;34m\"\u001b[0m\u001b[38;2;248;248;242;48;2;39;40;34m)\u001b[0m\u001b[48;2;39;40;34m                                                                                                                                      \u001b[0m  \n",
       " ────────────────────────────────────────────────────────────────────────────────────────────────────────────────────────────────────────────────────────────────────────────────────────────────────── \n"
      ]
     },
     "metadata": {},
     "output_type": "display_data"
    },
    {
     "data": {
      "text/html": [
       "<pre style=\"white-space:pre;overflow-x:auto;line-height:normal;font-family:Menlo,'DejaVu Sans Mono',consolas,'Courier New',monospace\"><span style=\"color: #d4b702; text-decoration-color: #d4b702; font-weight: bold\">Out - Final answer: The green basketball image has been displayed.</span>\n",
       "</pre>\n"
      ],
      "text/plain": [
       "\u001b[1;38;2;212;183;2mOut - Final answer: The green basketball image has been displayed.\u001b[0m\n"
      ]
     },
     "metadata": {},
     "output_type": "display_data"
    },
    {
     "data": {
      "text/html": [
       "<pre style=\"white-space:pre;overflow-x:auto;line-height:normal;font-family:Menlo,'DejaVu Sans Mono',consolas,'Courier New',monospace\"><span style=\"color: #7f7f7f; text-decoration-color: #7f7f7f\">[Step 2: Duration 1.30 seconds| Input tokens: 6,786 | Output tokens: 160]</span>\n",
       "</pre>\n"
      ],
      "text/plain": [
       "\u001b[2m[Step 2: Duration 1.30 seconds| Input tokens: 6,786 | Output tokens: 160]\u001b[0m\n"
      ]
     },
     "metadata": {},
     "output_type": "display_data"
    },
    {
     "data": {
      "text/plain": [
       "'The green basketball image has been displayed.'"
      ]
     },
     "execution_count": 22,
     "metadata": {},
     "output_type": "execute_result"
    }
   ],
   "source": [
    "# Define the Model\n",
    "model = HfApiModel(model_id=\"Qwen/Qwen2.5-Coder-32B-Instruct\")\n",
    "\n",
    "# Create the Agent\n",
    "agent = CodeAgent(tools=[image_generation_tool, \n",
    "                         display_image], \n",
    "                  model=model)\n",
    "\n",
    "# Launch the Agent\n",
    "agent.run(\n",
    "    \"generate an image of a green basketball and show it to the user\"\n",
    ")"
   ]
  },
  {
   "cell_type": "markdown",
   "id": "af2252fe-6c1b-42f1-9e37-42e764153e55",
   "metadata": {},
   "source": [
    "Sharing and importing tools from the Hugging Face Hub is made simple too, with the `tool_name.push_to_hub(\"{your_username}/{your-tool-name}\")` function!"
   ]
  },
  {
   "cell_type": "markdown",
   "id": "65e1efa7-62eb-405d-80d3-cf2e4ee64096",
   "metadata": {},
   "source": [
    "---\n",
    "## Planning\n",
    "\n",
    "<img src=\"./media/planning.png\" width=400>\n",
    "\n",
    "*[LLM Agents](https://www.promptingguide.ai/research/llm-agents)*\n",
    "\n",
    "Optionally, you can instruct an agent to include one or multiple planning steps during its execution. This can help with complex multi-step tasks, or when the agent needs to adapt its approach based on intermediate results.\n",
    "\n",
    "When an agent performs planning, it breaks down a task into two key components:\n",
    "\n",
    "1. Facts List: Understanding what is known and what needs to be discovered\n",
    "2. Action Plan: Creating a step-by-step approach to solve the task\n",
    "\n",
    "The planning process happens through two main steps:\n",
    "\n",
    "1. **Initial Planning** (when step=0):\n",
    "- The agent first analyzes the task to create a FACTS list categorizing:\n",
    "  - Facts given in the task\n",
    "  - Facts to look up\n",
    "  - Facts to derive\n",
    "- Then creates an initial action plan based on these facts and available tools\n",
    "\n",
    "2. **Plan Updates** (at intervals):\n",
    "- The agent updates its facts with what it has learned\n",
    "- Creates a new/updated plan based on:\n",
    "  - Progress so far\n",
    "  - Remaining steps\n",
    "  - New facts discovered\n",
    "  - Available tools\n",
    "\n",
    "Key points about planning:\n",
    "\n",
    "- If `planning_interval=None` (default), no planning is done\n",
    "- If `planning_interval=1`, planning occurs at every step\n",
    "- If `planning_interval=N`, planning occurs every N steps\n",
    "- The agent maintains a running list of facts and updates its plan based on what it learns\n",
    "- Planning helps the agent stay organized and adapt its approach based on new information"
   ]
  },
  {
   "cell_type": "code",
   "execution_count": null,
   "id": "c9cedae0-2fb7-45b5-93a0-ba874137501e",
   "metadata": {
    "scrolled": true
   },
   "outputs": [],
   "source": [
    "# Define the Model\n",
    "model = HfApiModel(model_id=\"Qwen/Qwen2.5-Coder-32B-Instruct\")\n",
    "\n",
    "currency_coverter = ConvertCurrency()\n",
    "\n",
    "# Create the Agent\n",
    "agent = CodeAgent(tools=[image_generation_tool, \n",
    "                         display_image,\n",
    "                         currency_coverter], \n",
    "                  model = model,\n",
    "                  planning_interval=3, # Planning interval\n",
    "                  max_steps = 12\n",
    "                 )\n",
    "\n",
    "# Launch the Agent\n",
    "agent.run(\n",
    "    \"Generate and display two images one of the current rate of dollars to euros on a whiteboard\"\n",
    "    \"and another of the current rate of great british pounds to USD on a chalkboard\"\n",
    ")"
   ]
  },
  {
   "cell_type": "markdown",
   "id": "c8381624-9b60-4e62-965f-c57a91a62170",
   "metadata": {},
   "source": [
    "---\n",
    "## MultiAgent\n",
    "\n",
    "<img src=\"./media/multi_agent.png\" width=600>\n",
    "\n",
    "*[Multi-agent LLMs in 2024](https://www.superannotate.com/blog/multi-agent-llms)*\n",
    "\n",
    "What's better than one single agent? Multiple working together! \n",
    "\n",
    "As demonstrated across many frameworks now, single agents can get overwhelmed as their environment grows in complexity. Adding too many tools, situations, and pathways for an Agent to follow tends to degrade performance. Hence, the practice of creating a network of individual specialized agents that have their own subset of tools, memory, and available actions has become standard.\n",
    "\n",
    "Smolagents supports hierarchichal multi-agent systems via their `ManagedAgent` [class](https://github.com/huggingface/smolagents/blob/main/src/smolagents/agents.py#L1072). Essentially, converting a single agent into a function itself! "
   ]
  },
  {
   "cell_type": "code",
   "execution_count": null,
   "id": "7bd571aa-5705-4116-a439-408e4ef84952",
   "metadata": {},
   "outputs": [],
   "source": [
    "model = HfApiModel(model_id=\"Qwen/Qwen2.5-Coder-32B-Instruct\")\n",
    "\n",
    "# Currency Converter Agent\n",
    "currency_converter = ConvertCurrency()\n",
    "currency_agent = CodeAgent(tools=[currency_converter], model=model)\n",
    "managed_currency_agent = ManagedAgent(\n",
    "    agent=currency_agent,\n",
    "    name=\"currency_agent\",\n",
    "    description=\"Converts currency from one to another using the latest exchange rate. Needs an amount, and two currencies.\"\n",
    ")\n",
    "\n",
    "# Image Generator Agent\n",
    "image_agent = CodeAgent(tools=[image_generation_tool, display_image], model=model)\n",
    "managed_image_agent = ManagedAgent(\n",
    "    agent=image_agent,\n",
    "    name=\"image_agent\",\n",
    "    description=\"Generates and displays images on the fly. Instruct it with just the prompt you want to generate\"\n",
    ")\n",
    "\n",
    "# Manager Agent\n",
    "manager_agent = CodeAgent(\n",
    "    tools=[], model=model, managed_agents=[managed_currency_agent, managed_image_agent]\n",
    ")\n",
    "\n",
    "manager_agent.run(\"Generate and display two images, one of the current rate of dollars to euros on a whiteboard,\"\n",
    "                  \"and another of the current rate of great british pounds to polish zloty on a chalkboard\")"
   ]
  },
  {
   "cell_type": "markdown",
   "id": "84020c86-40a0-447c-8961-1a81aee1f849",
   "metadata": {},
   "source": [
    "---\n",
    "## Gradio Interface\n",
    "\n",
    "<img src=\"./media/gradio.svg\" width=400>\n",
    "\n",
    "As a final perk of smolagents being embedded in the Hugging Face ecosystem, there is clean connection to [Gradio](https://www.gradio.app/), allowing you to provide a quick and simple frontend for your agents."
   ]
  },
  {
   "cell_type": "code",
   "execution_count": null,
   "id": "329c9fb3-8425-48de-8e87-a761cdf8e882",
   "metadata": {},
   "outputs": [],
   "source": [
    "# Define the Model\n",
    "model = HfApiModel(model_id=\"Qwen/Qwen2.5-Coder-32B-Instruct\")\n",
    "\n",
    "# Load the Tool\n",
    "currency_coverter = ConvertCurrency()\n",
    "\n",
    "# Create the Agent\n",
    "agent = CodeAgent(tools=[currency_coverter], \n",
    "                  model=model, \n",
    "                  add_base_tools=True,\n",
    "                 verbosity_level=0)\n",
    "\n",
    "# Launch the Gradio Interface\n",
    "GradioUI(agent).launch()"
   ]
  },
  {
   "cell_type": "markdown",
   "id": "ad38e585-b0a8-4c81-903e-7712c6649b64",
   "metadata": {},
   "source": [
    "---\n",
    "## Discussion\n",
    "\n",
    "Smolagents provides a very robust and reusable framework for building single and multi agent language model systems. It's integration with open source providers and the Hugging Face ecosystem shows unprecedented support for building with open models, something that has been traditionally finnicky compared to the major closed providers. \n",
    "\n",
    "Code Agents provide a strong approach to tool use and execution, leveraging LLMs existing advanced code generation and understanding to more robustly handle and orchestrate different actions with the environment. Overall, many of the techniques used in smolagents are some of the best we've seen yet in terms of model applicability and innovative improvements to agentic performance."
   ]
  },
  {
   "cell_type": "code",
   "execution_count": null,
   "id": "67d9b448-192f-472f-acb0-2f516d24ebc3",
   "metadata": {},
   "outputs": [],
   "source": []
  }
 ],
 "metadata": {
  "kernelspec": {
   "display_name": "Python 3 (ipykernel)",
   "language": "python",
   "name": "python3"
  },
  "language_info": {
   "codemirror_mode": {
    "name": "ipython",
    "version": 3
   },
   "file_extension": ".py",
   "mimetype": "text/x-python",
   "name": "python",
   "nbconvert_exporter": "python",
   "pygments_lexer": "ipython3",
   "version": "3.12.2"
  }
 },
 "nbformat": 4,
 "nbformat_minor": 5
}
