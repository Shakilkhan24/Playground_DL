{
  "nbformat": 4,
  "nbformat_minor": 0,
  "metadata": {
    "colab": {
      "provenance": [],
      "authorship_tag": "ABX9TyNSMhwxc3O49OgusyHPyq0M",
      "include_colab_link": true
    },
    "kernelspec": {
      "name": "python3",
      "display_name": "Python 3"
    },
    "language_info": {
      "name": "python"
    }
  },
  "cells": [
    {
      "cell_type": "markdown",
      "metadata": {
        "id": "view-in-github",
        "colab_type": "text"
      },
      "source": [
        "<a href=\"https://colab.research.google.com/github/Shakilkhan24/Playground_DL/blob/main/web_crawler_practice_day1.ipynb\" target=\"_parent\"><img src=\"https://colab.research.google.com/assets/colab-badge.svg\" alt=\"Open In Colab\"/></a>"
      ]
    },
    {
      "cell_type": "markdown",
      "source": [
        "link of this notebook:\n",
        "https://colab.research.google.com/drive/1k6aYFemdhZBB8q2gUXjE_SWbgf5Xaxsw#scrollTo=dADX1mBQE-Ya"
      ],
      "metadata": {
        "id": "m6pv4EQPN_k9"
      }
    },
    {
      "cell_type": "code",
      "execution_count": null,
      "metadata": {
        "id": "VKHF4N1Rrqx7"
      },
      "outputs": [],
      "source": [
        "from bs4 import BeautifulSoup"
      ]
    },
    {
      "cell_type": "code",
      "source": [
        "!pip install lxml"
      ],
      "metadata": {
        "colab": {
          "base_uri": "https://localhost:8080/"
        },
        "id": "JR77-gEZ865C",
        "outputId": "2cba5465-e3b0-450b-9469-46d33616eacf"
      },
      "execution_count": null,
      "outputs": [
        {
          "output_type": "stream",
          "name": "stdout",
          "text": [
            "Requirement already satisfied: lxml in /usr/local/lib/python3.10/dist-packages (4.9.4)\n"
          ]
        }
      ]
    },
    {
      "cell_type": "markdown",
      "source": [
        "\n",
        "# all links in a web page\n",
        "\n",
        "\n"
      ],
      "metadata": {
        "id": "9B78dJxcwmM6"
      }
    },
    {
      "cell_type": "markdown",
      "source": [
        "\n",
        "\n",
        "```\n",
        "# ***ALL LINKS IN AN ENTIRE WEB-SITE***\n",
        "```\n",
        "\n"
      ],
      "metadata": {
        "id": "0rp-wkHi6ybi"
      }
    },
    {
      "cell_type": "code",
      "source": [
        "import requests\n",
        "from bs4 import BeautifulSoup\n",
        "from urllib.parse import urlparse, urljoin\n",
        "\n",
        "def bfs_crawl(url, limit):\n",
        "    visited = set()\n",
        "    queue = [url]\n",
        "    count = 0\n",
        "    extracted_links = []\n",
        "\n",
        "    while queue and count < limit:\n",
        "        current_url = queue.pop(0)\n",
        "        visited.add(current_url)\n",
        "\n",
        "        try:\n",
        "            response = requests.get(current_url)\n",
        "        except requests.exceptions.RequestException:\n",
        "            continue\n",
        "\n",
        "        soup = BeautifulSoup(response.text, 'html.parser')\n",
        "\n",
        "        for link in soup.find_all('a'):\n",
        "            href = link.get('href')\n",
        "            if href:\n",
        "                absolute_url = urljoin(current_url, href)\n",
        "                parsed_url = urlparse(absolute_url)\n",
        "\n",
        "                if parsed_url.netloc == urlparse(url).netloc:\n",
        "                    if absolute_url not in visited and absolute_url not in queue:\n",
        "                        queue.append(absolute_url)\n",
        "                        visited.add(absolute_url)\n",
        "                        count += 1\n",
        "                        extracted_links.append(absolute_url)\n",
        "\n",
        "        print(f\"Crawled: {current_url}\")\n",
        "\n",
        "    return extracted_links\n",
        "\n",
        "\n",
        "start_url = \"https://www.google.com/search?client=firefox-b-d&q=cat+image\"\n",
        "extraction_limit = 1000\n",
        "links = bfs_crawl(start_url, extraction_limit)\n",
        "print(links)"
      ],
      "metadata": {
        "id": "DIXqDPVTEbGW"
      },
      "execution_count": null,
      "outputs": []
    },
    {
      "cell_type": "code",
      "source": [
        "len(links)"
      ],
      "metadata": {
        "colab": {
          "base_uri": "https://localhost:8080/"
        },
        "id": "dADX1mBQE-Ya",
        "outputId": "63f678bc-409c-45e1-90db-325887efc17e"
      },
      "execution_count": null,
      "outputs": [
        {
          "output_type": "execute_result",
          "data": {
            "text/plain": [
              "1079"
            ]
          },
          "metadata": {},
          "execution_count": 52
        }
      ]
    },
    {
      "cell_type": "code",
      "source": [
        "with open('example.txt', 'w') as f:\n",
        "  pass"
      ],
      "metadata": {
        "id": "_1qt7P-IKHLh"
      },
      "execution_count": null,
      "outputs": []
    },
    {
      "cell_type": "code",
      "source": [
        "with open('first.csv','w') as f:\n",
        "  pass\n"
      ],
      "metadata": {
        "id": "PVYOQY1jMBbO"
      },
      "execution_count": null,
      "outputs": []
    },
    {
      "cell_type": "markdown",
      "source": [
        "***Extracting text, images, videos, links , code snippets , and others ***"
      ],
      "metadata": {
        "id": "FLXpl7xUIxiR"
      }
    },
    {
      "cell_type": "code",
      "source": [
        "import requests\n",
        "from bs4 import BeautifulSoup\n",
        "import os\n",
        "import urllib.parse\n",
        "\n",
        "def extract_information(url):\n",
        "    response = requests.get(url)\n",
        "    soup = BeautifulSoup(response.text, 'html.parser')\n",
        "\n",
        "    text_content = soup.get_text()\n",
        "\n",
        "    links = []\n",
        "    for link in soup.find_all('a'):\n",
        "        links.append(link.get('href'))    # if href doesn't have https or www , then use urljoin from urllib.parse\n",
        "\n",
        "    img_urls = []\n",
        "    for img in soup.find_all('img'):\n",
        "        img_url = img.get('src')\n",
        "        if img_url:\n",
        "            img_urls.append(urllib.parse.urljoin(url, img_url))\n",
        "\n",
        "    video_urls = []\n",
        "    for video in soup.find_all('video'):\n",
        "        video_url = video.get('src')\n",
        "        if video_url:\n",
        "            video_urls.append(urllib.parse.urljoin(url, video_url))\n",
        "\n",
        "    code_snippets = []\n",
        "    for code_block in soup.find_all('code'):\n",
        "        code_snippets.append(code_block.get_text())\n",
        "    return text_content, links, img_urls, video_urls, code_snippets\n",
        "\n",
        "\n"
      ],
      "metadata": {
        "id": "QTSsaO7eM3EX"
      },
      "execution_count": null,
      "outputs": []
    },
    {
      "cell_type": "markdown",
      "source": [
        "# DOWNLOADING IMAGES FROM ANY WEB"
      ],
      "metadata": {
        "id": "URxQqOwEJqZg"
      }
    },
    {
      "cell_type": "code",
      "source": [
        "import os\n",
        "import requests\n",
        "from bs4 import BeautifulSoup\n",
        "from urllib.parse import urljoin\n",
        "\n",
        "def download_images(url, save_folder):\n",
        "    if not os.path.exists(save_folder):\n",
        "        os.makedirs(save_folder)\n",
        "    response = requests.get(url)\n",
        "\n",
        "    if response.status_code != 200:\n",
        "        print(f\"Failed to retrieve webpage: {url}\")\n",
        "        return\n",
        "\n",
        "    soup = BeautifulSoup(response.text, 'html.parser')\n",
        "\n",
        "    img_tags = soup.find_all('img')\n",
        "    for img_tag in img_tags:\n",
        "        img_url = img_tag.get('src')\n",
        "        if img_url:\n",
        "            img_url = urljoin(url, img_url)\n",
        "            img_name = os.path.basename(img_url)\n",
        "            try:\n",
        "                img_data = requests.get(img_url).content\n",
        "                with open(os.path.join(save_folder, img_name), 'wb') as img_file:\n",
        "                    img_file.write(img_data)\n",
        "                    print(f\"Downloaded: {img_name}\")\n",
        "            except Exception as e:\n",
        "                print(f\"Failed to download {img_name}: {e}\")\n",
        "\n",
        "url = 'https://commons.wikimedia.org/wiki/National_symbols_of_Bangladesh'\n",
        "save_folder = 'IMAGES_WEB'\n",
        "\n",
        "download_images(url, save_folder)\n"
      ],
      "metadata": {
        "id": "R-bJxk9nFmnd",
        "outputId": "e03caec3-1741-4775-9007-dc482dc1b6f0",
        "colab": {
          "base_uri": "https://localhost:8080/"
        }
      },
      "execution_count": 5,
      "outputs": [
        {
          "output_type": "stream",
          "name": "stdout",
          "text": [
            "Downloaded: 230px-Flag_of_Bangladesh.svg.png\n",
            "Downloaded: 16px-Wikipedia-logo-v2.svg.png\n",
            "Downloaded: 20px-Wikidata-logo.svg.png\n",
            "Downloaded: 15px-Blue_pencil.svg.png\n",
            "Downloaded: 120px-Flag_of_Bangladesh.svg.png\n",
            "Downloaded: 120px-National_emblem_of_Bangladesh.svg.png\n",
            "Downloaded: 94px-Amar_Sonar_Bangla_Music.svg.png\n",
            "Downloaded: 120px-%E0%A6%AC%E0%A6%BE%E0%A6%82%E0%A6%B2%E0%A6%BE.svg.png\n",
            "Downloaded: 90px-Bangladesh_National_Martyrs%27_Memorial_Monument.JPG\n",
            "Downloaded: 120px-Shaheed_Minar.JPG\n",
            "Downloaded: 81px-Sheikh_Mujibur_Rahman_in_1950.jpg\n",
            "Downloaded: 89px-Nazrul.jpg\n",
            "Downloaded: 84px-Bangladeshi_E-Passport.svg.png\n",
            "Downloaded: 120px-Biman_Bangladesh_B777-300ER_%28S2-AFP%29_landing_at_Shahjalal_International_Airport.jpg\n",
            "Downloaded: 98px-Taka_%28Bengali_letter%29.svg.png\n",
            "Downloaded: 89px-Fresher%27s_Reception_2011_at_CCPC_%2803%29.jpg\n",
            "Downloaded: 116px-Bangladesh_film_clapperboard.svg.png\n",
            "Downloaded: 120px-Nymphaea_pubescens_JNTBGRI.jpg\n",
            "Downloaded: 120px-%28Artocarpus_heterophyllus%29_Jack_fruits_on_Simhachalam_Hills_01.jpg\n",
            "Downloaded: 120px-Mango_tree_-_Dadaga.jpg\n",
            "Downloaded: 120px-Red_Tea.jpg\n",
            "Downloaded: 120px-Jute_Field.jpg\n",
            "Downloaded: 120px-Rice_Field.jpg\n",
            "Downloaded: 120px-Ilish.JPG\n",
            "Downloaded: 120px-Gold_Pan.jpg\n",
            "Downloaded: 86px-Bindenseeadler%2C_Pallas%27s_Fish_Eagle.JPG\n",
            "Downloaded: 120px-Royal_bengal_tiger_play.jpg\n",
            "Downloaded: 120px-Oriental_Magpie_Robin_%28Copsychus_saularis%29-_Male_calling_in_the_rain_at_Kolkata_I_IMG_3746.jpg\n",
            "Downloaded: 120px-The_White_Breasted_Waterhen.jpg\n",
            "Downloaded: 91px-Bangladesh_dotara.JPG\n",
            "Downloaded: 120px-Kabadi.jpg\n",
            "Downloaded: 120px-Boat_on_Jamuna_River.jpg\n",
            "Downloaded: 120px-Madhobpur_Lake_HR.jpg\n",
            "Downloaded: 120px-Goodmorning_Keokaradang_%286830453822%29.jpg\n",
            "Downloaded: 120px-%E0%A6%AA%E0%A6%BE%E0%A6%B9%E0%A6%BE%E0%A6%A1%E0%A6%BC%E0%A6%AA%E0%A7%81%E0%A6%B0_%E0%A6%AC%E0%A7%8C%E0%A6%A6%E0%A7%8D%E0%A6%A7_%E0%A6%AC%E0%A6%BF%E0%A6%B9%E0%A6%BE%E0%A6%B0_22.jpg\n",
            "Downloaded: 120px-Dhaka_LalbaghFort_07Feb15_MG_5777.jpg\n",
            "Failed to download 120px-Baitul_Mukarram_%28Arabic%2C_%D8%A8%D9%8A%D8%AA_%D8%A7%D9%84%D9%85%D9%83%D8%B1%D9%91%D9%85%3B_Bengali%2C_%E0%A6%AC%E0%A6%BE%E0%A6%AF%E0%A6%BC%E0%A6%A4%E0%A7%81%E0%A6%B2_%E0%A6%AE%E0%A7%81%E0%A6%95%E0%A6%BE%E0%A6%B0%E0%A6%B0%E0%A6%AE%3B_The_Holy_House%29.jpg: [Errno 36] File name too long: 'IMAGES_WEB/120px-Baitul_Mukarram_%28Arabic%2C_%D8%A8%D9%8A%D8%AA_%D8%A7%D9%84%D9%85%D9%83%D8%B1%D9%91%D9%85%3B_Bengali%2C_%E0%A6%AC%E0%A6%BE%E0%A6%AF%E0%A6%BC%E0%A6%A4%E0%A7%81%E0%A6%B2_%E0%A6%AE%E0%A7%81%E0%A6%95%E0%A6%BE%E0%A6%B0%E0%A6%B0%E0%A6%AE%3B_The_Holy_House%29.jpg'\n",
            "Downloaded: 120px-Hindu_Temple_in_Dhaka.jpg\n",
            "Downloaded: 120px-Ramna_park%2C_Dhaka%2C_Bangladesh_.jpg\n",
            "Downloaded: 120px-A_Road_of_Bhawal_Nationa_Park%2C_Gazipur.jpg\n",
            "Downloaded: 120px-Sundarbans-national-park.jpg\n",
            "Downloaded: 120px-Shahjalal_International_Airport_%2808%29.jpg\n",
            "Downloaded: 120px-Tomb_Of_Three_Leader_3.A.M.R.jpg\n",
            "Downloaded: 120px-Bangabandhu_National_Stadium%2C_Dhaka%2C_Bangladesh.jpg\n",
            "Downloaded: start?type=1x1\n",
            "Downloaded: wikimedia-button.png\n",
            "Downloaded: poweredby_mediawiki_88x31.png\n"
          ]
        }
      ]
    }
  ]
}