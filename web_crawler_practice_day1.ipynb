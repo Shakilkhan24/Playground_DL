{
  "nbformat": 4,
  "nbformat_minor": 0,
  "metadata": {
    "colab": {
      "provenance": [],
      "authorship_tag": "ABX9TyOpVvVLA2TM4HiymiaewXS4",
      "include_colab_link": true
    },
    "kernelspec": {
      "name": "python3",
      "display_name": "Python 3"
    },
    "language_info": {
      "name": "python"
    }
  },
  "cells": [
    {
      "cell_type": "markdown",
      "metadata": {
        "id": "view-in-github",
        "colab_type": "text"
      },
      "source": [
        "<a href=\"https://colab.research.google.com/github/Shakilkhan24/Playground_DL/blob/main/web_crawler_practice_day1.ipynb\" target=\"_parent\"><img src=\"https://colab.research.google.com/assets/colab-badge.svg\" alt=\"Open In Colab\"/></a>"
      ]
    },
    {
      "cell_type": "markdown",
      "source": [
        "link of this notebook:\n",
        "https://colab.research.google.com/drive/1k6aYFemdhZBB8q2gUXjE_SWbgf5Xaxsw#scrollTo=dADX1mBQE-Ya"
      ],
      "metadata": {
        "id": "m6pv4EQPN_k9"
      }
    },
    {
      "cell_type": "code",
      "execution_count": null,
      "metadata": {
        "id": "VKHF4N1Rrqx7"
      },
      "outputs": [],
      "source": [
        "from bs4 import BeautifulSoup"
      ]
    },
    {
      "cell_type": "code",
      "source": [
        "!pip install lxml"
      ],
      "metadata": {
        "colab": {
          "base_uri": "https://localhost:8080/"
        },
        "id": "JR77-gEZ865C",
        "outputId": "2cba5465-e3b0-450b-9469-46d33616eacf"
      },
      "execution_count": null,
      "outputs": [
        {
          "output_type": "stream",
          "name": "stdout",
          "text": [
            "Requirement already satisfied: lxml in /usr/local/lib/python3.10/dist-packages (4.9.4)\n"
          ]
        }
      ]
    },
    {
      "cell_type": "markdown",
      "source": [
        "\n",
        "# all links in a web page\n",
        "\n",
        "\n"
      ],
      "metadata": {
        "id": "9B78dJxcwmM6"
      }
    },
    {
      "cell_type": "markdown",
      "source": [
        "\n",
        "\n",
        "```\n",
        "# ***ALL LINKS IN AN ENTIRE WEB-SITE***\n",
        "```\n",
        "\n"
      ],
      "metadata": {
        "id": "0rp-wkHi6ybi"
      }
    },
    {
      "cell_type": "code",
      "source": [
        "import requests\n",
        "from bs4 import BeautifulSoup\n",
        "from urllib.parse import urlparse, urljoin\n",
        "\n",
        "def bfs_crawl(url, limit):\n",
        "    visited = set()\n",
        "    queue = [url]\n",
        "    count = 0\n",
        "    extracted_links = []\n",
        "\n",
        "    while queue and count < limit:\n",
        "        current_url = queue.pop(0)\n",
        "        visited.add(current_url)\n",
        "\n",
        "        try:\n",
        "            response = requests.get(current_url)\n",
        "        except requests.exceptions.RequestException:\n",
        "            continue\n",
        "\n",
        "        soup = BeautifulSoup(response.text, 'html.parser')\n",
        "\n",
        "        for link in soup.find_all('a'):\n",
        "            href = link.get('href')\n",
        "            if href:\n",
        "                absolute_url = urljoin(current_url, href)\n",
        "                parsed_url = urlparse(absolute_url)\n",
        "\n",
        "                if parsed_url.netloc == urlparse(url).netloc:\n",
        "                    if absolute_url not in visited and absolute_url not in queue:\n",
        "                        queue.append(absolute_url)\n",
        "                        visited.add(absolute_url)\n",
        "                        count += 1\n",
        "                        extracted_links.append(absolute_url)\n",
        "\n",
        "        print(f\"Crawled: {current_url}\")\n",
        "\n",
        "    return extracted_links\n",
        "\n",
        "\n",
        "start_url = \"https://www.google.com/search?client=firefox-b-d&q=cat+image\"\n",
        "extraction_limit = 1000\n",
        "links = bfs_crawl(start_url, extraction_limit)\n",
        "print(links)"
      ],
      "metadata": {
        "id": "DIXqDPVTEbGW"
      },
      "execution_count": null,
      "outputs": []
    },
    {
      "cell_type": "code",
      "source": [
        "len(links)"
      ],
      "metadata": {
        "colab": {
          "base_uri": "https://localhost:8080/"
        },
        "id": "dADX1mBQE-Ya",
        "outputId": "63f678bc-409c-45e1-90db-325887efc17e"
      },
      "execution_count": null,
      "outputs": [
        {
          "output_type": "execute_result",
          "data": {
            "text/plain": [
              "1079"
            ]
          },
          "metadata": {},
          "execution_count": 52
        }
      ]
    },
    {
      "cell_type": "code",
      "source": [
        "with open('example.txt', 'w') as f:\n",
        "  pass"
      ],
      "metadata": {
        "id": "_1qt7P-IKHLh"
      },
      "execution_count": null,
      "outputs": []
    },
    {
      "cell_type": "code",
      "source": [
        "with open('first.csv','w') as f:\n",
        "  pass\n"
      ],
      "metadata": {
        "id": "PVYOQY1jMBbO"
      },
      "execution_count": null,
      "outputs": []
    },
    {
      "cell_type": "markdown",
      "source": [
        "***Extracting text, images, videos, links , code snippets , and others ***"
      ],
      "metadata": {
        "id": "FLXpl7xUIxiR"
      }
    },
    {
      "cell_type": "code",
      "source": [
        "import requests\n",
        "from bs4 import BeautifulSoup\n",
        "import os\n",
        "import urllib.parse\n",
        "\n",
        "def extract_information(url):\n",
        "    response = requests.get(url)\n",
        "    soup = BeautifulSoup(response.text, 'html.parser')\n",
        "\n",
        "    text_content = soup.get_text()\n",
        "\n",
        "    links = []\n",
        "    for link in soup.find_all('a'):\n",
        "        links.append(link.get('href'))    # if href doesn't have https or www , then use urljoin from urllib.parse\n",
        "\n",
        "    img_urls = []\n",
        "    for img in soup.find_all('img'):\n",
        "        img_url = img.get('src')\n",
        "        if img_url:\n",
        "            img_urls.append(urllib.parse.urljoin(url, img_url))\n",
        "\n",
        "    video_urls = []\n",
        "    for video in soup.find_all('video'):\n",
        "        video_url = video.get('src')\n",
        "        if video_url:\n",
        "            video_urls.append(urllib.parse.urljoin(url, video_url))\n",
        "\n",
        "    code_snippets = []\n",
        "    for code_block in soup.find_all('code'):\n",
        "        code_snippets.append(code_block.get_text())\n",
        "    return text_content, links, img_urls, video_urls, code_snippets\n",
        "\n",
        "\n"
      ],
      "metadata": {
        "id": "QTSsaO7eM3EX"
      },
      "execution_count": 1,
      "outputs": []
    }
  ]
}