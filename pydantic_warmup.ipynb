{
  "nbformat": 4,
  "nbformat_minor": 0,
  "metadata": {
    "colab": {
      "provenance": [],
      "authorship_tag": "ABX9TyPfnnb6TPnFVcbo8XWTGkF5",
      "include_colab_link": true
    },
    "kernelspec": {
      "name": "python3",
      "display_name": "Python 3"
    },
    "language_info": {
      "name": "python"
    }
  },
  "cells": [
    {
      "cell_type": "markdown",
      "metadata": {
        "id": "view-in-github",
        "colab_type": "text"
      },
      "source": [
        "<a href=\"https://colab.research.google.com/github/Shakilkhan24/Playground_DL/blob/main/pydantic_warmup.ipynb\" target=\"_parent\"><img src=\"https://colab.research.google.com/assets/colab-badge.svg\" alt=\"Open In Colab\"/></a>"
      ]
    },
    {
      "cell_type": "code",
      "execution_count": 39,
      "metadata": {
        "colab": {
          "base_uri": "https://localhost:8080/"
        },
        "id": "5FlRikiYIbQB",
        "outputId": "05fe528d-4948-4149-fae0-d8528ebeac6f"
      },
      "outputs": [
        {
          "output_type": "stream",
          "name": "stdout",
          "text": [
            "Requirement already satisfied: pydantic in /usr/local/lib/python3.10/dist-packages (2.6.4)\n",
            "Requirement already satisfied: annotated-types>=0.4.0 in /usr/local/lib/python3.10/dist-packages (from pydantic) (0.6.0)\n",
            "Requirement already satisfied: pydantic-core==2.16.3 in /usr/local/lib/python3.10/dist-packages (from pydantic) (2.16.3)\n",
            "Requirement already satisfied: typing-extensions>=4.6.1 in /usr/local/lib/python3.10/dist-packages (from pydantic) (4.10.0)\n"
          ]
        }
      ],
      "source": [
        "!pip install -U pydantic\n"
      ]
    },
    {
      "cell_type": "code",
      "source": [
        "from pydantic import BaseModel,Field\n",
        "\n",
        "class User(BaseModel):\n",
        "    id: int\n",
        "    name: str\n",
        "    email: str =Field()\n",
        "\n",
        "user_data = {\n",
        "    \"id\": 1,\n",
        "    \"name\": \"shakil\",\n",
        "    \"email\": \"sk2448868@example.com\"\n",
        "}\n",
        "user = User(**user_data)"
      ],
      "metadata": {
        "id": "QvGIPfCPLPmq"
      },
      "execution_count": 9,
      "outputs": []
    },
    {
      "cell_type": "code",
      "source": [
        "print(user.id)\n",
        "print(user.name)\n",
        "print(user.email)"
      ],
      "metadata": {
        "colab": {
          "base_uri": "https://localhost:8080/"
        },
        "id": "wXglvAIRJupe",
        "outputId": "f6b3627f-bfc8-4d07-82a4-7470d5c4e8ed"
      },
      "execution_count": 10,
      "outputs": [
        {
          "output_type": "stream",
          "name": "stdout",
          "text": [
            "1\n",
            "shakil\n",
            "sk2448868@example.com\n"
          ]
        }
      ]
    },
    {
      "cell_type": "markdown",
      "source": [
        "# Nested models"
      ],
      "metadata": {
        "id": "rqm9UiX0Pint"
      }
    },
    {
      "cell_type": "code",
      "source": [
        "class Custom_data(BaseModel):\n",
        "  z:str\n",
        "\n",
        "class a(BaseModel):\n",
        "  x:int                                     # x:int=5 , this is default values\n",
        "  y:Custom_data\n",
        "\n",
        "custom_data=Custom_data(z='shakil')\n",
        "A=a(x=5,y=custom_data)"
      ],
      "metadata": {
        "id": "NHJyDPQWJ0C3"
      },
      "execution_count": 11,
      "outputs": []
    },
    {
      "cell_type": "code",
      "source": [
        "from pydantic import BaseModel\n",
        "\n",
        "class Address(BaseModel):\n",
        "    street: str\n",
        "    city: str\n",
        "\n",
        "class Person(BaseModel):\n",
        "    name: str\n",
        "    age: int\n",
        "    address: Address\n",
        "\n",
        "person_data = {\n",
        "    \"name\": \"John Doe\",\n",
        "    \"age\": 25,\n",
        "    \"address\": {\n",
        "        \"street\": \"123 Main St\",\n",
        "        \"city\": \"Example City\"\n",
        "    }\n",
        "}\n",
        "person = Person(**person_data)\n",
        "print(person.dict())  # Output: {'name': 'John Doe', 'age': 25, 'address': {'street': '123 Main St', 'city': 'Example City'}}"
      ],
      "metadata": {
        "colab": {
          "base_uri": "https://localhost:8080/"
        },
        "id": "fFtNR4UNXZYJ",
        "outputId": "e5894f5d-5a39-4a82-8c14-a7923309ce63"
      },
      "execution_count": 32,
      "outputs": [
        {
          "output_type": "stream",
          "name": "stdout",
          "text": [
            "{'name': 'John Doe', 'age': 25, 'address': {'street': '123 Main St', 'city': 'Example City'}}\n"
          ]
        }
      ]
    },
    {
      "cell_type": "markdown",
      "source": [
        "# list of models"
      ],
      "metadata": {
        "id": "px50aRjcXr2V"
      }
    },
    {
      "cell_type": "code",
      "source": [
        "from pydantic import BaseModel\n",
        "from typing import List\n",
        "\n",
        "class Item(BaseModel):\n",
        "    name: str\n",
        "    price: float\n",
        "\n",
        "class Cart(BaseModel):\n",
        "    items: List[Item]\n",
        "\n",
        "cart_data = {\n",
        "    \"items\": [\n",
        "        {\"name\": \"Item 1\", \"price\": 9.99},\n",
        "        {\"name\": \"Item 2\", \"price\": 14.99}\n",
        "    ]\n",
        "}\n",
        "cart = Cart(**cart_data)\n",
        "print(cart.dict())  # Output: {'items': [{'name': 'Item 1', 'price': 9.99}, {'name': 'Item 2', 'price': 14.99}]}"
      ],
      "metadata": {
        "colab": {
          "base_uri": "https://localhost:8080/"
        },
        "id": "20Xd_O93XqkQ",
        "outputId": "2c70196b-5e29-4506-e6ca-39b83fdb1f7e"
      },
      "execution_count": 34,
      "outputs": [
        {
          "output_type": "stream",
          "name": "stdout",
          "text": [
            "{'items': [{'name': 'Item 1', 'price': 9.99}, {'name': 'Item 2', 'price': 14.99}]}\n"
          ]
        }
      ]
    },
    {
      "cell_type": "code",
      "source": [
        "from pydantic import BaseModel, field_validator\n",
        "\n",
        "class User(BaseModel):\n",
        "    username: str\n",
        "\n",
        "    @field_validator('username')\n",
        "    @classmethod\n",
        "    def validate_username(cls, value:str):\n",
        "        if len(value) < 3:\n",
        "            raise ValueError(\"Username must be at least 3 characters long\")\n",
        "        return value\n",
        "\n",
        "user = User(username=\"shakil\")\n",
        "# Validation error: Username must be at least 3 characters long"
      ],
      "metadata": {
        "id": "VtaYlpu5YGAr"
      },
      "execution_count": 47,
      "outputs": []
    },
    {
      "cell_type": "code",
      "source": [],
      "metadata": {
        "id": "e6W7UyypbK6B"
      },
      "execution_count": null,
      "outputs": []
    },
    {
      "cell_type": "code",
      "source": [
        "user_1=User(username='hi')"
      ],
      "metadata": {
        "colab": {
          "base_uri": "https://localhost:8080/",
          "height": 323
        },
        "id": "vqPylMq3a7by",
        "outputId": "db202207-76ea-4d65-c8fc-6c98e0137593"
      },
      "execution_count": 48,
      "outputs": [
        {
          "output_type": "error",
          "ename": "ValidationError",
          "evalue": "1 validation error for User\nusername\n  Value error, Username must be at least 3 characters long [type=value_error, input_value='hi', input_type=str]\n    For further information visit https://errors.pydantic.dev/2.6/v/value_error",
          "traceback": [
            "\u001b[0;31m---------------------------------------------------------------------------\u001b[0m",
            "\u001b[0;31mValidationError\u001b[0m                           Traceback (most recent call last)",
            "\u001b[0;32m<ipython-input-48-b52967ef1534>\u001b[0m in \u001b[0;36m<cell line: 1>\u001b[0;34m()\u001b[0m\n\u001b[0;32m----> 1\u001b[0;31m \u001b[0muser_1\u001b[0m\u001b[0;34m=\u001b[0m\u001b[0mUser\u001b[0m\u001b[0;34m(\u001b[0m\u001b[0musername\u001b[0m\u001b[0;34m=\u001b[0m\u001b[0;34m'hi'\u001b[0m\u001b[0;34m)\u001b[0m\u001b[0;34m\u001b[0m\u001b[0;34m\u001b[0m\u001b[0m\n\u001b[0m",
            "\u001b[0;32m/usr/local/lib/python3.10/dist-packages/pydantic/main.py\u001b[0m in \u001b[0;36m__init__\u001b[0;34m(self, **data)\u001b[0m\n\u001b[1;32m    169\u001b[0m         \u001b[0;31m# `__tracebackhide__` tells pytest and some other tools to omit this function from tracebacks\u001b[0m\u001b[0;34m\u001b[0m\u001b[0;34m\u001b[0m\u001b[0m\n\u001b[1;32m    170\u001b[0m         \u001b[0m__tracebackhide__\u001b[0m \u001b[0;34m=\u001b[0m \u001b[0;32mTrue\u001b[0m\u001b[0;34m\u001b[0m\u001b[0;34m\u001b[0m\u001b[0m\n\u001b[0;32m--> 171\u001b[0;31m         \u001b[0mself\u001b[0m\u001b[0;34m.\u001b[0m\u001b[0m__pydantic_validator__\u001b[0m\u001b[0;34m.\u001b[0m\u001b[0mvalidate_python\u001b[0m\u001b[0;34m(\u001b[0m\u001b[0mdata\u001b[0m\u001b[0;34m,\u001b[0m \u001b[0mself_instance\u001b[0m\u001b[0;34m=\u001b[0m\u001b[0mself\u001b[0m\u001b[0;34m)\u001b[0m\u001b[0;34m\u001b[0m\u001b[0;34m\u001b[0m\u001b[0m\n\u001b[0m\u001b[1;32m    172\u001b[0m \u001b[0;34m\u001b[0m\u001b[0m\n\u001b[1;32m    173\u001b[0m     \u001b[0;31m# The following line sets a flag that we use to determine when `__init__` gets overridden by the user\u001b[0m\u001b[0;34m\u001b[0m\u001b[0;34m\u001b[0m\u001b[0m\n",
            "\u001b[0;31mValidationError\u001b[0m: 1 validation error for User\nusername\n  Value error, Username must be at least 3 characters long [type=value_error, input_value='hi', input_type=str]\n    For further information visit https://errors.pydantic.dev/2.6/v/value_error"
          ]
        }
      ]
    },
    {
      "cell_type": "code",
      "source": [
        "class Moun(BaseModel):\n",
        "  x:int\n",
        "  y:int\n",
        "\n",
        "  @field_validator('x')\n",
        "  @classmethod\n",
        "  def func(cls,x:int):\n",
        "    if x%2!=0:\n",
        "      raise ValueError('it is not an even number')\n",
        "    else:\n",
        "      return x\n",
        "\n",
        "\n",
        "  @field_validator('y')\n",
        "  @classmethod\n",
        "  def func2(cls,y:int):\n",
        "    if y%2==0:\n",
        "      raise ValueError('it is a even number')\n",
        "    else:\n",
        "      return y"
      ],
      "metadata": {
        "id": "cfUjtBeAbMMv"
      },
      "execution_count": 50,
      "outputs": []
    },
    {
      "cell_type": "code",
      "source": [
        "xx=Moun(x=8,y=7)\n",
        "xx.dict()"
      ],
      "metadata": {
        "colab": {
          "base_uri": "https://localhost:8080/"
        },
        "id": "RKBn2cc8a2qC",
        "outputId": "eacca9e8-9f88-40ec-ae8d-27f69d09f19a"
      },
      "execution_count": 52,
      "outputs": [
        {
          "output_type": "execute_result",
          "data": {
            "text/plain": [
              "{'x': 8, 'y': 7}"
            ]
          },
          "metadata": {},
          "execution_count": 52
        }
      ]
    },
    {
      "cell_type": "code",
      "source": [],
      "metadata": {
        "id": "O-q4IcNKgnaj"
      },
      "execution_count": null,
      "outputs": []
    },
    {
      "cell_type": "code",
      "source": [],
      "metadata": {
        "id": "tJAWM5lpcV_-"
      },
      "execution_count": null,
      "outputs": []
    }
  ]
}